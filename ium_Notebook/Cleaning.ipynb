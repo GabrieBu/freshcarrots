{
 "cells": [
  {
   "cell_type": "markdown",
   "metadata": {},
   "source": [
    "# File di pulizia dei dati\n",
    "\n",
    "Abbiamo utilizzato questo file per separare la pulizia della struttura dei dati dalla analisi diretta delle informazioni \n",
    "\n"
   ]
  },
  {
   "cell_type": "code",
   "execution_count": 20,
   "metadata": {},
   "outputs": [],
   "source": [
    "import pandas as pd \n",
    "df_actors=pd.read_csv(\"C:\\\\Users\\\\andre\\\\Desktop\\\\Dati_Tweb\\\\actors.csv\")\n",
    "df_countries=pd.read_csv(\"C:\\\\Users\\\\andre\\\\Desktop\\\\Dati_Tweb\\\\countries.csv\")\n",
    "df_crew=pd.read_csv(\"C:\\\\Users\\\\andre\\\\Desktop\\\\Dati_Tweb\\\\crew.csv\")\n",
    "df_genres=pd.read_csv(\"C:\\\\Users\\\\andre\\\\Desktop\\\\Dati_Tweb\\\\genres.csv\")\n",
    "df_languages=pd.read_csv(\"C:\\\\Users\\\\andre\\\\Desktop\\\\Dati_Tweb\\\\languages.csv\")\n",
    "df_movies=pd.read_csv(\"C:\\\\Users\\\\andre\\\\Desktop\\\\Dati_Tweb\\\\movies.csv\")\n",
    "df_posters=pd.read_csv(\"C:\\\\Users\\\\andre\\\\Desktop\\\\Dati_Tweb\\\\posters.csv\")\n",
    "df_releases=pd.read_csv(\"C:\\\\Users\\\\andre\\\\Desktop\\\\Dati_Tweb\\\\releases.csv\")\n",
    "df_studios=pd.read_csv(\"C:\\\\Users\\\\andre\\\\Desktop\\\\Dati_Tweb\\\\studios.csv\")\n",
    "df_themes=pd.read_csv(\"C:\\\\Users\\\\andre\\\\Desktop\\\\Dati_Tweb\\\\themes.csv\")\n",
    "df_tomatoes=pd.read_csv(\"C:\\\\Users\\\\andre\\\\Desktop\\\\Dati_Tweb\\\\aggiuntivi\\\\rotten_tomatoes_reviews.csv\")\n",
    "df_oscars=pd.read_csv(\"C:\\\\Users\\\\andre\\\\Desktop\\\\Dati_Tweb\\\\aggiuntivi\\\\the_oscar_awards.csv\")\n",
    "\n"
   ]
  },
  {
   "cell_type": "markdown",
   "metadata": {},
   "source": [
    "# Analisi di ogni file per la pulizia dei dati \n"
   ]
  },
  {
   "cell_type": "markdown",
   "metadata": {},
   "source": [
    "## Analisi actors.csv\n"
   ]
  },
  {
   "cell_type": "code",
   "execution_count": 21,
   "metadata": {},
   "outputs": [
    {
     "data": {
      "text/plain": [
       "(5798450, 3)"
      ]
     },
     "execution_count": 21,
     "metadata": {},
     "output_type": "execute_result"
    }
   ],
   "source": [
    "df_actors.shape\n"
   ]
  },
  {
   "cell_type": "code",
   "execution_count": 46,
   "metadata": {},
   "outputs": [
    {
     "data": {
      "text/plain": [
       "id_Film     int64\n",
       "name       object\n",
       "role       object\n",
       "dtype: object"
      ]
     },
     "execution_count": 46,
     "metadata": {},
     "output_type": "execute_result"
    }
   ],
   "source": [
    "\n",
    "df_actors.rename(columns={'id': 'id_film'}, inplace=True)\n",
    "df_actors['name']=df_actors['name'].astype(\"str\")\n",
    "df_actors.dtypes"
   ]
  },
  {
   "cell_type": "code",
   "execution_count": 47,
   "metadata": {},
   "outputs": [
    {
     "data": {
      "text/html": [
       "<div>\n",
       "<style scoped>\n",
       "    .dataframe tbody tr th:only-of-type {\n",
       "        vertical-align: middle;\n",
       "    }\n",
       "\n",
       "    .dataframe tbody tr th {\n",
       "        vertical-align: top;\n",
       "    }\n",
       "\n",
       "    .dataframe thead th {\n",
       "        text-align: right;\n",
       "    }\n",
       "</style>\n",
       "<table border=\"1\" class=\"dataframe\">\n",
       "  <thead>\n",
       "    <tr style=\"text-align: right;\">\n",
       "      <th></th>\n",
       "      <th>id_Film</th>\n",
       "      <th>name</th>\n",
       "      <th>role</th>\n",
       "    </tr>\n",
       "  </thead>\n",
       "  <tbody>\n",
       "    <tr>\n",
       "      <th>0</th>\n",
       "      <td>1000001</td>\n",
       "      <td>Margot Robbie</td>\n",
       "      <td>Barbie</td>\n",
       "    </tr>\n",
       "    <tr>\n",
       "      <th>1</th>\n",
       "      <td>1000001</td>\n",
       "      <td>Ryan Gosling</td>\n",
       "      <td>Ken</td>\n",
       "    </tr>\n",
       "    <tr>\n",
       "      <th>2</th>\n",
       "      <td>1000001</td>\n",
       "      <td>America Ferrera</td>\n",
       "      <td>Gloria</td>\n",
       "    </tr>\n",
       "    <tr>\n",
       "      <th>3</th>\n",
       "      <td>1000001</td>\n",
       "      <td>Ariana Greenblatt</td>\n",
       "      <td>Sasha</td>\n",
       "    </tr>\n",
       "    <tr>\n",
       "      <th>4</th>\n",
       "      <td>1000001</td>\n",
       "      <td>Issa Rae</td>\n",
       "      <td>Barbie</td>\n",
       "    </tr>\n",
       "  </tbody>\n",
       "</table>\n",
       "</div>"
      ],
      "text/plain": [
       "   id_Film               name    role\n",
       "0  1000001      Margot Robbie  Barbie\n",
       "1  1000001       Ryan Gosling     Ken\n",
       "2  1000001    America Ferrera  Gloria\n",
       "3  1000001  Ariana Greenblatt   Sasha\n",
       "4  1000001           Issa Rae  Barbie"
      ]
     },
     "execution_count": 47,
     "metadata": {},
     "output_type": "execute_result"
    }
   ],
   "source": [
    "df_actors.head()"
   ]
  },
  {
   "cell_type": "markdown",
   "metadata": {},
   "source": [
    "Possiamo notare come non ci siano valori nulli all'interno del dataset come nomi, mentre sono presenti più valori nulli all'interno dei ruoli che quindi valuteremo come \"Extra\" e riassegneremo il valore"
   ]
  },
  {
   "cell_type": "code",
   "execution_count": 49,
   "metadata": {},
   "outputs": [],
   "source": [
    "#(df_actors[\"role\"]==\"Extra\").sum()\n",
    "df_actors.fillna({\"role\":\"Extra\"},inplace=True)\n",
    "#print(type(df_actors['role'][0]))\n",
    "\n",
    "#df_actors.query('name==\"Nan\"')\n",
    "#df_actors.query('role==\"Nan\"')\n",
    "#print(type(df_actors.loc[80182]['role']))\n",
    " #df_actors.query('role==\"Nan\"')"
   ]
  },
  {
   "cell_type": "markdown",
   "metadata": {},
   "source": [
    "Controllo dei valori duplicati"
   ]
  },
  {
   "cell_type": "code",
   "execution_count": 50,
   "metadata": {},
   "outputs": [
    {
     "data": {
      "text/plain": [
       "np.int64(946)"
      ]
     },
     "execution_count": 50,
     "metadata": {},
     "output_type": "execute_result"
    }
   ],
   "source": [
    "#sono presenti duplicati\n",
    "df_actors.duplicated().sum()"
   ]
  },
  {
   "cell_type": "code",
   "execution_count": 55,
   "metadata": {},
   "outputs": [
    {
     "name": "stdout",
     "output_type": "stream",
     "text": [
      "         id_Film            name                 role\n",
      "5797499  1941596         Marc Ma            Ba Cai/巴莱\n",
      "5797500  1941596             线雨轩              Tata/塔塔\n",
      "5797501  1941596    Jiang Yixuan  Zuo Yila（Zoila）/佐伊拉\n",
      "5797502  1941597  Hiroshi Mikami                Extra\n",
      "5797503  1941597   Keiko Oginome                Extra\n"
     ]
    }
   ],
   "source": [
    "#visualizzazioni dei duplicati in ogni colonna  \n",
    "#df_actors.loc[df_actors.duplicated(subset=[\"id_Film\",\"name\",\"role\"])]\n",
    "\n",
    "#rimozione dei duplicati\n",
    "df_actors.drop_duplicates(inplace=True)\n",
    "\n",
    "df_actors.reset_index(drop=True,inplace=True)\n",
    "\n",
    "print(df_actors.tail())\n"
   ]
  },
  {
   "cell_type": "code",
   "execution_count": 56,
   "metadata": {},
   "outputs": [
    {
     "data": {
      "text/plain": [
       "(5797504, 3)"
      ]
     },
     "execution_count": 56,
     "metadata": {},
     "output_type": "execute_result"
    }
   ],
   "source": [
    "#Per conoscere la situazione finale \n",
    "df_actors.shape    "
   ]
  },
  {
   "cell_type": "markdown",
   "metadata": {},
   "source": [
    "## Analisi countries.csv"
   ]
  },
  {
   "cell_type": "code",
   "execution_count": null,
   "metadata": {},
   "outputs": [
    {
     "name": "stdout",
     "output_type": "stream",
     "text": [
      "        id      country\n",
      "0  1000001           UK\n",
      "1  1000001          USA\n",
      "2  1000002  South Korea\n",
      "3  1000003          USA\n",
      "4  1000004      Germany\n"
     ]
    }
   ],
   "source": [
    "df_countries.shape\n",
    "\n",
    "print(df_countries.head())\n",
    "\n",
    "df_countries"
   ]
  },
  {
   "cell_type": "code",
   "execution_count": 11,
   "metadata": {},
   "outputs": [
    {
     "data": {
      "text/plain": [
       "id          int64\n",
       "country    object\n",
       "dtype: object"
      ]
     },
     "execution_count": 11,
     "metadata": {},
     "output_type": "execute_result"
    }
   ],
   "source": [
    "df_countries.dtypes"
   ]
  },
  {
   "cell_type": "code",
   "execution_count": 63,
   "metadata": {},
   "outputs": [
    {
     "data": {
      "text/plain": [
       "id_film     int64\n",
       "country    object\n",
       "dtype: object"
      ]
     },
     "execution_count": 63,
     "metadata": {},
     "output_type": "execute_result"
    }
   ],
   "source": [
    "#df_actors['name']=df_actors['name'].astype(\"str\")\n",
    "df_countries.rename(columns={'id': 'id_film'}, inplace=True)\n",
    "\n",
    "df_countries.dtypes\n"
   ]
  },
  {
   "cell_type": "code",
   "execution_count": 64,
   "metadata": {},
   "outputs": [
    {
     "data": {
      "text/plain": [
       "id_film    0\n",
       "country    0\n",
       "dtype: int64"
      ]
     },
     "execution_count": 64,
     "metadata": {},
     "output_type": "execute_result"
    }
   ],
   "source": [
    "#Non sono presenti valori NaN\n",
    "df_countries.isna().sum()"
   ]
  },
  {
   "cell_type": "code",
   "execution_count": 65,
   "metadata": {},
   "outputs": [
    {
     "data": {
      "text/plain": [
       "np.int64(0)"
      ]
     },
     "execution_count": 65,
     "metadata": {},
     "output_type": "execute_result"
    }
   ],
   "source": [
    "#Non sono presenti duplicati\n",
    "df_countries.duplicated().sum()"
   ]
  },
  {
   "cell_type": "markdown",
   "metadata": {},
   "source": [
    "## Analisi crew.csv"
   ]
  },
  {
   "cell_type": "code",
   "execution_count": 14,
   "metadata": {},
   "outputs": [
    {
     "data": {
      "text/plain": [
       "(4720183, 3)"
      ]
     },
     "execution_count": 14,
     "metadata": {},
     "output_type": "execute_result"
    }
   ],
   "source": [
    "df_crew.shape"
   ]
  },
  {
   "cell_type": "code",
   "execution_count": 82,
   "metadata": {},
   "outputs": [
    {
     "data": {
      "text/plain": [
       "id_film     int64\n",
       "role       object\n",
       "name       object\n",
       "dtype: object"
      ]
     },
     "execution_count": 82,
     "metadata": {},
     "output_type": "execute_result"
    }
   ],
   "source": [
    "df_crew.dtypes\n",
    "df_crew.rename(columns={'id': 'id_film'}, inplace=True)\n",
    "\n",
    "\n",
    "#df_actors['name']=df_actors['name'].astype(\"str\")\n",
    "#print(type(df_crew['role'][0]))"
   ]
  },
  {
   "cell_type": "code",
   "execution_count": 79,
   "metadata": {},
   "outputs": [
    {
     "name": "stdout",
     "output_type": "stream",
     "text": [
      "              id    role name\n",
      "4562126  1859397  Writer  NaN\n"
     ]
    }
   ],
   "source": [
    "#Viene trovato un valore null come nome\n",
    "Row_nun=df_crew.loc[df_crew['name'].isna()]\n",
    "#Row_nun=df_crew.loc[df_crew['name']==\"Unknown\"]\n",
    "print(Row_nun)"
   ]
  },
  {
   "cell_type": "code",
   "execution_count": 80,
   "metadata": {},
   "outputs": [
    {
     "data": {
      "text/html": [
       "<div>\n",
       "<style scoped>\n",
       "    .dataframe tbody tr th:only-of-type {\n",
       "        vertical-align: middle;\n",
       "    }\n",
       "\n",
       "    .dataframe tbody tr th {\n",
       "        vertical-align: top;\n",
       "    }\n",
       "\n",
       "    .dataframe thead th {\n",
       "        text-align: right;\n",
       "    }\n",
       "</style>\n",
       "<table border=\"1\" class=\"dataframe\">\n",
       "  <thead>\n",
       "    <tr style=\"text-align: right;\">\n",
       "      <th></th>\n",
       "      <th>id</th>\n",
       "      <th>name</th>\n",
       "      <th>date</th>\n",
       "      <th>tagline</th>\n",
       "      <th>description</th>\n",
       "      <th>minute</th>\n",
       "      <th>rating</th>\n",
       "    </tr>\n",
       "  </thead>\n",
       "  <tbody>\n",
       "    <tr>\n",
       "      <th>859396</th>\n",
       "      <td>1859397</td>\n",
       "      <td>Naniwa Danshi LIVE TOUR 2023 'POPMALL'</td>\n",
       "      <td>2024.0</td>\n",
       "      <td>NaN</td>\n",
       "      <td>Naniwa Danshi LIVE TOUR 2023 'POPMALL' is a li...</td>\n",
       "      <td>146.0</td>\n",
       "      <td>NaN</td>\n",
       "    </tr>\n",
       "  </tbody>\n",
       "</table>\n",
       "</div>"
      ],
      "text/plain": [
       "             id                                    name    date tagline  \\\n",
       "859396  1859397  Naniwa Danshi LIVE TOUR 2023 'POPMALL'  2024.0     NaN   \n",
       "\n",
       "                                              description  minute  rating  \n",
       "859396  Naniwa Danshi LIVE TOUR 2023 'POPMALL' is a li...   146.0     NaN  "
      ]
     },
     "execution_count": 80,
     "metadata": {},
     "output_type": "execute_result"
    }
   ],
   "source": [
    "df_movies.loc[df_movies[\"id\"]==1859397]\n",
    "#df_crew.loc[df_crew[\"id\"]==1859397]\n",
    "\n",
    "#scegliere se rimuoverlo o no \n",
    "#df_crew.dropna(inplace=True) \\\n",
    "  #  .reset_index(drop=True)"
   ]
  },
  {
   "cell_type": "markdown",
   "metadata": {},
   "source": [
    "## Analisi di genres.csv"
   ]
  },
  {
   "cell_type": "code",
   "execution_count": 18,
   "metadata": {},
   "outputs": [
    {
     "data": {
      "text/plain": [
       "(1046849, 2)"
      ]
     },
     "execution_count": 18,
     "metadata": {},
     "output_type": "execute_result"
    }
   ],
   "source": [
    "df_genres.shape"
   ]
  },
  {
   "cell_type": "code",
   "execution_count": null,
   "metadata": {},
   "outputs": [
    {
     "name": "stdout",
     "output_type": "stream",
     "text": [
      "<class 'str'>\n"
     ]
    }
   ],
   "source": [
    "df_genres.rename(columns={'id': 'id_film'}, inplace=True)\n",
    "\n",
    "df_genres.dtypes\n",
    "\n",
    "print(type(df_genres['genre'][0]))\n",
    "\n",
    "df_genres\n"
   ]
  },
  {
   "cell_type": "code",
   "execution_count": 88,
   "metadata": {},
   "outputs": [
    {
     "data": {
      "text/plain": [
       "id_film    0\n",
       "genre      0\n",
       "dtype: int64"
      ]
     },
     "execution_count": 88,
     "metadata": {},
     "output_type": "execute_result"
    }
   ],
   "source": [
    "df_genres.isna().sum()\n",
    "\n",
    "#print(df_genres[\"genre\"].unique())"
   ]
  },
  {
   "cell_type": "code",
   "execution_count": 89,
   "metadata": {},
   "outputs": [
    {
     "data": {
      "text/plain": [
       "np.int64(0)"
      ]
     },
     "execution_count": 89,
     "metadata": {},
     "output_type": "execute_result"
    }
   ],
   "source": [
    "df_genres.duplicated().sum()"
   ]
  },
  {
   "cell_type": "markdown",
   "metadata": {},
   "source": [
    "## Analisi di languages.csv"
   ]
  },
  {
   "cell_type": "code",
   "execution_count": 22,
   "metadata": {},
   "outputs": [
    {
     "data": {
      "text/plain": [
       "(1038762, 3)"
      ]
     },
     "execution_count": 22,
     "metadata": {},
     "output_type": "execute_result"
    }
   ],
   "source": [
    "df_languages.shape"
   ]
  },
  {
   "cell_type": "code",
   "execution_count": 95,
   "metadata": {},
   "outputs": [
    {
     "data": {
      "text/plain": [
       "id           int64\n",
       "type        object\n",
       "language    object\n",
       "dtype: object"
      ]
     },
     "execution_count": 95,
     "metadata": {},
     "output_type": "execute_result"
    }
   ],
   "source": [
    "\n",
    "\n",
    "df_languages.rename(columns={'id': 'id_film'}, inplace=True)\n",
    "\n",
    "df_languages.dtypes\n",
    "\n",
    "#print(type(df_languages['type'][0]))"
   ]
  },
  {
   "cell_type": "code",
   "execution_count": 111,
   "metadata": {},
   "outputs": [
    {
     "data": {
      "text/plain": [
       "array(['English', 'Korean', 'German', 'Cantonese', 'Chinese', 'Dutch',\n",
       "       'Spanish', 'French', 'Japanese', 'Swedish', 'Swahili',\n",
       "       'Portuguese', 'Hindi', 'Italian', 'Tagalog', 'Xhosa', 'Latin',\n",
       "       'Russian', 'Finnish', 'Hungarian', 'Somali', 'Romanian',\n",
       "       'Vietnamese', 'Turkish', 'Czech', 'Estonian', 'Persian (Farsi)',\n",
       "       'Urdu', 'Arabic', 'Polish', 'Hebrew (modern)', 'Greek (modern)',\n",
       "       'Yiddish', 'Norwegian', 'Haitian, Haitian Creole', 'Khmer',\n",
       "       'Nepali', 'Akan', 'Icelandic', 'Malay',\n",
       "       'Eastern Punjabi, Eastern Panjabi', 'Georgian', 'Indonesian',\n",
       "       'Belarusian', 'Danish', 'Tamil', 'Sinhalese, Sinhala',\n",
       "       'Tibetan Standard, Tibetan, Central', 'Armenian', 'Thai', 'Telugu',\n",
       "       'Scottish Gaelic, Gaelic', 'Northern Sami', 'Esperanto',\n",
       "       'Bulgarian', 'Afrikaans', 'Chichewa, Chewa, Nyanja',\n",
       "       'Southern Sotho', 'Zulu', 'Irish', 'Breton', 'Croatian',\n",
       "       'Bengali, Bangla', 'Welsh', 'Navajo, Navaho', 'Albanian',\n",
       "       'Inuktitut', 'Catalan', 'Quechua', 'Azerbaijani', 'Samoan',\n",
       "       'Ukrainian', 'Mongolian', 'Māori', 'Tatar', 'Mayan',\n",
       "       'Fula, Fulah, Pulaar, Pular', 'Slovak', 'Lithuanian', 'Cree',\n",
       "       'Lao', 'Galician', 'Amharic', 'Serbian', 'Moldavian',\n",
       "       'Serbo-Croatian', 'Cornish', 'Wolof', 'Pashto, Pushto', 'Twi',\n",
       "       'Corsican', 'Bambara', 'Sanskrit (Saṁskṛta)', 'Macedonian',\n",
       "       'Burmese', 'Maltese', 'Bosnian', 'No spoken language', 'Marathi',\n",
       "       'Ido', 'Guaraní', 'Kurdish', 'Ganda', 'Hausa', 'Tahitian',\n",
       "       'Latvian', 'Lingala', 'Gujarati', 'Malayalam', 'Basque',\n",
       "       'Javanese', 'Tswana', 'Sundanese', 'Kinyarwanda', 'Kirundi',\n",
       "       'Afar', 'Dzongkha', 'Tola', 'Kannada', 'Uzbek', 'Ojibwe, Ojibwa',\n",
       "       'Igbo', 'Ewe', 'Pāli', 'Chechen', 'Kashmiri', 'Oromo',\n",
       "       'Kalaallisut, Greenlandic', 'Tajik', 'Slovene', 'Aymara',\n",
       "       'Sardinian', 'Assamese', 'Ossetian, Ossetic', 'Occitan', 'Avaric',\n",
       "       'Bislama', 'Kyrgyz', 'Kazakh', 'Aragonese', 'Yolngu matha',\n",
       "       'Malagasy', 'Gibberish', 'Kikuyu, Gikuyu', 'Yoruba', 'Maithili',\n",
       "       'Uyghur', 'Sango', 'Nuosu', 'Hiri Motu', 'Kongo',\n",
       "       'Tonga (Tonga Islands)', 'Shona', 'Luxembourgish, Letzeburgesch',\n",
       "       'Sindhi', 'Chuvash', 'Fijian', 'Mari', 'Walloon', 'Abkhaz',\n",
       "       'Inupiaq', 'Turkmen', 'Faroese', 'Marshallese', 'Romansh',\n",
       "       'Western Frisian', 'Norwegian Bokmål', 'Oriya',\n",
       "       'Old Church Slavonic, Church Slavonic, Old Bulgarian', 'Herero',\n",
       "       'Southern Ndebele', 'Tigrinya', 'Ndonga',\n",
       "       'Limburgish, Limburgan, Limburger', 'Swati', 'Norwegian Nynorsk',\n",
       "       'Bashkir', 'Interlingue', 'Manx', 'Nauruan',\n",
       "       'Divehi, Dhivehi, Maldivian', 'Venda', 'Interlingua',\n",
       "       'Northern Ndebele', 'Chamorro', 'Zhuang, Chuang', 'Luba-Katanga',\n",
       "       'Kwanyama, Kuanyama', 'Tsonga', 'Komi', 'Avestan', 'Volapük'],\n",
       "      dtype=object)"
      ]
     },
     "execution_count": 111,
     "metadata": {},
     "output_type": "execute_result"
    }
   ],
   "source": [
    "df_languages.isna().sum()\n",
    "#df_languages[\"language\"].replace({\"\\xa0\":\" \"},inplace=True)\n",
    "df_languages[\"language\"] = df_languages[\"language\"].replace('Persian\\xa0(Farsi)', 'Persian (Farsi)')\n",
    "df_languages[\"language\"] = df_languages[\"language\"].replace('Hebrew\\xa0(modern)', 'Hebrew (modern)')\n",
    "df_languages[\"language\"] = df_languages[\"language\"].replace('Greek\\xa0(modern)', 'Greek (modern)')\n",
    "df_languages[\"language\"] = df_languages[\"language\"].replace('Tonga\\xa0(Tonga Islands)', 'Tonga (Tonga Islands)')\n",
    "df_languages[\"language\"] = df_languages[\"language\"].replace('Old Church Slavonic,\\xa0Church Slavonic,\\xa0Old Bulgarian', 'Old Church Slavonic, Church Slavonic, Old Bulgarian')\n",
    "\n",
    "df_languages[\"language\"].unique()\n"
   ]
  },
  {
   "cell_type": "code",
   "execution_count": 25,
   "metadata": {},
   "outputs": [
    {
     "data": {
      "text/plain": [
       "np.int64(0)"
      ]
     },
     "execution_count": 25,
     "metadata": {},
     "output_type": "execute_result"
    }
   ],
   "source": [
    "df_languages.duplicated().sum()"
   ]
  },
  {
   "cell_type": "markdown",
   "metadata": {},
   "source": [
    "## Analisi di movies.csv"
   ]
  },
  {
   "cell_type": "code",
   "execution_count": 26,
   "metadata": {},
   "outputs": [
    {
     "data": {
      "text/plain": [
       "(941597, 7)"
      ]
     },
     "execution_count": 26,
     "metadata": {},
     "output_type": "execute_result"
    }
   ],
   "source": [
    "df_movies.shape"
   ]
  },
  {
   "cell_type": "code",
   "execution_count": 27,
   "metadata": {},
   "outputs": [
    {
     "data": {
      "text/plain": [
       "id               int64\n",
       "name            object\n",
       "date           float64\n",
       "tagline         object\n",
       "description     object\n",
       "minute         float64\n",
       "rating         float64\n",
       "dtype: object"
      ]
     },
     "execution_count": 27,
     "metadata": {},
     "output_type": "execute_result"
    }
   ],
   "source": [
    "df_movies.dtypes\n"
   ]
  },
  {
   "cell_type": "code",
   "execution_count": 28,
   "metadata": {},
   "outputs": [
    {
     "data": {
      "text/html": [
       "<div>\n",
       "<style scoped>\n",
       "    .dataframe tbody tr th:only-of-type {\n",
       "        vertical-align: middle;\n",
       "    }\n",
       "\n",
       "    .dataframe tbody tr th {\n",
       "        vertical-align: top;\n",
       "    }\n",
       "\n",
       "    .dataframe thead th {\n",
       "        text-align: right;\n",
       "    }\n",
       "</style>\n",
       "<table border=\"1\" class=\"dataframe\">\n",
       "  <thead>\n",
       "    <tr style=\"text-align: right;\">\n",
       "      <th></th>\n",
       "      <th>id</th>\n",
       "      <th>name</th>\n",
       "      <th>date</th>\n",
       "      <th>tagline</th>\n",
       "      <th>description</th>\n",
       "      <th>minute</th>\n",
       "      <th>rating</th>\n",
       "    </tr>\n",
       "  </thead>\n",
       "  <tbody>\n",
       "    <tr>\n",
       "      <th>0</th>\n",
       "      <td>1000001</td>\n",
       "      <td>Barbie</td>\n",
       "      <td>2023.0</td>\n",
       "      <td>She's everything. He's just Ken.</td>\n",
       "      <td>Barbie and Ken are having the time of their li...</td>\n",
       "      <td>114.0</td>\n",
       "      <td>3.86</td>\n",
       "    </tr>\n",
       "    <tr>\n",
       "      <th>1</th>\n",
       "      <td>1000002</td>\n",
       "      <td>Parasite</td>\n",
       "      <td>2019.0</td>\n",
       "      <td>Act like you own the place.</td>\n",
       "      <td>All unemployed, Ki-taek's family takes peculia...</td>\n",
       "      <td>133.0</td>\n",
       "      <td>4.56</td>\n",
       "    </tr>\n",
       "    <tr>\n",
       "      <th>2</th>\n",
       "      <td>1000003</td>\n",
       "      <td>Everything Everywhere All at Once</td>\n",
       "      <td>2022.0</td>\n",
       "      <td>The universe is so much bigger than you realize.</td>\n",
       "      <td>An aging Chinese immigrant is swept up in an i...</td>\n",
       "      <td>140.0</td>\n",
       "      <td>4.30</td>\n",
       "    </tr>\n",
       "    <tr>\n",
       "      <th>3</th>\n",
       "      <td>1000004</td>\n",
       "      <td>Fight Club</td>\n",
       "      <td>1999.0</td>\n",
       "      <td>Mischief. Mayhem. Soap.</td>\n",
       "      <td>A ticking-time-bomb insomniac and a slippery s...</td>\n",
       "      <td>139.0</td>\n",
       "      <td>4.27</td>\n",
       "    </tr>\n",
       "    <tr>\n",
       "      <th>4</th>\n",
       "      <td>1000005</td>\n",
       "      <td>La La Land</td>\n",
       "      <td>2016.0</td>\n",
       "      <td>Here's to the fools who dream.</td>\n",
       "      <td>Mia, an aspiring actress, serves lattes to mov...</td>\n",
       "      <td>129.0</td>\n",
       "      <td>4.09</td>\n",
       "    </tr>\n",
       "    <tr>\n",
       "      <th>...</th>\n",
       "      <td>...</td>\n",
       "      <td>...</td>\n",
       "      <td>...</td>\n",
       "      <td>...</td>\n",
       "      <td>...</td>\n",
       "      <td>...</td>\n",
       "      <td>...</td>\n",
       "    </tr>\n",
       "    <tr>\n",
       "      <th>195</th>\n",
       "      <td>1000196</td>\n",
       "      <td>Tangled</td>\n",
       "      <td>2010.0</td>\n",
       "      <td>They're taking adventure to new lengths.</td>\n",
       "      <td>When the kingdom's most wanted-and most charmi...</td>\n",
       "      <td>100.0</td>\n",
       "      <td>3.93</td>\n",
       "    </tr>\n",
       "    <tr>\n",
       "      <th>196</th>\n",
       "      <td>1000197</td>\n",
       "      <td>Thor: Love and Thunder</td>\n",
       "      <td>2022.0</td>\n",
       "      <td>The one is not the only.</td>\n",
       "      <td>After his retirement is interrupted by Gorr th...</td>\n",
       "      <td>119.0</td>\n",
       "      <td>2.48</td>\n",
       "    </tr>\n",
       "    <tr>\n",
       "      <th>197</th>\n",
       "      <td>1000198</td>\n",
       "      <td>Jaws</td>\n",
       "      <td>1975.0</td>\n",
       "      <td>Don't go in the water</td>\n",
       "      <td>When an insatiable great white shark terrorize...</td>\n",
       "      <td>124.0</td>\n",
       "      <td>3.96</td>\n",
       "    </tr>\n",
       "    <tr>\n",
       "      <th>198</th>\n",
       "      <td>1000199</td>\n",
       "      <td>The Departed</td>\n",
       "      <td>2006.0</td>\n",
       "      <td>Lies. Betrayal. Sacrifice. How far will you ta...</td>\n",
       "      <td>To take down South Boston's Irish Mafia, the p...</td>\n",
       "      <td>151.0</td>\n",
       "      <td>4.31</td>\n",
       "    </tr>\n",
       "    <tr>\n",
       "      <th>199</th>\n",
       "      <td>1000200</td>\n",
       "      <td>Avengers: Age of Ultron</td>\n",
       "      <td>2015.0</td>\n",
       "      <td>A New Age Has Come.</td>\n",
       "      <td>When Tony Stark tries to jumpstart a dormant p...</td>\n",
       "      <td>141.0</td>\n",
       "      <td>3.10</td>\n",
       "    </tr>\n",
       "  </tbody>\n",
       "</table>\n",
       "<p>200 rows × 7 columns</p>\n",
       "</div>"
      ],
      "text/plain": [
       "          id                               name    date  \\\n",
       "0    1000001                             Barbie  2023.0   \n",
       "1    1000002                           Parasite  2019.0   \n",
       "2    1000003  Everything Everywhere All at Once  2022.0   \n",
       "3    1000004                         Fight Club  1999.0   \n",
       "4    1000005                         La La Land  2016.0   \n",
       "..       ...                                ...     ...   \n",
       "195  1000196                            Tangled  2010.0   \n",
       "196  1000197             Thor: Love and Thunder  2022.0   \n",
       "197  1000198                               Jaws  1975.0   \n",
       "198  1000199                       The Departed  2006.0   \n",
       "199  1000200            Avengers: Age of Ultron  2015.0   \n",
       "\n",
       "                                               tagline  \\\n",
       "0                     She's everything. He's just Ken.   \n",
       "1                          Act like you own the place.   \n",
       "2     The universe is so much bigger than you realize.   \n",
       "3                              Mischief. Mayhem. Soap.   \n",
       "4                       Here's to the fools who dream.   \n",
       "..                                                 ...   \n",
       "195           They're taking adventure to new lengths.   \n",
       "196                           The one is not the only.   \n",
       "197                              Don't go in the water   \n",
       "198  Lies. Betrayal. Sacrifice. How far will you ta...   \n",
       "199                                A New Age Has Come.   \n",
       "\n",
       "                                           description  minute  rating  \n",
       "0    Barbie and Ken are having the time of their li...   114.0    3.86  \n",
       "1    All unemployed, Ki-taek's family takes peculia...   133.0    4.56  \n",
       "2    An aging Chinese immigrant is swept up in an i...   140.0    4.30  \n",
       "3    A ticking-time-bomb insomniac and a slippery s...   139.0    4.27  \n",
       "4    Mia, an aspiring actress, serves lattes to mov...   129.0    4.09  \n",
       "..                                                 ...     ...     ...  \n",
       "195  When the kingdom's most wanted-and most charmi...   100.0    3.93  \n",
       "196  After his retirement is interrupted by Gorr th...   119.0    2.48  \n",
       "197  When an insatiable great white shark terrorize...   124.0    3.96  \n",
       "198  To take down South Boston's Irish Mafia, the p...   151.0    4.31  \n",
       "199  When Tony Stark tries to jumpstart a dormant p...   141.0    3.10  \n",
       "\n",
       "[200 rows x 7 columns]"
      ]
     },
     "execution_count": 28,
     "metadata": {},
     "output_type": "execute_result"
    }
   ],
   "source": [
    "df_movies.head(200)"
   ]
  },
  {
   "cell_type": "code",
   "execution_count": 29,
   "metadata": {},
   "outputs": [],
   "source": [
    "#df_movies[\"date\"].rename(\"release_date\")\n",
    "#df_movies.to_datetime(df_movies[\"release_date\"]) \n"
   ]
  },
  {
   "cell_type": "code",
   "execution_count": 30,
   "metadata": {},
   "outputs": [
    {
     "data": {
      "text/plain": [
       "id                  0\n",
       "name               10\n",
       "date            91913\n",
       "tagline        802210\n",
       "description    160812\n",
       "minute         181570\n",
       "rating         850598\n",
       "dtype: int64"
      ]
     },
     "execution_count": 30,
     "metadata": {},
     "output_type": "execute_result"
    }
   ],
   "source": [
    "df_movies.isna().sum()"
   ]
  },
  {
   "cell_type": "code",
   "execution_count": 36,
   "metadata": {},
   "outputs": [
    {
     "data": {
      "text/html": [
       "<div>\n",
       "<style scoped>\n",
       "    .dataframe tbody tr th:only-of-type {\n",
       "        vertical-align: middle;\n",
       "    }\n",
       "\n",
       "    .dataframe tbody tr th {\n",
       "        vertical-align: top;\n",
       "    }\n",
       "\n",
       "    .dataframe thead th {\n",
       "        text-align: right;\n",
       "    }\n",
       "</style>\n",
       "<table border=\"1\" class=\"dataframe\">\n",
       "  <thead>\n",
       "    <tr style=\"text-align: right;\">\n",
       "      <th></th>\n",
       "      <th>id</th>\n",
       "      <th>name</th>\n",
       "      <th>date</th>\n",
       "      <th>tagline</th>\n",
       "      <th>description</th>\n",
       "      <th>minute</th>\n",
       "      <th>rating</th>\n",
       "    </tr>\n",
       "  </thead>\n",
       "  <tbody>\n",
       "    <tr>\n",
       "      <th>287514</th>\n",
       "      <td>1287515</td>\n",
       "      <td>NaN</td>\n",
       "      <td>2015.0</td>\n",
       "      <td>NaN</td>\n",
       "      <td>NONE is a short film that explores the balance...</td>\n",
       "      <td>4.0</td>\n",
       "      <td>NaN</td>\n",
       "    </tr>\n",
       "    <tr>\n",
       "      <th>617642</th>\n",
       "      <td>1617643</td>\n",
       "      <td>NaN</td>\n",
       "      <td>NaN</td>\n",
       "      <td>NaN</td>\n",
       "      <td>NaN</td>\n",
       "      <td>NaN</td>\n",
       "      <td>NaN</td>\n",
       "    </tr>\n",
       "    <tr>\n",
       "      <th>646520</th>\n",
       "      <td>1646521</td>\n",
       "      <td>NaN</td>\n",
       "      <td>2008.0</td>\n",
       "      <td>NaN</td>\n",
       "      <td>NaN</td>\n",
       "      <td>NaN</td>\n",
       "      <td>NaN</td>\n",
       "    </tr>\n",
       "    <tr>\n",
       "      <th>648185</th>\n",
       "      <td>1648186</td>\n",
       "      <td>NaN</td>\n",
       "      <td>NaN</td>\n",
       "      <td>NaN</td>\n",
       "      <td>NaN</td>\n",
       "      <td>NaN</td>\n",
       "      <td>NaN</td>\n",
       "    </tr>\n",
       "    <tr>\n",
       "      <th>720294</th>\n",
       "      <td>1720295</td>\n",
       "      <td>NaN</td>\n",
       "      <td>NaN</td>\n",
       "      <td>NaN</td>\n",
       "      <td>In this directorial debut of Eden Ewardson, he...</td>\n",
       "      <td>8.0</td>\n",
       "      <td>NaN</td>\n",
       "    </tr>\n",
       "    <tr>\n",
       "      <th>725369</th>\n",
       "      <td>1725370</td>\n",
       "      <td>NaN</td>\n",
       "      <td>NaN</td>\n",
       "      <td>NaN</td>\n",
       "      <td>NaN</td>\n",
       "      <td>NaN</td>\n",
       "      <td>NaN</td>\n",
       "    </tr>\n",
       "    <tr>\n",
       "      <th>741481</th>\n",
       "      <td>1741482</td>\n",
       "      <td>NaN</td>\n",
       "      <td>NaN</td>\n",
       "      <td>NaN</td>\n",
       "      <td>NaN</td>\n",
       "      <td>90.0</td>\n",
       "      <td>NaN</td>\n",
       "    </tr>\n",
       "    <tr>\n",
       "      <th>840337</th>\n",
       "      <td>1840338</td>\n",
       "      <td>NaN</td>\n",
       "      <td>NaN</td>\n",
       "      <td>NaN</td>\n",
       "      <td>NaN</td>\n",
       "      <td>NaN</td>\n",
       "      <td>NaN</td>\n",
       "    </tr>\n",
       "    <tr>\n",
       "      <th>883228</th>\n",
       "      <td>1883229</td>\n",
       "      <td>NaN</td>\n",
       "      <td>NaN</td>\n",
       "      <td>NaN</td>\n",
       "      <td>NaN</td>\n",
       "      <td>NaN</td>\n",
       "      <td>NaN</td>\n",
       "    </tr>\n",
       "    <tr>\n",
       "      <th>894771</th>\n",
       "      <td>1894772</td>\n",
       "      <td>NaN</td>\n",
       "      <td>NaN</td>\n",
       "      <td>NaN</td>\n",
       "      <td>NaN</td>\n",
       "      <td>NaN</td>\n",
       "      <td>NaN</td>\n",
       "    </tr>\n",
       "  </tbody>\n",
       "</table>\n",
       "</div>"
      ],
      "text/plain": [
       "             id name    date tagline  \\\n",
       "287514  1287515  NaN  2015.0     NaN   \n",
       "617642  1617643  NaN     NaN     NaN   \n",
       "646520  1646521  NaN  2008.0     NaN   \n",
       "648185  1648186  NaN     NaN     NaN   \n",
       "720294  1720295  NaN     NaN     NaN   \n",
       "725369  1725370  NaN     NaN     NaN   \n",
       "741481  1741482  NaN     NaN     NaN   \n",
       "840337  1840338  NaN     NaN     NaN   \n",
       "883228  1883229  NaN     NaN     NaN   \n",
       "894771  1894772  NaN     NaN     NaN   \n",
       "\n",
       "                                              description  minute  rating  \n",
       "287514  NONE is a short film that explores the balance...     4.0     NaN  \n",
       "617642                                                NaN     NaN     NaN  \n",
       "646520                                                NaN     NaN     NaN  \n",
       "648185                                                NaN     NaN     NaN  \n",
       "720294  In this directorial debut of Eden Ewardson, he...     8.0     NaN  \n",
       "725369                                                NaN     NaN     NaN  \n",
       "741481                                                NaN    90.0     NaN  \n",
       "840337                                                NaN     NaN     NaN  \n",
       "883228                                                NaN     NaN     NaN  \n",
       "894771                                                NaN     NaN     NaN  "
      ]
     },
     "execution_count": 36,
     "metadata": {},
     "output_type": "execute_result"
    }
   ],
   "source": [
    "df_test=df_movies.loc[df_movies[\"name\"].isna()]\n",
    "df_test"
   ]
  },
  {
   "cell_type": "code",
   "execution_count": 35,
   "metadata": {},
   "outputs": [
    {
     "data": {
      "text/html": [
       "<div>\n",
       "<style scoped>\n",
       "    .dataframe tbody tr th:only-of-type {\n",
       "        vertical-align: middle;\n",
       "    }\n",
       "\n",
       "    .dataframe tbody tr th {\n",
       "        vertical-align: top;\n",
       "    }\n",
       "\n",
       "    .dataframe thead th {\n",
       "        text-align: right;\n",
       "    }\n",
       "</style>\n",
       "<table border=\"1\" class=\"dataframe\">\n",
       "  <thead>\n",
       "    <tr style=\"text-align: right;\">\n",
       "      <th></th>\n",
       "      <th>id</th>\n",
       "      <th>name</th>\n",
       "      <th>date</th>\n",
       "      <th>tagline</th>\n",
       "      <th>description</th>\n",
       "      <th>minute</th>\n",
       "      <th>rating</th>\n",
       "    </tr>\n",
       "  </thead>\n",
       "  <tbody>\n",
       "    <tr>\n",
       "      <th>287514</th>\n",
       "      <td>1287515</td>\n",
       "      <td>NaN</td>\n",
       "      <td>2015.0</td>\n",
       "      <td>NaN</td>\n",
       "      <td>NONE is a short film that explores the balance...</td>\n",
       "      <td>4.0</td>\n",
       "      <td>NaN</td>\n",
       "    </tr>\n",
       "    <tr>\n",
       "      <th>720294</th>\n",
       "      <td>1720295</td>\n",
       "      <td>NaN</td>\n",
       "      <td>NaN</td>\n",
       "      <td>NaN</td>\n",
       "      <td>In this directorial debut of Eden Ewardson, he...</td>\n",
       "      <td>8.0</td>\n",
       "      <td>NaN</td>\n",
       "    </tr>\n",
       "  </tbody>\n",
       "</table>\n",
       "</div>"
      ],
      "text/plain": [
       "             id name    date tagline  \\\n",
       "287514  1287515  NaN  2015.0     NaN   \n",
       "720294  1720295  NaN     NaN     NaN   \n",
       "\n",
       "                                              description  minute  rating  \n",
       "287514  NONE is a short film that explores the balance...     4.0     NaN  \n",
       "720294  In this directorial debut of Eden Ewardson, he...     8.0     NaN  "
      ]
     },
     "execution_count": 35,
     "metadata": {},
     "output_type": "execute_result"
    }
   ],
   "source": [
    "df_movies.loc[df_movies[\"name\"].isna() & df_movies[\"description\"].notna()]"
   ]
  },
  {
   "cell_type": "markdown",
   "metadata": {},
   "source": [
    "Pulizia dei valori nulli che non si collegano ad alcun film"
   ]
  },
  {
   "cell_type": "code",
   "execution_count": null,
   "metadata": {},
   "outputs": [],
   "source": [
    "# Rimuovere i film che non hanno valori nel campo \"name\" e neanche nel campo \"description\"\n",
    "# perchè è presente un film dal \"name\" NaN che quindi immagino sia un effettivo film\n",
    "#df_movies_cleaned = df_movies.dropna(subset=['name', 'description'], how='all').reset_index(drop=True)\n"
   ]
  },
  {
   "cell_type": "code",
   "execution_count": 37,
   "metadata": {},
   "outputs": [
    {
     "data": {
      "text/plain": [
       "np.int64(0)"
      ]
     },
     "execution_count": 37,
     "metadata": {},
     "output_type": "execute_result"
    }
   ],
   "source": [
    "#assenza di duplicati \n",
    "df_movies.duplicated().sum()"
   ]
  },
  {
   "cell_type": "code",
   "execution_count": null,
   "metadata": {},
   "outputs": [],
   "source": [
    "\n",
    "# Visualizza il numero di film rimanenti\n",
    "#print(df_movies_cleaned.shape)"
   ]
  },
  {
   "cell_type": "markdown",
   "metadata": {},
   "source": [
    "## Analisi di df_poster"
   ]
  },
  {
   "cell_type": "code",
   "execution_count": 38,
   "metadata": {},
   "outputs": [
    {
     "data": {
      "text/plain": [
       "(941597, 2)"
      ]
     },
     "execution_count": 38,
     "metadata": {},
     "output_type": "execute_result"
    }
   ],
   "source": [
    "df_posters.shape"
   ]
  },
  {
   "cell_type": "code",
   "execution_count": 39,
   "metadata": {},
   "outputs": [
    {
     "data": {
      "text/plain": [
       "id       int64\n",
       "link    object\n",
       "dtype: object"
      ]
     },
     "execution_count": 39,
     "metadata": {},
     "output_type": "execute_result"
    }
   ],
   "source": [
    "df_posters.dtypes"
   ]
  },
  {
   "cell_type": "code",
   "execution_count": 40,
   "metadata": {},
   "outputs": [
    {
     "data": {
      "text/html": [
       "<div>\n",
       "<style scoped>\n",
       "    .dataframe tbody tr th:only-of-type {\n",
       "        vertical-align: middle;\n",
       "    }\n",
       "\n",
       "    .dataframe tbody tr th {\n",
       "        vertical-align: top;\n",
       "    }\n",
       "\n",
       "    .dataframe thead th {\n",
       "        text-align: right;\n",
       "    }\n",
       "</style>\n",
       "<table border=\"1\" class=\"dataframe\">\n",
       "  <thead>\n",
       "    <tr style=\"text-align: right;\">\n",
       "      <th></th>\n",
       "      <th>id</th>\n",
       "      <th>link</th>\n",
       "    </tr>\n",
       "  </thead>\n",
       "  <tbody>\n",
       "    <tr>\n",
       "      <th>0</th>\n",
       "      <td>1000001</td>\n",
       "      <td>https://a.ltrbxd.com/resized/film-poster/2/7/7...</td>\n",
       "    </tr>\n",
       "    <tr>\n",
       "      <th>1</th>\n",
       "      <td>1000002</td>\n",
       "      <td>https://a.ltrbxd.com/resized/film-poster/4/2/6...</td>\n",
       "    </tr>\n",
       "    <tr>\n",
       "      <th>2</th>\n",
       "      <td>1000003</td>\n",
       "      <td>https://a.ltrbxd.com/resized/film-poster/4/7/4...</td>\n",
       "    </tr>\n",
       "    <tr>\n",
       "      <th>3</th>\n",
       "      <td>1000004</td>\n",
       "      <td>https://a.ltrbxd.com/resized/film-poster/5/1/5...</td>\n",
       "    </tr>\n",
       "    <tr>\n",
       "      <th>4</th>\n",
       "      <td>1000005</td>\n",
       "      <td>https://a.ltrbxd.com/resized/film-poster/2/4/0...</td>\n",
       "    </tr>\n",
       "    <tr>\n",
       "      <th>...</th>\n",
       "      <td>...</td>\n",
       "      <td>...</td>\n",
       "    </tr>\n",
       "    <tr>\n",
       "      <th>95</th>\n",
       "      <td>1000096</td>\n",
       "      <td>https://a.ltrbxd.com/resized/film-poster/2/2/0...</td>\n",
       "    </tr>\n",
       "    <tr>\n",
       "      <th>96</th>\n",
       "      <td>1000097</td>\n",
       "      <td>https://a.ltrbxd.com/resized/sm/upload/a3/0q/k...</td>\n",
       "    </tr>\n",
       "    <tr>\n",
       "      <th>97</th>\n",
       "      <td>1000098</td>\n",
       "      <td>https://a.ltrbxd.com/resized/film-poster/4/5/9...</td>\n",
       "    </tr>\n",
       "    <tr>\n",
       "      <th>98</th>\n",
       "      <td>1000099</td>\n",
       "      <td>https://a.ltrbxd.com/resized/film-poster/8/6/8...</td>\n",
       "    </tr>\n",
       "    <tr>\n",
       "      <th>99</th>\n",
       "      <td>1000100</td>\n",
       "      <td>https://a.ltrbxd.com/resized/film-poster/2/0/9...</td>\n",
       "    </tr>\n",
       "  </tbody>\n",
       "</table>\n",
       "<p>100 rows × 2 columns</p>\n",
       "</div>"
      ],
      "text/plain": [
       "         id                                               link\n",
       "0   1000001  https://a.ltrbxd.com/resized/film-poster/2/7/7...\n",
       "1   1000002  https://a.ltrbxd.com/resized/film-poster/4/2/6...\n",
       "2   1000003  https://a.ltrbxd.com/resized/film-poster/4/7/4...\n",
       "3   1000004  https://a.ltrbxd.com/resized/film-poster/5/1/5...\n",
       "4   1000005  https://a.ltrbxd.com/resized/film-poster/2/4/0...\n",
       "..      ...                                                ...\n",
       "95  1000096  https://a.ltrbxd.com/resized/film-poster/2/2/0...\n",
       "96  1000097  https://a.ltrbxd.com/resized/sm/upload/a3/0q/k...\n",
       "97  1000098  https://a.ltrbxd.com/resized/film-poster/4/5/9...\n",
       "98  1000099  https://a.ltrbxd.com/resized/film-poster/8/6/8...\n",
       "99  1000100  https://a.ltrbxd.com/resized/film-poster/2/0/9...\n",
       "\n",
       "[100 rows x 2 columns]"
      ]
     },
     "execution_count": 40,
     "metadata": {},
     "output_type": "execute_result"
    }
   ],
   "source": [
    "df_posters.head(100)"
   ]
  },
  {
   "cell_type": "code",
   "execution_count": 41,
   "metadata": {},
   "outputs": [
    {
     "data": {
      "text/plain": [
       "id           0\n",
       "link    180712\n",
       "dtype: int64"
      ]
     },
     "execution_count": 41,
     "metadata": {},
     "output_type": "execute_result"
    }
   ],
   "source": [
    "df_posters.isna().sum()"
   ]
  },
  {
   "cell_type": "code",
   "execution_count": null,
   "metadata": {},
   "outputs": [
    {
     "data": {
      "text/html": [
       "<div>\n",
       "<style scoped>\n",
       "    .dataframe tbody tr th:only-of-type {\n",
       "        vertical-align: middle;\n",
       "    }\n",
       "\n",
       "    .dataframe tbody tr th {\n",
       "        vertical-align: top;\n",
       "    }\n",
       "\n",
       "    .dataframe thead th {\n",
       "        text-align: right;\n",
       "    }\n",
       "</style>\n",
       "<table border=\"1\" class=\"dataframe\">\n",
       "  <thead>\n",
       "    <tr style=\"text-align: right;\">\n",
       "      <th></th>\n",
       "      <th>id</th>\n",
       "      <th>link</th>\n",
       "    </tr>\n",
       "  </thead>\n",
       "  <tbody>\n",
       "    <tr>\n",
       "      <th>14018</th>\n",
       "      <td>1014019</td>\n",
       "      <td>NaN</td>\n",
       "    </tr>\n",
       "    <tr>\n",
       "      <th>15380</th>\n",
       "      <td>1015381</td>\n",
       "      <td>NaN</td>\n",
       "    </tr>\n",
       "    <tr>\n",
       "      <th>16467</th>\n",
       "      <td>1016468</td>\n",
       "      <td>NaN</td>\n",
       "    </tr>\n",
       "    <tr>\n",
       "      <th>18452</th>\n",
       "      <td>1018453</td>\n",
       "      <td>NaN</td>\n",
       "    </tr>\n",
       "    <tr>\n",
       "      <th>27193</th>\n",
       "      <td>1027194</td>\n",
       "      <td>NaN</td>\n",
       "    </tr>\n",
       "    <tr>\n",
       "      <th>...</th>\n",
       "      <td>...</td>\n",
       "      <td>...</td>\n",
       "    </tr>\n",
       "    <tr>\n",
       "      <th>941589</th>\n",
       "      <td>1941590</td>\n",
       "      <td>NaN</td>\n",
       "    </tr>\n",
       "    <tr>\n",
       "      <th>941590</th>\n",
       "      <td>1941591</td>\n",
       "      <td>NaN</td>\n",
       "    </tr>\n",
       "    <tr>\n",
       "      <th>941592</th>\n",
       "      <td>1941593</td>\n",
       "      <td>NaN</td>\n",
       "    </tr>\n",
       "    <tr>\n",
       "      <th>941593</th>\n",
       "      <td>1941594</td>\n",
       "      <td>NaN</td>\n",
       "    </tr>\n",
       "    <tr>\n",
       "      <th>941596</th>\n",
       "      <td>1941597</td>\n",
       "      <td>NaN</td>\n",
       "    </tr>\n",
       "  </tbody>\n",
       "</table>\n",
       "<p>180712 rows × 2 columns</p>\n",
       "</div>"
      ],
      "text/plain": [
       "             id link\n",
       "14018   1014019  NaN\n",
       "15380   1015381  NaN\n",
       "16467   1016468  NaN\n",
       "18452   1018453  NaN\n",
       "27193   1027194  NaN\n",
       "...         ...  ...\n",
       "941589  1941590  NaN\n",
       "941590  1941591  NaN\n",
       "941592  1941593  NaN\n",
       "941593  1941594  NaN\n",
       "941596  1941597  NaN\n",
       "\n",
       "[180712 rows x 2 columns]"
      ]
     },
     "execution_count": 43,
     "metadata": {},
     "output_type": "execute_result"
    }
   ],
   "source": [
    "#Prendo solo i film che non contengono l'url\n",
    "df_posters.loc[df_posters[\"link\"].isna()]\n",
    "\n",
    "#Rimuovo i film che non contengono l'url\n",
    "#df_posters.dropna(subset=[\"link\"],inplace=True) "
   ]
  },
  {
   "cell_type": "code",
   "execution_count": 44,
   "metadata": {},
   "outputs": [
    {
     "data": {
      "text/plain": [
       "np.int64(0)"
      ]
     },
     "execution_count": 44,
     "metadata": {},
     "output_type": "execute_result"
    }
   ],
   "source": [
    "df_posters.duplicated().sum()"
   ]
  },
  {
   "cell_type": "code",
   "execution_count": 45,
   "metadata": {},
   "outputs": [
    {
     "data": {
      "text/plain": [
       "(941597, 2)"
      ]
     },
     "execution_count": 45,
     "metadata": {},
     "output_type": "execute_result"
    }
   ],
   "source": [
    "df_posters.shape"
   ]
  },
  {
   "cell_type": "markdown",
   "metadata": {},
   "source": [
    "## Analisi di df_releases"
   ]
  },
  {
   "cell_type": "code",
   "execution_count": 46,
   "metadata": {},
   "outputs": [
    {
     "data": {
      "text/plain": [
       "(1332782, 5)"
      ]
     },
     "execution_count": 46,
     "metadata": {},
     "output_type": "execute_result"
    }
   ],
   "source": [
    "df_releases.shape\n"
   ]
  },
  {
   "cell_type": "code",
   "execution_count": 47,
   "metadata": {},
   "outputs": [
    {
     "data": {
      "text/plain": [
       "id          int64\n",
       "country    object\n",
       "date       object\n",
       "type       object\n",
       "rating     object\n",
       "dtype: object"
      ]
     },
     "execution_count": 47,
     "metadata": {},
     "output_type": "execute_result"
    }
   ],
   "source": [
    "df_releases.dtypes"
   ]
  },
  {
   "cell_type": "code",
   "execution_count": null,
   "metadata": {},
   "outputs": [],
   "source": [
    "#df_releases['date'] = pd.to_datetime(df_releases['date'], errors='coerce')"
   ]
  },
  {
   "cell_type": "code",
   "execution_count": 48,
   "metadata": {},
   "outputs": [
    {
     "data": {
      "text/plain": [
       "id              0\n",
       "country         0\n",
       "date            0\n",
       "type            0\n",
       "rating     998802\n",
       "dtype: int64"
      ]
     },
     "execution_count": 48,
     "metadata": {},
     "output_type": "execute_result"
    }
   ],
   "source": [
    "df_releases.isna().sum()"
   ]
  },
  {
   "cell_type": "code",
   "execution_count": null,
   "metadata": {},
   "outputs": [],
   "source": [
    "#Non credo che sia un errore se i film non hanno un rating(?) o non capisco che tipo di rating serva \n",
    "df_releases.loc[df_releases[\"rating\"].isna()]"
   ]
  },
  {
   "cell_type": "code",
   "execution_count": 50,
   "metadata": {},
   "outputs": [
    {
     "data": {
      "text/html": [
       "<div>\n",
       "<style scoped>\n",
       "    .dataframe tbody tr th:only-of-type {\n",
       "        vertical-align: middle;\n",
       "    }\n",
       "\n",
       "    .dataframe tbody tr th {\n",
       "        vertical-align: top;\n",
       "    }\n",
       "\n",
       "    .dataframe thead th {\n",
       "        text-align: right;\n",
       "    }\n",
       "</style>\n",
       "<table border=\"1\" class=\"dataframe\">\n",
       "  <thead>\n",
       "    <tr style=\"text-align: right;\">\n",
       "      <th></th>\n",
       "      <th>id</th>\n",
       "      <th>country</th>\n",
       "      <th>date</th>\n",
       "      <th>type</th>\n",
       "      <th>rating</th>\n",
       "    </tr>\n",
       "  </thead>\n",
       "  <tbody>\n",
       "    <tr>\n",
       "      <th>0</th>\n",
       "      <td>1000001</td>\n",
       "      <td>Andorra</td>\n",
       "      <td>2023-07-21</td>\n",
       "      <td>Theatrical</td>\n",
       "      <td>NaN</td>\n",
       "    </tr>\n",
       "    <tr>\n",
       "      <th>1</th>\n",
       "      <td>1000001</td>\n",
       "      <td>Argentina</td>\n",
       "      <td>2023-07-20</td>\n",
       "      <td>Theatrical</td>\n",
       "      <td>ATP</td>\n",
       "    </tr>\n",
       "    <tr>\n",
       "      <th>2</th>\n",
       "      <td>1000001</td>\n",
       "      <td>Australia</td>\n",
       "      <td>2023-07-19</td>\n",
       "      <td>Theatrical</td>\n",
       "      <td>PG</td>\n",
       "    </tr>\n",
       "    <tr>\n",
       "      <th>3</th>\n",
       "      <td>1000001</td>\n",
       "      <td>Australia</td>\n",
       "      <td>2023-10-01</td>\n",
       "      <td>Digital</td>\n",
       "      <td>PG</td>\n",
       "    </tr>\n",
       "    <tr>\n",
       "      <th>4</th>\n",
       "      <td>1000001</td>\n",
       "      <td>Austria</td>\n",
       "      <td>2023-07-20</td>\n",
       "      <td>Theatrical</td>\n",
       "      <td>NaN</td>\n",
       "    </tr>\n",
       "    <tr>\n",
       "      <th>...</th>\n",
       "      <td>...</td>\n",
       "      <td>...</td>\n",
       "      <td>...</td>\n",
       "      <td>...</td>\n",
       "      <td>...</td>\n",
       "    </tr>\n",
       "    <tr>\n",
       "      <th>95</th>\n",
       "      <td>1000002</td>\n",
       "      <td>Canada</td>\n",
       "      <td>2019-09-06</td>\n",
       "      <td>Premiere</td>\n",
       "      <td>NaN</td>\n",
       "    </tr>\n",
       "    <tr>\n",
       "      <th>96</th>\n",
       "      <td>1000002</td>\n",
       "      <td>Canada</td>\n",
       "      <td>2019-10-25</td>\n",
       "      <td>Theatrical limited</td>\n",
       "      <td>NaN</td>\n",
       "    </tr>\n",
       "    <tr>\n",
       "      <th>97</th>\n",
       "      <td>1000002</td>\n",
       "      <td>Canada</td>\n",
       "      <td>2019-11-01</td>\n",
       "      <td>Theatrical</td>\n",
       "      <td>NaN</td>\n",
       "    </tr>\n",
       "    <tr>\n",
       "      <th>98</th>\n",
       "      <td>1000002</td>\n",
       "      <td>Canada</td>\n",
       "      <td>2020-01-14</td>\n",
       "      <td>Digital</td>\n",
       "      <td>NaN</td>\n",
       "    </tr>\n",
       "    <tr>\n",
       "      <th>99</th>\n",
       "      <td>1000002</td>\n",
       "      <td>Canada</td>\n",
       "      <td>2020-01-28</td>\n",
       "      <td>Physical</td>\n",
       "      <td>NaN</td>\n",
       "    </tr>\n",
       "  </tbody>\n",
       "</table>\n",
       "<p>100 rows × 5 columns</p>\n",
       "</div>"
      ],
      "text/plain": [
       "         id    country        date                type rating\n",
       "0   1000001    Andorra  2023-07-21          Theatrical    NaN\n",
       "1   1000001  Argentina  2023-07-20          Theatrical    ATP\n",
       "2   1000001  Australia  2023-07-19          Theatrical     PG\n",
       "3   1000001  Australia  2023-10-01             Digital     PG\n",
       "4   1000001    Austria  2023-07-20          Theatrical    NaN\n",
       "..      ...        ...         ...                 ...    ...\n",
       "95  1000002     Canada  2019-09-06            Premiere    NaN\n",
       "96  1000002     Canada  2019-10-25  Theatrical limited    NaN\n",
       "97  1000002     Canada  2019-11-01          Theatrical    NaN\n",
       "98  1000002     Canada  2020-01-14             Digital    NaN\n",
       "99  1000002     Canada  2020-01-28            Physical    NaN\n",
       "\n",
       "[100 rows x 5 columns]"
      ]
     },
     "execution_count": 50,
     "metadata": {},
     "output_type": "execute_result"
    }
   ],
   "source": [
    "df_releases.head(100)"
   ]
  },
  {
   "cell_type": "markdown",
   "metadata": {},
   "source": [
    "possiamo notare che i valori di rating sono di diverso genere "
   ]
  },
  {
   "cell_type": "code",
   "execution_count": null,
   "metadata": {},
   "outputs": [
    {
     "data": {
      "text/html": [
       "<div>\n",
       "<style scoped>\n",
       "    .dataframe tbody tr th:only-of-type {\n",
       "        vertical-align: middle;\n",
       "    }\n",
       "\n",
       "    .dataframe tbody tr th {\n",
       "        vertical-align: top;\n",
       "    }\n",
       "\n",
       "    .dataframe thead th {\n",
       "        text-align: right;\n",
       "    }\n",
       "</style>\n",
       "<table border=\"1\" class=\"dataframe\">\n",
       "  <thead>\n",
       "    <tr style=\"text-align: right;\">\n",
       "      <th></th>\n",
       "      <th>id</th>\n",
       "      <th>country</th>\n",
       "      <th>date</th>\n",
       "      <th>type</th>\n",
       "      <th>rating</th>\n",
       "    </tr>\n",
       "  </thead>\n",
       "  <tbody>\n",
       "    <tr>\n",
       "      <th>1</th>\n",
       "      <td>1000001</td>\n",
       "      <td>Argentina</td>\n",
       "      <td>2023-07-20</td>\n",
       "      <td>Theatrical</td>\n",
       "      <td>ATP</td>\n",
       "    </tr>\n",
       "    <tr>\n",
       "      <th>2</th>\n",
       "      <td>1000001</td>\n",
       "      <td>Australia</td>\n",
       "      <td>2023-07-19</td>\n",
       "      <td>Theatrical</td>\n",
       "      <td>PG</td>\n",
       "    </tr>\n",
       "    <tr>\n",
       "      <th>3</th>\n",
       "      <td>1000001</td>\n",
       "      <td>Australia</td>\n",
       "      <td>2023-10-01</td>\n",
       "      <td>Digital</td>\n",
       "      <td>PG</td>\n",
       "    </tr>\n",
       "    <tr>\n",
       "      <th>10</th>\n",
       "      <td>1000001</td>\n",
       "      <td>Brazil</td>\n",
       "      <td>2023-07-20</td>\n",
       "      <td>Theatrical</td>\n",
       "      <td>12</td>\n",
       "    </tr>\n",
       "    <tr>\n",
       "      <th>11</th>\n",
       "      <td>1000001</td>\n",
       "      <td>Canada</td>\n",
       "      <td>2023-07-21</td>\n",
       "      <td>Theatrical</td>\n",
       "      <td>PG</td>\n",
       "    </tr>\n",
       "    <tr>\n",
       "      <th>...</th>\n",
       "      <td>...</td>\n",
       "      <td>...</td>\n",
       "      <td>...</td>\n",
       "      <td>...</td>\n",
       "      <td>...</td>\n",
       "    </tr>\n",
       "    <tr>\n",
       "      <th>1332600</th>\n",
       "      <td>1940788</td>\n",
       "      <td>Canada</td>\n",
       "      <td>1991-07-31</td>\n",
       "      <td>Physical</td>\n",
       "      <td>G</td>\n",
       "    </tr>\n",
       "    <tr>\n",
       "      <th>1332634</th>\n",
       "      <td>1940823</td>\n",
       "      <td>Germany</td>\n",
       "      <td>1987-03-05</td>\n",
       "      <td>Theatrical</td>\n",
       "      <td>16</td>\n",
       "    </tr>\n",
       "    <tr>\n",
       "      <th>1332667</th>\n",
       "      <td>1940857</td>\n",
       "      <td>India</td>\n",
       "      <td>1982-07-09</td>\n",
       "      <td>Theatrical</td>\n",
       "      <td>U</td>\n",
       "    </tr>\n",
       "    <tr>\n",
       "      <th>1332691</th>\n",
       "      <td>1940881</td>\n",
       "      <td>USA</td>\n",
       "      <td>1978-01-23</td>\n",
       "      <td>Theatrical</td>\n",
       "      <td>NR</td>\n",
       "    </tr>\n",
       "    <tr>\n",
       "      <th>1332711</th>\n",
       "      <td>1940901</td>\n",
       "      <td>USA</td>\n",
       "      <td>1970-05-08</td>\n",
       "      <td>TV</td>\n",
       "      <td>NR</td>\n",
       "    </tr>\n",
       "  </tbody>\n",
       "</table>\n",
       "<p>333980 rows × 5 columns</p>\n",
       "</div>"
      ],
      "text/plain": [
       "              id    country        date        type rating\n",
       "1        1000001  Argentina  2023-07-20  Theatrical    ATP\n",
       "2        1000001  Australia  2023-07-19  Theatrical     PG\n",
       "3        1000001  Australia  2023-10-01     Digital     PG\n",
       "10       1000001     Brazil  2023-07-20  Theatrical     12\n",
       "11       1000001     Canada  2023-07-21  Theatrical     PG\n",
       "...          ...        ...         ...         ...    ...\n",
       "1332600  1940788     Canada  1991-07-31    Physical      G\n",
       "1332634  1940823    Germany  1987-03-05  Theatrical     16\n",
       "1332667  1940857      India  1982-07-09  Theatrical      U\n",
       "1332691  1940881        USA  1978-01-23  Theatrical     NR\n",
       "1332711  1940901        USA  1970-05-08          TV     NR\n",
       "\n",
       "[333980 rows x 5 columns]"
      ]
     },
     "execution_count": 63,
     "metadata": {},
     "output_type": "execute_result"
    }
   ],
   "source": [
    "df_AllVotes=df_releases[df_releases['rating'].notna()]\n",
    "df_AllVotes"
   ]
  },
  {
   "cell_type": "code",
   "execution_count": null,
   "metadata": {},
   "outputs": [],
   "source": [
    "#Scegliere un parametro di valutazione......."
   ]
  },
  {
   "cell_type": "code",
   "execution_count": null,
   "metadata": {},
   "outputs": [],
   "source": []
  },
  {
   "cell_type": "code",
   "execution_count": 64,
   "metadata": {},
   "outputs": [
    {
     "data": {
      "text/plain": [
       "np.int64(0)"
      ]
     },
     "execution_count": 64,
     "metadata": {},
     "output_type": "execute_result"
    }
   ],
   "source": [
    "df_releases.duplicated().sum()"
   ]
  },
  {
   "cell_type": "code",
   "execution_count": null,
   "metadata": {},
   "outputs": [],
   "source": [
    "df_releases.shape"
   ]
  }
 ],
 "metadata": {
  "kernelspec": {
   "display_name": "Python 3",
   "language": "python",
   "name": "python3"
  },
  "language_info": {
   "codemirror_mode": {
    "name": "ipython",
    "version": 3
   },
   "file_extension": ".py",
   "mimetype": "text/x-python",
   "name": "python",
   "nbconvert_exporter": "python",
   "pygments_lexer": "ipython3",
   "version": "3.13.1"
  }
 },
 "nbformat": 4,
 "nbformat_minor": 2
}
