{
 "cells": [
  {
   "cell_type": "code",
   "execution_count": 252,
   "metadata": {},
   "outputs": [],
   "source": [
    "import pandas as pd \n",
    "import numpy as np\n",
    "import os\n",
    "\n",
    "df_actors=pd.read_csv(\"/Users/gabrielebuoso/Desktop/dataset/actors.csv\")\n",
    "df_countries=pd.read_csv(\"/Users/gabrielebuoso/Desktop/dataset/countries.csv\")\n",
    "df_crew=pd.read_csv(\"/Users/gabrielebuoso/Desktop/dataset/crew.csv\")\n",
    "df_genres=pd.read_csv(\"/Users/gabrielebuoso/Desktop/dataset/genres.csv\")\n",
    "df_languages=pd.read_csv(\"/Users/gabrielebuoso/Desktop/dataset/languages.csv\")\n",
    "df_movies=pd.read_csv(\"/Users/gabrielebuoso/Desktop/dataset/movies.csv\")\n",
    "df_posters=pd.read_csv(\"/Users/gabrielebuoso/Desktop/dataset/posters.csv\")\n",
    "df_releases=pd.read_csv(\"/Users/gabrielebuoso/Desktop/dataset/releases.csv\")\n",
    "df_studios=pd.read_csv(\"/Users/gabrielebuoso/Desktop/dataset/studios.csv\")\n",
    "df_themes=pd.read_csv(\"/Users/gabrielebuoso/Desktop/dataset/themes.csv\")\n",
    "df_tomatoes=pd.read_csv(\"/Users/gabrielebuoso/Desktop/dataset/rotten_tomatoes_reviews.csv\")\n",
    "df_oscars=pd.read_csv(\"/Users/gabrielebuoso/Desktop//dataset/the_oscar_awards.csv\")"
   ]
  },
  {
   "cell_type": "markdown",
   "metadata": {},
   "source": [
    "# Data Cleaning\n"
   ]
  },
  {
   "cell_type": "markdown",
   "metadata": {},
   "source": [
    "## Cleaning actors.csv\n"
   ]
  },
  {
   "cell_type": "code",
   "execution_count": 253,
   "metadata": {},
   "outputs": [
    {
     "data": {
      "text/plain": [
       "(5798450, 3)"
      ]
     },
     "execution_count": 253,
     "metadata": {},
     "output_type": "execute_result"
    }
   ],
   "source": [
    "df_actors.shape"
   ]
  },
  {
   "cell_type": "code",
   "execution_count": 254,
   "metadata": {},
   "outputs": [
    {
     "data": {
      "text/plain": [
       "id_film     int64\n",
       "name       object\n",
       "role       object\n",
       "dtype: object"
      ]
     },
     "execution_count": 254,
     "metadata": {},
     "output_type": "execute_result"
    }
   ],
   "source": [
    "df_actors.rename(columns={'id': 'id_film'}, inplace=True)\n",
    "df_actors['name']=df_actors['name'].astype(\"str\")\n",
    "df_actors.dtypes"
   ]
  },
  {
   "cell_type": "code",
   "execution_count": 255,
   "metadata": {},
   "outputs": [
    {
     "data": {
      "text/html": [
       "<div>\n",
       "<style scoped>\n",
       "    .dataframe tbody tr th:only-of-type {\n",
       "        vertical-align: middle;\n",
       "    }\n",
       "\n",
       "    .dataframe tbody tr th {\n",
       "        vertical-align: top;\n",
       "    }\n",
       "\n",
       "    .dataframe thead th {\n",
       "        text-align: right;\n",
       "    }\n",
       "</style>\n",
       "<table border=\"1\" class=\"dataframe\">\n",
       "  <thead>\n",
       "    <tr style=\"text-align: right;\">\n",
       "      <th></th>\n",
       "      <th>id_film</th>\n",
       "      <th>name</th>\n",
       "      <th>role</th>\n",
       "    </tr>\n",
       "  </thead>\n",
       "  <tbody>\n",
       "    <tr>\n",
       "      <th>0</th>\n",
       "      <td>1000001</td>\n",
       "      <td>Margot Robbie</td>\n",
       "      <td>Barbie</td>\n",
       "    </tr>\n",
       "    <tr>\n",
       "      <th>1</th>\n",
       "      <td>1000001</td>\n",
       "      <td>Ryan Gosling</td>\n",
       "      <td>Ken</td>\n",
       "    </tr>\n",
       "    <tr>\n",
       "      <th>2</th>\n",
       "      <td>1000001</td>\n",
       "      <td>America Ferrera</td>\n",
       "      <td>Gloria</td>\n",
       "    </tr>\n",
       "    <tr>\n",
       "      <th>3</th>\n",
       "      <td>1000001</td>\n",
       "      <td>Ariana Greenblatt</td>\n",
       "      <td>Sasha</td>\n",
       "    </tr>\n",
       "    <tr>\n",
       "      <th>4</th>\n",
       "      <td>1000001</td>\n",
       "      <td>Issa Rae</td>\n",
       "      <td>Barbie</td>\n",
       "    </tr>\n",
       "  </tbody>\n",
       "</table>\n",
       "</div>"
      ],
      "text/plain": [
       "   id_film               name    role\n",
       "0  1000001      Margot Robbie  Barbie\n",
       "1  1000001       Ryan Gosling     Ken\n",
       "2  1000001    America Ferrera  Gloria\n",
       "3  1000001  Ariana Greenblatt   Sasha\n",
       "4  1000001           Issa Rae  Barbie"
      ]
     },
     "execution_count": 255,
     "metadata": {},
     "output_type": "execute_result"
    }
   ],
   "source": [
    "df_actors.head()"
   ]
  },
  {
   "cell_type": "code",
   "execution_count": 256,
   "metadata": {},
   "outputs": [],
   "source": [
    "df_actors.isna().sum()\n",
    "df_actors.fillna({\"role\":\"Extra\"},inplace=True)"
   ]
  },
  {
   "cell_type": "markdown",
   "metadata": {},
   "source": [
    "Controllo dei valori duplicati\n"
   ]
  },
  {
   "cell_type": "code",
   "execution_count": 257,
   "metadata": {},
   "outputs": [
    {
     "data": {
      "text/plain": [
       "np.int64(946)"
      ]
     },
     "execution_count": 257,
     "metadata": {},
     "output_type": "execute_result"
    }
   ],
   "source": [
    "df_actors.duplicated().sum()"
   ]
  },
  {
   "cell_type": "code",
   "execution_count": 258,
   "metadata": {},
   "outputs": [],
   "source": [
    "#rimozione dei duplicati\n",
    "df_actors.drop_duplicates(inplace=True)\n",
    "df_actors.duplicated().sum()\n",
    "df_actors.reset_index(drop=True,inplace=True)"
   ]
  },
  {
   "cell_type": "code",
   "execution_count": 259,
   "metadata": {},
   "outputs": [
    {
     "data": {
      "text/plain": [
       "(5797504, 3)"
      ]
     },
     "execution_count": 259,
     "metadata": {},
     "output_type": "execute_result"
    }
   ],
   "source": [
    "df_actors.shape    "
   ]
  },
  {
   "cell_type": "markdown",
   "metadata": {},
   "source": [
    "## Cleaning Countries\n"
   ]
  },
  {
   "cell_type": "code",
   "execution_count": 260,
   "metadata": {},
   "outputs": [
    {
     "data": {
      "text/plain": [
       "(693476, 2)"
      ]
     },
     "execution_count": 260,
     "metadata": {},
     "output_type": "execute_result"
    }
   ],
   "source": [
    "df_countries.shape"
   ]
  },
  {
   "cell_type": "code",
   "execution_count": 261,
   "metadata": {},
   "outputs": [
    {
     "data": {
      "text/plain": [
       "id          int64\n",
       "country    object\n",
       "dtype: object"
      ]
     },
     "execution_count": 261,
     "metadata": {},
     "output_type": "execute_result"
    }
   ],
   "source": [
    "df_countries.dtypes"
   ]
  },
  {
   "cell_type": "code",
   "execution_count": 262,
   "metadata": {},
   "outputs": [
    {
     "data": {
      "text/plain": [
       "id_film     int64\n",
       "country    object\n",
       "dtype: object"
      ]
     },
     "execution_count": 262,
     "metadata": {},
     "output_type": "execute_result"
    }
   ],
   "source": [
    "df_countries.rename(columns={'id': 'id_film'}, inplace=True)\n",
    "\n",
    "df_countries.dtypes"
   ]
  },
  {
   "cell_type": "code",
   "execution_count": 263,
   "metadata": {},
   "outputs": [
    {
     "data": {
      "text/plain": [
       "id_film    0\n",
       "country    0\n",
       "dtype: int64"
      ]
     },
     "execution_count": 263,
     "metadata": {},
     "output_type": "execute_result"
    }
   ],
   "source": [
    "df_countries.isna().sum()"
   ]
  },
  {
   "cell_type": "code",
   "execution_count": 264,
   "metadata": {},
   "outputs": [
    {
     "data": {
      "text/plain": [
       "np.int64(0)"
      ]
     },
     "execution_count": 264,
     "metadata": {},
     "output_type": "execute_result"
    }
   ],
   "source": [
    "df_countries.duplicated().sum()"
   ]
  },
  {
   "cell_type": "markdown",
   "metadata": {},
   "source": [
    "## Cleaning Crew\n"
   ]
  },
  {
   "cell_type": "code",
   "execution_count": 265,
   "metadata": {},
   "outputs": [
    {
     "data": {
      "text/plain": [
       "(4720183, 3)"
      ]
     },
     "execution_count": 265,
     "metadata": {},
     "output_type": "execute_result"
    }
   ],
   "source": [
    "df_crew.shape"
   ]
  },
  {
   "cell_type": "code",
   "execution_count": 266,
   "metadata": {},
   "outputs": [
    {
     "data": {
      "text/plain": [
       "id_film     int64\n",
       "role       object\n",
       "name       object\n",
       "dtype: object"
      ]
     },
     "execution_count": 266,
     "metadata": {},
     "output_type": "execute_result"
    }
   ],
   "source": [
    "df_crew.rename(columns={'id': 'id_film'}, inplace=True)\n",
    "df_crew.dtypes"
   ]
  },
  {
   "cell_type": "code",
   "execution_count": 267,
   "metadata": {},
   "outputs": [],
   "source": [
    "#Viene trovato un valore null come nome\n",
    "df_crew.loc[df_crew['name'].isna(), \"name\"] = \"Unknown\""
   ]
  },
  {
   "cell_type": "markdown",
   "metadata": {},
   "source": [
    "## Cleaning Genres\n"
   ]
  },
  {
   "cell_type": "code",
   "execution_count": 268,
   "metadata": {},
   "outputs": [
    {
     "data": {
      "text/plain": [
       "(1046849, 2)"
      ]
     },
     "execution_count": 268,
     "metadata": {},
     "output_type": "execute_result"
    }
   ],
   "source": [
    "df_genres.shape"
   ]
  },
  {
   "cell_type": "code",
   "execution_count": 269,
   "metadata": {},
   "outputs": [
    {
     "data": {
      "text/plain": [
       "id_film     int64\n",
       "genre      object\n",
       "dtype: object"
      ]
     },
     "execution_count": 269,
     "metadata": {},
     "output_type": "execute_result"
    }
   ],
   "source": [
    "df_genres.rename(columns={'id': 'id_film'}, inplace=True)\n",
    "\n",
    "df_genres.dtypes"
   ]
  },
  {
   "cell_type": "code",
   "execution_count": 270,
   "metadata": {},
   "outputs": [
    {
     "data": {
      "text/plain": [
       "id_film    0\n",
       "genre      0\n",
       "dtype: int64"
      ]
     },
     "execution_count": 270,
     "metadata": {},
     "output_type": "execute_result"
    }
   ],
   "source": [
    "df_genres.isna().sum()"
   ]
  },
  {
   "cell_type": "code",
   "execution_count": 271,
   "metadata": {},
   "outputs": [
    {
     "data": {
      "text/plain": [
       "array(['Comedy', 'Adventure', 'Thriller', 'Drama', 'Science Fiction',\n",
       "       'Action', 'Music', 'Romance', 'History', 'Crime', 'Animation',\n",
       "       'Mystery', 'Horror', 'Family', 'Fantasy', 'War', 'Western',\n",
       "       'TV Movie', 'Documentary'], dtype=object)"
      ]
     },
     "execution_count": 271,
     "metadata": {},
     "output_type": "execute_result"
    }
   ],
   "source": [
    "df_genres[\"genre\"].unique()"
   ]
  },
  {
   "cell_type": "code",
   "execution_count": 272,
   "metadata": {},
   "outputs": [
    {
     "data": {
      "text/plain": [
       "np.int64(0)"
      ]
     },
     "execution_count": 272,
     "metadata": {},
     "output_type": "execute_result"
    }
   ],
   "source": [
    "df_genres.duplicated().sum()"
   ]
  },
  {
   "cell_type": "markdown",
   "metadata": {},
   "source": [
    "## Cleaning di languages.csv\n"
   ]
  },
  {
   "cell_type": "code",
   "execution_count": 273,
   "metadata": {},
   "outputs": [
    {
     "data": {
      "text/plain": [
       "(1038762, 3)"
      ]
     },
     "execution_count": 273,
     "metadata": {},
     "output_type": "execute_result"
    }
   ],
   "source": [
    "df_languages.shape"
   ]
  },
  {
   "cell_type": "code",
   "execution_count": 274,
   "metadata": {},
   "outputs": [
    {
     "data": {
      "text/plain": [
       "id_film      int64\n",
       "type        object\n",
       "language    object\n",
       "dtype: object"
      ]
     },
     "execution_count": 274,
     "metadata": {},
     "output_type": "execute_result"
    }
   ],
   "source": [
    "df_languages.rename(columns={'id': 'id_film'}, inplace=True)\n",
    "df_languages.dtypes"
   ]
  },
  {
   "cell_type": "code",
   "execution_count": 275,
   "metadata": {},
   "outputs": [
    {
     "data": {
      "text/plain": [
       "id_film     0\n",
       "type        0\n",
       "language    0\n",
       "dtype: int64"
      ]
     },
     "execution_count": 275,
     "metadata": {},
     "output_type": "execute_result"
    }
   ],
   "source": [
    "df_languages.isna().sum()"
   ]
  },
  {
   "cell_type": "code",
   "execution_count": 276,
   "metadata": {},
   "outputs": [
    {
     "data": {
      "text/plain": [
       "array(['English', 'Korean', 'German', 'Cantonese', 'Chinese', 'Dutch',\n",
       "       'Spanish', 'French', 'Japanese', 'Swedish', 'Swahili',\n",
       "       'Portuguese', 'Hindi', 'Italian', 'Tagalog', 'Xhosa', 'Latin',\n",
       "       'Russian', 'Finnish', 'Hungarian', 'Somali', 'Romanian',\n",
       "       'Vietnamese', 'Turkish', 'Czech', 'Estonian', 'Persian (Farsi)',\n",
       "       'Urdu', 'Arabic', 'Polish', 'Hebrew (modern)', 'Greek (modern)',\n",
       "       'Yiddish', 'Norwegian', 'Haitian, Haitian Creole', 'Khmer',\n",
       "       'Nepali', 'Akan', 'Icelandic', 'Malay',\n",
       "       'Eastern Punjabi, Eastern Panjabi', 'Georgian', 'Indonesian',\n",
       "       'Belarusian', 'Danish', 'Tamil', 'Sinhalese, Sinhala',\n",
       "       'Tibetan Standard, Tibetan, Central', 'Armenian', 'Thai', 'Telugu',\n",
       "       'Scottish Gaelic, Gaelic', 'Northern Sami', 'Esperanto',\n",
       "       'Bulgarian', 'Afrikaans', 'Chichewa, Chewa, Nyanja',\n",
       "       'Southern Sotho', 'Zulu', 'Irish', 'Breton', 'Croatian',\n",
       "       'Bengali, Bangla', 'Welsh', 'Navajo, Navaho', 'Albanian',\n",
       "       'Inuktitut', 'Catalan', 'Quechua', 'Azerbaijani', 'Samoan',\n",
       "       'Ukrainian', 'Mongolian', 'Māori', 'Tatar', 'Mayan',\n",
       "       'Fula, Fulah, Pulaar, Pular', 'Slovak', 'Lithuanian', 'Cree',\n",
       "       'Lao', 'Galician', 'Amharic', 'Serbian', 'Moldavian',\n",
       "       'Serbo-Croatian', 'Cornish', 'Wolof', 'Pashto, Pushto', 'Twi',\n",
       "       'Corsican', 'Bambara', 'Sanskrit (Saṁskṛta)', 'Macedonian',\n",
       "       'Burmese', 'Maltese', 'Bosnian', 'No spoken language', 'Marathi',\n",
       "       'Ido', 'Guaraní', 'Kurdish', 'Ganda', 'Hausa', 'Tahitian',\n",
       "       'Latvian', 'Lingala', 'Gujarati', 'Malayalam', 'Basque',\n",
       "       'Javanese', 'Tswana', 'Sundanese', 'Kinyarwanda', 'Kirundi',\n",
       "       'Afar', 'Dzongkha', 'Tola', 'Kannada', 'Uzbek', 'Ojibwe, Ojibwa',\n",
       "       'Igbo', 'Ewe', 'Pāli', 'Chechen', 'Kashmiri', 'Oromo',\n",
       "       'Kalaallisut, Greenlandic', 'Tajik', 'Slovene', 'Aymara',\n",
       "       'Sardinian', 'Assamese', 'Ossetian, Ossetic', 'Occitan', 'Avaric',\n",
       "       'Bislama', 'Kyrgyz', 'Kazakh', 'Aragonese', 'Yolngu matha',\n",
       "       'Malagasy', 'Gibberish', 'Kikuyu, Gikuyu', 'Yoruba', 'Maithili',\n",
       "       'Uyghur', 'Sango', 'Nuosu', 'Hiri Motu', 'Kongo',\n",
       "       'Tonga (Tonga Islands)', 'Shona', 'Luxembourgish, Letzeburgesch',\n",
       "       'Sindhi', 'Chuvash', 'Fijian', 'Mari', 'Walloon', 'Abkhaz',\n",
       "       'Inupiaq', 'Turkmen', 'Faroese', 'Marshallese', 'Romansh',\n",
       "       'Western Frisian', 'Norwegian Bokmål', 'Oriya',\n",
       "       'Old Church Slavonic, Church Slavonic, Old Bulgarian', 'Herero',\n",
       "       'Southern Ndebele', 'Tigrinya', 'Ndonga',\n",
       "       'Limburgish, Limburgan, Limburger', 'Swati', 'Norwegian Nynorsk',\n",
       "       'Bashkir', 'Interlingue', 'Manx', 'Nauruan',\n",
       "       'Divehi, Dhivehi, Maldivian', 'Venda', 'Interlingua',\n",
       "       'Northern Ndebele', 'Chamorro', 'Zhuang, Chuang', 'Luba-Katanga',\n",
       "       'Kwanyama, Kuanyama', 'Tsonga', 'Komi', 'Avestan', 'Volapük'],\n",
       "      dtype=object)"
      ]
     },
     "execution_count": 276,
     "metadata": {},
     "output_type": "execute_result"
    }
   ],
   "source": [
    "df_languages[\"language\"] = df_languages[\"language\"].replace('Persian\\xa0(Farsi)', 'Persian (Farsi)')\n",
    "df_languages[\"language\"] = df_languages[\"language\"].replace('Hebrew\\xa0(modern)', 'Hebrew (modern)')\n",
    "df_languages[\"language\"] = df_languages[\"language\"].replace('Greek\\xa0(modern)', 'Greek (modern)')\n",
    "df_languages[\"language\"] = df_languages[\"language\"].replace('Tonga\\xa0(Tonga Islands)', 'Tonga (Tonga Islands)')\n",
    "df_languages[\"language\"] = df_languages[\"language\"].replace('Old Church Slavonic,\\xa0Church Slavonic,\\xa0Old Bulgarian', 'Old Church Slavonic, Church Slavonic, Old Bulgarian')\n",
    "\n",
    "df_languages[\"language\"].unique()\n"
   ]
  },
  {
   "cell_type": "code",
   "execution_count": 277,
   "metadata": {},
   "outputs": [
    {
     "data": {
      "text/plain": [
       "np.int64(0)"
      ]
     },
     "execution_count": 277,
     "metadata": {},
     "output_type": "execute_result"
    }
   ],
   "source": [
    "df_languages.duplicated().sum()"
   ]
  },
  {
   "cell_type": "markdown",
   "metadata": {},
   "source": [
    "## Cleaning di movies.csv\n"
   ]
  },
  {
   "cell_type": "code",
   "execution_count": 278,
   "metadata": {},
   "outputs": [
    {
     "data": {
      "text/plain": [
       "(941597, 7)"
      ]
     },
     "execution_count": 278,
     "metadata": {},
     "output_type": "execute_result"
    }
   ],
   "source": [
    "df_movies.shape"
   ]
  },
  {
   "cell_type": "code",
   "execution_count": 279,
   "metadata": {},
   "outputs": [
    {
     "data": {
      "text/plain": [
       "id               int64\n",
       "name            object\n",
       "date           float64\n",
       "tagline         object\n",
       "description     object\n",
       "minute         float64\n",
       "rating         float64\n",
       "dtype: object"
      ]
     },
     "execution_count": 279,
     "metadata": {},
     "output_type": "execute_result"
    }
   ],
   "source": [
    "df_movies.dtypes"
   ]
  },
  {
   "cell_type": "code",
   "execution_count": 280,
   "metadata": {},
   "outputs": [
    {
     "data": {
      "text/html": [
       "<div>\n",
       "<style scoped>\n",
       "    .dataframe tbody tr th:only-of-type {\n",
       "        vertical-align: middle;\n",
       "    }\n",
       "\n",
       "    .dataframe tbody tr th {\n",
       "        vertical-align: top;\n",
       "    }\n",
       "\n",
       "    .dataframe thead th {\n",
       "        text-align: right;\n",
       "    }\n",
       "</style>\n",
       "<table border=\"1\" class=\"dataframe\">\n",
       "  <thead>\n",
       "    <tr style=\"text-align: right;\">\n",
       "      <th></th>\n",
       "      <th>id</th>\n",
       "      <th>name</th>\n",
       "      <th>date</th>\n",
       "      <th>tagline</th>\n",
       "      <th>description</th>\n",
       "      <th>minute</th>\n",
       "      <th>rating</th>\n",
       "    </tr>\n",
       "  </thead>\n",
       "  <tbody>\n",
       "    <tr>\n",
       "      <th>0</th>\n",
       "      <td>1000001</td>\n",
       "      <td>Barbie</td>\n",
       "      <td>2023.0</td>\n",
       "      <td>She's everything. He's just Ken.</td>\n",
       "      <td>Barbie and Ken are having the time of their li...</td>\n",
       "      <td>114.0</td>\n",
       "      <td>3.86</td>\n",
       "    </tr>\n",
       "    <tr>\n",
       "      <th>1</th>\n",
       "      <td>1000002</td>\n",
       "      <td>Parasite</td>\n",
       "      <td>2019.0</td>\n",
       "      <td>Act like you own the place.</td>\n",
       "      <td>All unemployed, Ki-taek's family takes peculia...</td>\n",
       "      <td>133.0</td>\n",
       "      <td>4.56</td>\n",
       "    </tr>\n",
       "    <tr>\n",
       "      <th>2</th>\n",
       "      <td>1000003</td>\n",
       "      <td>Everything Everywhere All at Once</td>\n",
       "      <td>2022.0</td>\n",
       "      <td>The universe is so much bigger than you realize.</td>\n",
       "      <td>An aging Chinese immigrant is swept up in an i...</td>\n",
       "      <td>140.0</td>\n",
       "      <td>4.30</td>\n",
       "    </tr>\n",
       "    <tr>\n",
       "      <th>3</th>\n",
       "      <td>1000004</td>\n",
       "      <td>Fight Club</td>\n",
       "      <td>1999.0</td>\n",
       "      <td>Mischief. Mayhem. Soap.</td>\n",
       "      <td>A ticking-time-bomb insomniac and a slippery s...</td>\n",
       "      <td>139.0</td>\n",
       "      <td>4.27</td>\n",
       "    </tr>\n",
       "    <tr>\n",
       "      <th>4</th>\n",
       "      <td>1000005</td>\n",
       "      <td>La La Land</td>\n",
       "      <td>2016.0</td>\n",
       "      <td>Here's to the fools who dream.</td>\n",
       "      <td>Mia, an aspiring actress, serves lattes to mov...</td>\n",
       "      <td>129.0</td>\n",
       "      <td>4.09</td>\n",
       "    </tr>\n",
       "    <tr>\n",
       "      <th>...</th>\n",
       "      <td>...</td>\n",
       "      <td>...</td>\n",
       "      <td>...</td>\n",
       "      <td>...</td>\n",
       "      <td>...</td>\n",
       "      <td>...</td>\n",
       "      <td>...</td>\n",
       "    </tr>\n",
       "    <tr>\n",
       "      <th>195</th>\n",
       "      <td>1000196</td>\n",
       "      <td>Tangled</td>\n",
       "      <td>2010.0</td>\n",
       "      <td>They're taking adventure to new lengths.</td>\n",
       "      <td>When the kingdom's most wanted-and most charmi...</td>\n",
       "      <td>100.0</td>\n",
       "      <td>3.93</td>\n",
       "    </tr>\n",
       "    <tr>\n",
       "      <th>196</th>\n",
       "      <td>1000197</td>\n",
       "      <td>Thor: Love and Thunder</td>\n",
       "      <td>2022.0</td>\n",
       "      <td>The one is not the only.</td>\n",
       "      <td>After his retirement is interrupted by Gorr th...</td>\n",
       "      <td>119.0</td>\n",
       "      <td>2.48</td>\n",
       "    </tr>\n",
       "    <tr>\n",
       "      <th>197</th>\n",
       "      <td>1000198</td>\n",
       "      <td>Jaws</td>\n",
       "      <td>1975.0</td>\n",
       "      <td>Don't go in the water</td>\n",
       "      <td>When an insatiable great white shark terrorize...</td>\n",
       "      <td>124.0</td>\n",
       "      <td>3.96</td>\n",
       "    </tr>\n",
       "    <tr>\n",
       "      <th>198</th>\n",
       "      <td>1000199</td>\n",
       "      <td>The Departed</td>\n",
       "      <td>2006.0</td>\n",
       "      <td>Lies. Betrayal. Sacrifice. How far will you ta...</td>\n",
       "      <td>To take down South Boston's Irish Mafia, the p...</td>\n",
       "      <td>151.0</td>\n",
       "      <td>4.31</td>\n",
       "    </tr>\n",
       "    <tr>\n",
       "      <th>199</th>\n",
       "      <td>1000200</td>\n",
       "      <td>Avengers: Age of Ultron</td>\n",
       "      <td>2015.0</td>\n",
       "      <td>A New Age Has Come.</td>\n",
       "      <td>When Tony Stark tries to jumpstart a dormant p...</td>\n",
       "      <td>141.0</td>\n",
       "      <td>3.10</td>\n",
       "    </tr>\n",
       "  </tbody>\n",
       "</table>\n",
       "<p>200 rows × 7 columns</p>\n",
       "</div>"
      ],
      "text/plain": [
       "          id                               name    date  \\\n",
       "0    1000001                             Barbie  2023.0   \n",
       "1    1000002                           Parasite  2019.0   \n",
       "2    1000003  Everything Everywhere All at Once  2022.0   \n",
       "3    1000004                         Fight Club  1999.0   \n",
       "4    1000005                         La La Land  2016.0   \n",
       "..       ...                                ...     ...   \n",
       "195  1000196                            Tangled  2010.0   \n",
       "196  1000197             Thor: Love and Thunder  2022.0   \n",
       "197  1000198                               Jaws  1975.0   \n",
       "198  1000199                       The Departed  2006.0   \n",
       "199  1000200            Avengers: Age of Ultron  2015.0   \n",
       "\n",
       "                                               tagline  \\\n",
       "0                     She's everything. He's just Ken.   \n",
       "1                          Act like you own the place.   \n",
       "2     The universe is so much bigger than you realize.   \n",
       "3                              Mischief. Mayhem. Soap.   \n",
       "4                       Here's to the fools who dream.   \n",
       "..                                                 ...   \n",
       "195           They're taking adventure to new lengths.   \n",
       "196                           The one is not the only.   \n",
       "197                              Don't go in the water   \n",
       "198  Lies. Betrayal. Sacrifice. How far will you ta...   \n",
       "199                                A New Age Has Come.   \n",
       "\n",
       "                                           description  minute  rating  \n",
       "0    Barbie and Ken are having the time of their li...   114.0    3.86  \n",
       "1    All unemployed, Ki-taek's family takes peculia...   133.0    4.56  \n",
       "2    An aging Chinese immigrant is swept up in an i...   140.0    4.30  \n",
       "3    A ticking-time-bomb insomniac and a slippery s...   139.0    4.27  \n",
       "4    Mia, an aspiring actress, serves lattes to mov...   129.0    4.09  \n",
       "..                                                 ...     ...     ...  \n",
       "195  When the kingdom's most wanted-and most charmi...   100.0    3.93  \n",
       "196  After his retirement is interrupted by Gorr th...   119.0    2.48  \n",
       "197  When an insatiable great white shark terrorize...   124.0    3.96  \n",
       "198  To take down South Boston's Irish Mafia, the p...   151.0    4.31  \n",
       "199  When Tony Stark tries to jumpstart a dormant p...   141.0    3.10  \n",
       "\n",
       "[200 rows x 7 columns]"
      ]
     },
     "execution_count": 280,
     "metadata": {},
     "output_type": "execute_result"
    }
   ],
   "source": [
    "df_movies.head(200)"
   ]
  },
  {
   "cell_type": "code",
   "execution_count": 281,
   "metadata": {},
   "outputs": [
    {
     "data": {
      "text/plain": [
       "id                  0\n",
       "name               10\n",
       "date            91913\n",
       "tagline        802210\n",
       "description    160812\n",
       "minute         181570\n",
       "rating         850598\n",
       "dtype: int64"
      ]
     },
     "execution_count": 281,
     "metadata": {},
     "output_type": "execute_result"
    }
   ],
   "source": [
    "df_movies.isna().sum()"
   ]
  },
  {
   "cell_type": "code",
   "execution_count": 282,
   "metadata": {},
   "outputs": [
    {
     "data": {
      "text/plain": [
       "(941591, 7)"
      ]
     },
     "execution_count": 282,
     "metadata": {},
     "output_type": "execute_result"
    }
   ],
   "source": [
    "df_movies.dropna(subset=[\"name\", \"date\", \"tagline\", \"description\", \"minute\", \"rating\"], how='all', inplace=True)\n",
    "df_movies.shape"
   ]
  },
  {
   "cell_type": "code",
   "execution_count": 283,
   "metadata": {},
   "outputs": [],
   "source": [
    "# we will split analysis in two different stories!\n",
    "df_released_movies = df_movies[df_movies['id'].isin(df_releases['id'])]\n",
    "df_unreleased_movies = df_movies[~df_movies['id'].isin(df_releases['id'])]"
   ]
  },
  {
   "cell_type": "code",
   "execution_count": 284,
   "metadata": {},
   "outputs": [
    {
     "data": {
      "text/plain": [
       "np.int64(738954)"
      ]
     },
     "execution_count": 284,
     "metadata": {},
     "output_type": "execute_result"
    }
   ],
   "source": [
    "df_released_movies[\"rating\"].isna().sum()"
   ]
  },
  {
   "cell_type": "code",
   "execution_count": 285,
   "metadata": {},
   "outputs": [
    {
     "data": {
      "text/plain": [
       "(142, 7)"
      ]
     },
     "execution_count": 285,
     "metadata": {},
     "output_type": "execute_result"
    }
   ],
   "source": [
    "df_test=df_released_movies.loc[df_released_movies[\"date\"].isna()]\n",
    "df_test.shape"
   ]
  },
  {
   "cell_type": "code",
   "execution_count": 286,
   "metadata": {},
   "outputs": [],
   "source": [
    "# Rimuovere i film che non hanno valori nel campo \"name\" e neanche nel campo \"description\"\n",
    "# perchè è presente un film dal \"name\" NaN che quindi immagino sia un effettivo film\n",
    "df_released_movies = df_released_movies.dropna(subset=['name', 'description'], how='all').reset_index(drop=True)\n"
   ]
  },
  {
   "cell_type": "code",
   "execution_count": 287,
   "metadata": {},
   "outputs": [
    {
     "data": {
      "text/plain": [
       "np.int64(0)"
      ]
     },
     "execution_count": 287,
     "metadata": {},
     "output_type": "execute_result"
    }
   ],
   "source": [
    "#assenza di duplicati \n",
    "df_released_movies.duplicated().sum()"
   ]
  },
  {
   "cell_type": "code",
   "execution_count": 288,
   "metadata": {},
   "outputs": [
    {
     "data": {
      "text/plain": [
       "(826017, 7)"
      ]
     },
     "execution_count": 288,
     "metadata": {},
     "output_type": "execute_result"
    }
   ],
   "source": [
    "df_released_movies.shape"
   ]
  },
  {
   "cell_type": "markdown",
   "metadata": {},
   "source": [
    "## Cleaning di df_poster\n"
   ]
  },
  {
   "cell_type": "code",
   "execution_count": 289,
   "metadata": {},
   "outputs": [
    {
     "data": {
      "text/plain": [
       "(941597, 2)"
      ]
     },
     "execution_count": 289,
     "metadata": {},
     "output_type": "execute_result"
    }
   ],
   "source": [
    "df_posters.shape"
   ]
  },
  {
   "cell_type": "code",
   "execution_count": 290,
   "metadata": {},
   "outputs": [
    {
     "data": {
      "text/plain": [
       "id       int64\n",
       "link    object\n",
       "dtype: object"
      ]
     },
     "execution_count": 290,
     "metadata": {},
     "output_type": "execute_result"
    }
   ],
   "source": [
    "df_posters.dtypes"
   ]
  },
  {
   "cell_type": "code",
   "execution_count": 291,
   "metadata": {},
   "outputs": [],
   "source": [
    "df_posters.head(100)\n",
    "df_posters.rename(columns={'id': 'id_film'}, inplace=True)"
   ]
  },
  {
   "cell_type": "code",
   "execution_count": 292,
   "metadata": {},
   "outputs": [
    {
     "name": "stderr",
     "output_type": "stream",
     "text": [
      "/var/folders/sq/qp2ff4vn2g9_6vmpy83jznrh0000gn/T/ipykernel_5124/631055571.py:1: FutureWarning: A value is trying to be set on a copy of a DataFrame or Series through chained assignment using an inplace method.\n",
      "The behavior will change in pandas 3.0. This inplace method will never work because the intermediate object on which we are setting values always behaves as a copy.\n",
      "\n",
      "For example, when doing 'df[col].method(value, inplace=True)', try using 'df.method({col: value}, inplace=True)' or df[col] = df[col].method(value) instead, to perform the operation inplace on the original object.\n",
      "\n",
      "\n",
      "  df_posters[\"link\"].fillna(\"https://images.fandango.com/cms/assets/5d84d010-59b1-11ea-b175-791e911be53d--rt-poster-defaultgif.gif\",inplace=True)\n"
     ]
    }
   ],
   "source": [
    "df_posters[\"link\"].fillna(\"https://images.fandango.com/cms/assets/5d84d010-59b1-11ea-b175-791e911be53d--rt-poster-defaultgif.gif\",inplace=True)"
   ]
  },
  {
   "cell_type": "code",
   "execution_count": 293,
   "metadata": {},
   "outputs": [
    {
     "data": {
      "text/plain": [
       "id_film    0\n",
       "link       0\n",
       "dtype: int64"
      ]
     },
     "execution_count": 293,
     "metadata": {},
     "output_type": "execute_result"
    }
   ],
   "source": [
    "df_posters.isna().sum()\n"
   ]
  },
  {
   "cell_type": "code",
   "execution_count": 294,
   "metadata": {},
   "outputs": [
    {
     "data": {
      "text/plain": [
       "np.int64(0)"
      ]
     },
     "execution_count": 294,
     "metadata": {},
     "output_type": "execute_result"
    }
   ],
   "source": [
    "df_posters[\"id_film\"].duplicated().sum()"
   ]
  },
  {
   "cell_type": "code",
   "execution_count": 295,
   "metadata": {},
   "outputs": [
    {
     "data": {
      "text/plain": [
       "(941597, 2)"
      ]
     },
     "execution_count": 295,
     "metadata": {},
     "output_type": "execute_result"
    }
   ],
   "source": [
    "df_posters.shape"
   ]
  },
  {
   "cell_type": "markdown",
   "metadata": {},
   "source": [
    "## Cleaning df_releases\n"
   ]
  },
  {
   "cell_type": "code",
   "execution_count": 296,
   "metadata": {},
   "outputs": [
    {
     "data": {
      "text/plain": [
       "(1332782, 5)"
      ]
     },
     "execution_count": 296,
     "metadata": {},
     "output_type": "execute_result"
    }
   ],
   "source": [
    "df_releases.shape"
   ]
  },
  {
   "cell_type": "code",
   "execution_count": 297,
   "metadata": {},
   "outputs": [
    {
     "data": {
      "text/plain": [
       "id          int64\n",
       "country    object\n",
       "date       object\n",
       "type       object\n",
       "rating     object\n",
       "dtype: object"
      ]
     },
     "execution_count": 297,
     "metadata": {},
     "output_type": "execute_result"
    }
   ],
   "source": [
    "df_releases.dtypes"
   ]
  },
  {
   "cell_type": "code",
   "execution_count": 298,
   "metadata": {},
   "outputs": [],
   "source": [
    "df_releases.rename(columns={'id': 'id_film'}, inplace=True)"
   ]
  },
  {
   "cell_type": "code",
   "execution_count": 299,
   "metadata": {},
   "outputs": [],
   "source": [
    "rating_to_age = {\n",
    "    'ATP': 0, 'PG': 10, 'U': 0, 'K-7': 7, 'TP': 10, 'IIA': 12, 'UA': 12,\n",
    "    '12A': 12, 'T': 13, 'G': 0, 'N-13': 13, 'B': 12, 'M/12': 12, 'PG-13': 13,\n",
    "    'PG13': 13, 'A': 18, 'K-16': 16, 'IIB': 15, 'VM14': 14, 'PG12': 12,\n",
    "    'N-16': 16, 'B-15': 15, 'M/14': 14, 'M18': 18, 'R': 17, 'C18': 18,\n",
    "    'K15': 15, '18A': 18, 'K-18': 18, '18PL': 18, 'C': 18, 'R-18': 18,\n",
    "    'M/18': 18, 'M': 17, 'L': 18, 'S': 18, 'AL': 0, '14A': 14, 'K-12': 12,\n",
    "    'K12': 12, '15A': 15, 'R-16': 16, 'AG': 0, 'D': 18, 'A-18': 18, 'R16': 16,\n",
    "    'NC16': 16, 'P': 0, '18TC': 18, 'III': 18, 'VM18': 18, 'M/16': 16,\n",
    "    'R21': 21, 'N-7': 7, 'M/6': 6, 'AP': 0, 'R13': 13, 'P13': 13, 'R-13': 13,\n",
    "    'C16': 16, 'R18': 18, 'NR': 0, 'K-13': 13, 'X': 18, 'K18': 18,\n",
    "    'N-18': 18, 'K': 0, 'SU': 0, '10A': 10, 'APTA': 0, 'R-15': 15, 'APT': 0,\n",
    "    'KT/EA': 0, 'K-15': 15, 'I': 18, 'ALL': 0, 'C13': 13, '18PA': 18,\n",
    "    'RP13': 13, 'Y7': 7, 'NC-16': 16, 'KN': 0, 'PG-15': 15, 'K-11': 11,\n",
    "    'K-8': 8, 'PG-12': 12, '18SG': 18, 'EA': 0, 'V': 18, 'R-12': 12,\n",
    "    'K-17': 17, 'B15': 15, 'AA': 18, '12PG': 12, 'K-10': 10, 'AP-12': 12,\n",
    "    'TE': 13, 'R12': 12, '7-9PG': 9, '13A': 13, 'M/3': 3, 'N-15': 15,\n",
    "    'KT': 0, 'SR': 18, 'K-6-4': 6, 'NC-15': 15, 'M/4': 4, 'K-14': 14,\n",
    "    'NC-17': 17, 'MS12': 12, 'GP': 0, 'ZA': 0, '15PG': 15, 'R15': 15,\n",
    "    'E': 0, 'RP16': 16, 'M/16Q': 16, 'II': 12, 'RC': 18, 'K-3': 3, '6A': 6,\n",
    "    'PERE': 0, 'MP': 0, '7A': 7, 'N16': 16, 'K7': 7, 'TV-MA': 18,\n",
    "} #from the internet\n",
    "\n",
    "df_releases['age_min'] = df_releases['rating'].map(rating_to_age)\n",
    "df_releases.fillna({'age_min': 0}, inplace=True)\n",
    "df_releases[\"age_min\"]= df_releases[\"age_min\"].astype(int)\n",
    "df_releases[\"age_min\"] = df_releases[\"age_min\"].replace(0, np.nan)\n",
    "df_releases.drop(columns=[\"rating\"],inplace=True)\n",
    "\n"
   ]
  },
  {
   "cell_type": "code",
   "execution_count": 300,
   "metadata": {},
   "outputs": [
    {
     "data": {
      "text/plain": [
       "id_film          0\n",
       "country          0\n",
       "date             0\n",
       "type             0\n",
       "age_min    1225161\n",
       "dtype: int64"
      ]
     },
     "execution_count": 300,
     "metadata": {},
     "output_type": "execute_result"
    }
   ],
   "source": [
    "df_releases.isna().sum()"
   ]
  },
  {
   "cell_type": "code",
   "execution_count": 301,
   "metadata": {},
   "outputs": [
    {
     "data": {
      "text/plain": [
       "id_film             int64\n",
       "country            object\n",
       "date       datetime64[ns]\n",
       "type               object\n",
       "age_min           float64\n",
       "dtype: object"
      ]
     },
     "execution_count": 301,
     "metadata": {},
     "output_type": "execute_result"
    }
   ],
   "source": [
    "df_releases['date'] = pd.to_datetime(df_releases['date'],\n",
    " errors='coerce', format='%Y-%m-%d').fillna(\n",
    " pd.to_datetime(df_releases['date'],\n",
    " errors='coerce'))\n",
    " \n",
    "df_releases.dtypes"
   ]
  },
  {
   "cell_type": "code",
   "execution_count": 302,
   "metadata": {},
   "outputs": [
    {
     "data": {
      "text/plain": [
       "np.int64(0)"
      ]
     },
     "execution_count": 302,
     "metadata": {},
     "output_type": "execute_result"
    }
   ],
   "source": [
    "df_releases.duplicated(subset=[\"id_film\", \"country\", \"type\", \"date\"]).sum()"
   ]
  },
  {
   "cell_type": "markdown",
   "metadata": {},
   "source": [
    "## Cleaning Themes\n"
   ]
  },
  {
   "cell_type": "code",
   "execution_count": 303,
   "metadata": {},
   "outputs": [
    {
     "data": {
      "text/plain": [
       "id_film     int64\n",
       "theme      object\n",
       "dtype: object"
      ]
     },
     "execution_count": 303,
     "metadata": {},
     "output_type": "execute_result"
    }
   ],
   "source": [
    "df_themes.rename(columns={'id': 'id_film'}, inplace=True)\n",
    "df_themes.dtypes"
   ]
  },
  {
   "cell_type": "code",
   "execution_count": 304,
   "metadata": {},
   "outputs": [
    {
     "data": {
      "text/plain": [
       "id_film    0\n",
       "theme      0\n",
       "dtype: int64"
      ]
     },
     "execution_count": 304,
     "metadata": {},
     "output_type": "execute_result"
    }
   ],
   "source": [
    "df_themes.isna().sum()"
   ]
  },
  {
   "cell_type": "code",
   "execution_count": 305,
   "metadata": {},
   "outputs": [
    {
     "data": {
      "text/plain": [
       "np.int64(0)"
      ]
     },
     "execution_count": 305,
     "metadata": {},
     "output_type": "execute_result"
    }
   ],
   "source": [
    "df_themes.duplicated().sum()\n"
   ]
  },
  {
   "cell_type": "code",
   "execution_count": 306,
   "metadata": {},
   "outputs": [
    {
     "data": {
      "text/plain": [
       "array(['Humanity and the world around us', 'Crude humor and satire',\n",
       "       'Moving relationship stories',\n",
       "       'Emotional and captivating fantasy storytelling',\n",
       "       'Surreal and thought-provoking visions of life and death',\n",
       "       'Quirky and endearing relationships',\n",
       "       'Amusing jokes and witty satire',\n",
       "       'Laugh-out-loud relationship entanglements',\n",
       "       'Intense violence and sexual transgression',\n",
       "       'Twisted dark psychological thriller',\n",
       "       'Heartbreaking and moving family drama',\n",
       "       'Enduring stories of family and marital drama',\n",
       "       'Touching and sentimental family stories',\n",
       "       'Intense political and terrorist thrillers',\n",
       "       'Powerful stories of heartbreak and suffering',\n",
       "       'Dreamlike, quirky, and surreal storytelling',\n",
       "       'Challenging or sexual themes & twists',\n",
       "       'Graphic violence and brutal revenge', 'Song and dance',\n",
       "       'Dazzling vocal performances and musicals',\n",
       "       'Captivating relationships and charming romance',\n",
       "       'Dance rhythms and catchy tunes',\n",
       "       'Emotional life of renowned artists',\n",
       "       'Charming romances and delightful chemistry',\n",
       "       'Politics and human rights', 'Epic history and literature',\n",
       "       'Riveting political and presidential drama',\n",
       "       'Dangerous technology and the apocalypse',\n",
       "       'Political drama, patriotism, and war',\n",
       "       'Monsters, aliens, sci-fi and the apocalypse',\n",
       "       'Imaginative space odysseys and alien encounters',\n",
       "       'Action-packed space and alien sagas',\n",
       "       'Thought-provoking sci-fi action and future technology',\n",
       "       \"Humanity's odyssey: earth and beyond\",\n",
       "       'Crime, drugs and gangsters', 'Gripping, intense violent crime',\n",
       "       'Epic heroes',\n",
       "       'Superheroes in action-packed battles with villains',\n",
       "       'Gritty crime and ruthless gangsters',\n",
       "       'Violent action, guns, and crime', 'Heists and thrilling action',\n",
       "       'Brutal, violent prison drama', \"Kids' animated fun and adventure\",\n",
       "       'Action comedy and silly heroics',\n",
       "       'Teen school antics and laughter',\n",
       "       'Student coming-of-age challenges', 'High speed and special ops',\n",
       "       'Thrillers and murder mysteries',\n",
       "       'Explosive and action-packed heroes vs. villains',\n",
       "       'Noir and dark crime dramas',\n",
       "       'Intriguing and suspenseful murder mysteries',\n",
       "       'Horror, the undead and monster classics',\n",
       "       'Terrifying, haunted, and supernatural horror',\n",
       "       'Creepy, chilling, and terrifying horror',\n",
       "       'Gory, gruesome, and slasher horror',\n",
       "       'Racism and the powerful fight for justice',\n",
       "       'Suspenseful crime thrillers', 'Gothic and eerie haunting horror',\n",
       "       'Erotic relationships and desire', 'Underdogs and coming of age',\n",
       "       'Emotional and touching family dramas',\n",
       "       'Emotional teen coming-of-age stories', 'Relationship comedy',\n",
       "       'Gags, jokes, and slapstick humor', 'Funny jokes and crude humor',\n",
       "       'Engaging, intense crime and casino drama',\n",
       "       'Violent crime and drugs',\n",
       "       'Fantasy adventure, heroism, and swordplay',\n",
       "       'Historical battles and epic heroism',\n",
       "       'Fairy-tale fantasy and enchanted magic',\n",
       "       'Adorable animals and heartwarming families',\n",
       "       'Fascinating, emotional stories and documentaries',\n",
       "       'War and historical adventure', 'Nazis and World War II',\n",
       "       'Military combat and heroic soldiers', 'Bravery in War',\n",
       "       'Adrenaline-fueled action and fast cars',\n",
       "       'Intense combat and martial arts', 'Westerns',\n",
       "       'Wild west outlaws and gunfights',\n",
       "       'Western frontier dramas with a touch of humor',\n",
       "       'Emotional LGBTQ relationships', 'Passion and romance',\n",
       "       'Holiday joy and heartwarming Christmas',\n",
       "       'Catchy songs and hilarious musical comedy',\n",
       "       'Sci-fi horror, creatures, and aliens', 'Faith and religion',\n",
       "       'Epic adventure and breathtaking battles',\n",
       "       'Tragic sadness and captivating beauty',\n",
       "       'Disastrous voyages and heroic survival',\n",
       "       'Underdog fighting and boxing stories',\n",
       "       'Air pilot heroism and survival',\n",
       "       'Exciting spy thrillers with tense intrigue',\n",
       "       'Sci-fi monster and dinosaur adventures',\n",
       "       'Chilling experiments and classic monster horror',\n",
       "       'Captivating vision and Shakespearean drama',\n",
       "       'Powerful poetic and passionate drama', 'Spooky, scary comedy',\n",
       "       'Legendary musicians and stardom',\n",
       "       'Religious faith, sin, and forgiveness', 'Bloody vampire horror',\n",
       "       'Inspiring sports underdog stories',\n",
       "       'Survival horror and zombie carnage',\n",
       "       'Extreme gory horror and cannibalism',\n",
       "       'Lavish dramas and sumptuous royalty',\n",
       "       'Faith and spiritual journeys',\n",
       "       'Politics, propaganda, and political documentaries',\n",
       "       'Teen friendship and coming-of-age', 'Bollywood emotional dramas'],\n",
       "      dtype=object)"
      ]
     },
     "execution_count": 306,
     "metadata": {},
     "output_type": "execute_result"
    }
   ],
   "source": [
    "df_themes[\"theme\"].unique()"
   ]
  },
  {
   "cell_type": "markdown",
   "metadata": {},
   "source": [
    "## Cleaning Studios\n"
   ]
  },
  {
   "cell_type": "code",
   "execution_count": 307,
   "metadata": {},
   "outputs": [
    {
     "data": {
      "text/plain": [
       "(679283, 2)"
      ]
     },
     "execution_count": 307,
     "metadata": {},
     "output_type": "execute_result"
    }
   ],
   "source": [
    "df_studios.shape"
   ]
  },
  {
   "cell_type": "code",
   "execution_count": 308,
   "metadata": {},
   "outputs": [
    {
     "data": {
      "text/plain": [
       "id_film     int64\n",
       "studio     object\n",
       "dtype: object"
      ]
     },
     "execution_count": 308,
     "metadata": {},
     "output_type": "execute_result"
    }
   ],
   "source": [
    "df_studios.rename(columns={'id': 'id_film'}, inplace=True)\n",
    "df_studios.dtypes"
   ]
  },
  {
   "cell_type": "code",
   "execution_count": 309,
   "metadata": {},
   "outputs": [
    {
     "data": {
      "text/plain": [
       "id_film     0\n",
       "studio     10\n",
       "dtype: int64"
      ]
     },
     "execution_count": 309,
     "metadata": {},
     "output_type": "execute_result"
    }
   ],
   "source": [
    "df_studios.isna().sum()"
   ]
  },
  {
   "cell_type": "code",
   "execution_count": 310,
   "metadata": {},
   "outputs": [],
   "source": [
    "df_studios.loc[df_studios['studio'].isna(), \"studio\"] = \"Unknown\""
   ]
  },
  {
   "cell_type": "code",
   "execution_count": 311,
   "metadata": {},
   "outputs": [
    {
     "data": {
      "text/plain": [
       "np.int64(212)"
      ]
     },
     "execution_count": 311,
     "metadata": {},
     "output_type": "execute_result"
    }
   ],
   "source": [
    "df_studios.duplicated().sum()"
   ]
  },
  {
   "cell_type": "code",
   "execution_count": 312,
   "metadata": {},
   "outputs": [
    {
     "data": {
      "text/plain": [
       "(679071, 2)"
      ]
     },
     "execution_count": 312,
     "metadata": {},
     "output_type": "execute_result"
    }
   ],
   "source": [
    "df_studios=df_studios.drop_duplicates(subset=[\"id_film\",\"studio\"],keep=\"first\")\n",
    "df_studios.shape"
   ]
  },
  {
   "cell_type": "markdown",
   "metadata": {},
   "source": [
    "## Cleaning RottenTomatoes Reviews\n"
   ]
  },
  {
   "cell_type": "code",
   "execution_count": 313,
   "metadata": {},
   "outputs": [
    {
     "data": {
      "text/plain": [
       "(1129887, 9)"
      ]
     },
     "execution_count": 313,
     "metadata": {},
     "output_type": "execute_result"
    }
   ],
   "source": [
    "df_tomatoes.shape"
   ]
  },
  {
   "cell_type": "code",
   "execution_count": 314,
   "metadata": {},
   "outputs": [
    {
     "data": {
      "text/plain": [
       "rotten_tomatoes_link    object\n",
       "movie_title             object\n",
       "critic_name             object\n",
       "top_critic                bool\n",
       "publisher_name          object\n",
       "review_type             object\n",
       "review_score            object\n",
       "review_date             object\n",
       "review_content          object\n",
       "dtype: object"
      ]
     },
     "execution_count": 314,
     "metadata": {},
     "output_type": "execute_result"
    }
   ],
   "source": [
    "df_tomatoes.dtypes"
   ]
  },
  {
   "cell_type": "code",
   "execution_count": 315,
   "metadata": {},
   "outputs": [
    {
     "data": {
      "text/plain": [
       "rotten_tomatoes_link            object\n",
       "movie_title                     object\n",
       "critic_name                     object\n",
       "top_critic                        bool\n",
       "publisher_name                  object\n",
       "review_type                     object\n",
       "review_score                    object\n",
       "review_date             datetime64[ns]\n",
       "review_content                  object\n",
       "dtype: object"
      ]
     },
     "execution_count": 315,
     "metadata": {},
     "output_type": "execute_result"
    }
   ],
   "source": [
    "#change review_date from str to date\n",
    "df_tomatoes[\"review_date\"]=pd.to_datetime(df_tomatoes[\"review_date\"], format=\"%Y-%m-%d\", errors=\"coerce\")\n",
    "df_tomatoes.dtypes"
   ]
  },
  {
   "cell_type": "code",
   "execution_count": 316,
   "metadata": {},
   "outputs": [
    {
     "data": {
      "text/html": [
       "<div>\n",
       "<style scoped>\n",
       "    .dataframe tbody tr th:only-of-type {\n",
       "        vertical-align: middle;\n",
       "    }\n",
       "\n",
       "    .dataframe tbody tr th {\n",
       "        vertical-align: top;\n",
       "    }\n",
       "\n",
       "    .dataframe thead th {\n",
       "        text-align: right;\n",
       "    }\n",
       "</style>\n",
       "<table border=\"1\" class=\"dataframe\">\n",
       "  <thead>\n",
       "    <tr style=\"text-align: right;\">\n",
       "      <th></th>\n",
       "      <th>rotten_tomatoes_link</th>\n",
       "      <th>movie_title</th>\n",
       "      <th>critic_name</th>\n",
       "      <th>top_critic</th>\n",
       "      <th>publisher_name</th>\n",
       "      <th>review_type</th>\n",
       "      <th>review_score</th>\n",
       "      <th>review_date</th>\n",
       "      <th>review_content</th>\n",
       "      <th>link</th>\n",
       "    </tr>\n",
       "  </thead>\n",
       "  <tbody>\n",
       "    <tr>\n",
       "      <th>0</th>\n",
       "      <td>m/0814255</td>\n",
       "      <td>Percy Jackson &amp; the Olympians: The Lightning T...</td>\n",
       "      <td>Andrew L. Urban</td>\n",
       "      <td>False</td>\n",
       "      <td>Urban Cinefile</td>\n",
       "      <td>Fresh</td>\n",
       "      <td>NaN</td>\n",
       "      <td>2010-02-06</td>\n",
       "      <td>A fantasy adventure that fuses Greek mythology...</td>\n",
       "      <td>https://www.rottentomatoes.com/m/0814255</td>\n",
       "    </tr>\n",
       "    <tr>\n",
       "      <th>1</th>\n",
       "      <td>m/0814255</td>\n",
       "      <td>Percy Jackson &amp; the Olympians: The Lightning T...</td>\n",
       "      <td>Louise Keller</td>\n",
       "      <td>False</td>\n",
       "      <td>Urban Cinefile</td>\n",
       "      <td>Fresh</td>\n",
       "      <td>NaN</td>\n",
       "      <td>2010-02-06</td>\n",
       "      <td>Uma Thurman as Medusa, the gorgon with a coiff...</td>\n",
       "      <td>https://www.rottentomatoes.com/m/0814255</td>\n",
       "    </tr>\n",
       "    <tr>\n",
       "      <th>2</th>\n",
       "      <td>m/0814255</td>\n",
       "      <td>Percy Jackson &amp; the Olympians: The Lightning T...</td>\n",
       "      <td>NaN</td>\n",
       "      <td>False</td>\n",
       "      <td>FILMINK (Australia)</td>\n",
       "      <td>Fresh</td>\n",
       "      <td>NaN</td>\n",
       "      <td>2010-02-09</td>\n",
       "      <td>With a top-notch cast and dazzling special eff...</td>\n",
       "      <td>https://www.rottentomatoes.com/m/0814255</td>\n",
       "    </tr>\n",
       "    <tr>\n",
       "      <th>3</th>\n",
       "      <td>m/0814255</td>\n",
       "      <td>Percy Jackson &amp; the Olympians: The Lightning T...</td>\n",
       "      <td>Ben McEachen</td>\n",
       "      <td>False</td>\n",
       "      <td>Sunday Mail (Australia)</td>\n",
       "      <td>Fresh</td>\n",
       "      <td>3.5/5</td>\n",
       "      <td>2010-02-09</td>\n",
       "      <td>Whether audiences will get behind The Lightnin...</td>\n",
       "      <td>https://www.rottentomatoes.com/m/0814255</td>\n",
       "    </tr>\n",
       "    <tr>\n",
       "      <th>4</th>\n",
       "      <td>m/0814255</td>\n",
       "      <td>Percy Jackson &amp; the Olympians: The Lightning T...</td>\n",
       "      <td>Ethan Alter</td>\n",
       "      <td>True</td>\n",
       "      <td>Hollywood Reporter</td>\n",
       "      <td>Rotten</td>\n",
       "      <td>NaN</td>\n",
       "      <td>2010-02-10</td>\n",
       "      <td>What's really lacking in The Lightning Thief i...</td>\n",
       "      <td>https://www.rottentomatoes.com/m/0814255</td>\n",
       "    </tr>\n",
       "    <tr>\n",
       "      <th>...</th>\n",
       "      <td>...</td>\n",
       "      <td>...</td>\n",
       "      <td>...</td>\n",
       "      <td>...</td>\n",
       "      <td>...</td>\n",
       "      <td>...</td>\n",
       "      <td>...</td>\n",
       "      <td>...</td>\n",
       "      <td>...</td>\n",
       "      <td>...</td>\n",
       "    </tr>\n",
       "    <tr>\n",
       "      <th>1129882</th>\n",
       "      <td>m/zulu_dawn</td>\n",
       "      <td>Zulu Dawn</td>\n",
       "      <td>Chuck O'Leary</td>\n",
       "      <td>False</td>\n",
       "      <td>Fantastica Daily</td>\n",
       "      <td>Rotten</td>\n",
       "      <td>2/5</td>\n",
       "      <td>2005-11-02</td>\n",
       "      <td>NaN</td>\n",
       "      <td>https://www.rottentomatoes.com/m/zulu_dawn</td>\n",
       "    </tr>\n",
       "    <tr>\n",
       "      <th>1129883</th>\n",
       "      <td>m/zulu_dawn</td>\n",
       "      <td>Zulu Dawn</td>\n",
       "      <td>Ken Hanke</td>\n",
       "      <td>False</td>\n",
       "      <td>Mountain Xpress (Asheville, NC)</td>\n",
       "      <td>Fresh</td>\n",
       "      <td>3.5/5</td>\n",
       "      <td>2007-03-07</td>\n",
       "      <td>Seen today, it's not only a startling indictme...</td>\n",
       "      <td>https://www.rottentomatoes.com/m/zulu_dawn</td>\n",
       "    </tr>\n",
       "    <tr>\n",
       "      <th>1129884</th>\n",
       "      <td>m/zulu_dawn</td>\n",
       "      <td>Zulu Dawn</td>\n",
       "      <td>Dennis Schwartz</td>\n",
       "      <td>False</td>\n",
       "      <td>Dennis Schwartz Movie Reviews</td>\n",
       "      <td>Fresh</td>\n",
       "      <td>B+</td>\n",
       "      <td>2010-09-16</td>\n",
       "      <td>A rousing visual spectacle that's a prequel of...</td>\n",
       "      <td>https://www.rottentomatoes.com/m/zulu_dawn</td>\n",
       "    </tr>\n",
       "    <tr>\n",
       "      <th>1129885</th>\n",
       "      <td>m/zulu_dawn</td>\n",
       "      <td>Zulu Dawn</td>\n",
       "      <td>Christopher Lloyd</td>\n",
       "      <td>False</td>\n",
       "      <td>Sarasota Herald-Tribune</td>\n",
       "      <td>Rotten</td>\n",
       "      <td>3.5/5</td>\n",
       "      <td>2011-02-28</td>\n",
       "      <td>A simple two-act story: Prelude to war, and th...</td>\n",
       "      <td>https://www.rottentomatoes.com/m/zulu_dawn</td>\n",
       "    </tr>\n",
       "    <tr>\n",
       "      <th>1129886</th>\n",
       "      <td>m/zulu_dawn</td>\n",
       "      <td>Zulu Dawn</td>\n",
       "      <td>Brent McKnight</td>\n",
       "      <td>False</td>\n",
       "      <td>The Last Thing I See</td>\n",
       "      <td>Rotten</td>\n",
       "      <td>C</td>\n",
       "      <td>2020-07-09</td>\n",
       "      <td>Rides the line between being a pure artifact o...</td>\n",
       "      <td>https://www.rottentomatoes.com/m/zulu_dawn</td>\n",
       "    </tr>\n",
       "  </tbody>\n",
       "</table>\n",
       "<p>1129887 rows × 10 columns</p>\n",
       "</div>"
      ],
      "text/plain": [
       "        rotten_tomatoes_link  \\\n",
       "0                  m/0814255   \n",
       "1                  m/0814255   \n",
       "2                  m/0814255   \n",
       "3                  m/0814255   \n",
       "4                  m/0814255   \n",
       "...                      ...   \n",
       "1129882          m/zulu_dawn   \n",
       "1129883          m/zulu_dawn   \n",
       "1129884          m/zulu_dawn   \n",
       "1129885          m/zulu_dawn   \n",
       "1129886          m/zulu_dawn   \n",
       "\n",
       "                                               movie_title        critic_name  \\\n",
       "0        Percy Jackson & the Olympians: The Lightning T...    Andrew L. Urban   \n",
       "1        Percy Jackson & the Olympians: The Lightning T...      Louise Keller   \n",
       "2        Percy Jackson & the Olympians: The Lightning T...                NaN   \n",
       "3        Percy Jackson & the Olympians: The Lightning T...       Ben McEachen   \n",
       "4        Percy Jackson & the Olympians: The Lightning T...        Ethan Alter   \n",
       "...                                                    ...                ...   \n",
       "1129882                                          Zulu Dawn      Chuck O'Leary   \n",
       "1129883                                          Zulu Dawn          Ken Hanke   \n",
       "1129884                                          Zulu Dawn    Dennis Schwartz   \n",
       "1129885                                          Zulu Dawn  Christopher Lloyd   \n",
       "1129886                                          Zulu Dawn     Brent McKnight   \n",
       "\n",
       "         top_critic                   publisher_name review_type review_score  \\\n",
       "0             False                   Urban Cinefile       Fresh          NaN   \n",
       "1             False                   Urban Cinefile       Fresh          NaN   \n",
       "2             False              FILMINK (Australia)       Fresh          NaN   \n",
       "3             False          Sunday Mail (Australia)       Fresh        3.5/5   \n",
       "4              True               Hollywood Reporter      Rotten          NaN   \n",
       "...             ...                              ...         ...          ...   \n",
       "1129882       False                 Fantastica Daily      Rotten          2/5   \n",
       "1129883       False  Mountain Xpress (Asheville, NC)       Fresh        3.5/5   \n",
       "1129884       False    Dennis Schwartz Movie Reviews       Fresh           B+   \n",
       "1129885       False          Sarasota Herald-Tribune      Rotten        3.5/5   \n",
       "1129886       False             The Last Thing I See      Rotten            C   \n",
       "\n",
       "        review_date                                     review_content  \\\n",
       "0        2010-02-06  A fantasy adventure that fuses Greek mythology...   \n",
       "1        2010-02-06  Uma Thurman as Medusa, the gorgon with a coiff...   \n",
       "2        2010-02-09  With a top-notch cast and dazzling special eff...   \n",
       "3        2010-02-09  Whether audiences will get behind The Lightnin...   \n",
       "4        2010-02-10  What's really lacking in The Lightning Thief i...   \n",
       "...             ...                                                ...   \n",
       "1129882  2005-11-02                                                NaN   \n",
       "1129883  2007-03-07  Seen today, it's not only a startling indictme...   \n",
       "1129884  2010-09-16  A rousing visual spectacle that's a prequel of...   \n",
       "1129885  2011-02-28  A simple two-act story: Prelude to war, and th...   \n",
       "1129886  2020-07-09  Rides the line between being a pure artifact o...   \n",
       "\n",
       "                                               link  \n",
       "0          https://www.rottentomatoes.com/m/0814255  \n",
       "1          https://www.rottentomatoes.com/m/0814255  \n",
       "2          https://www.rottentomatoes.com/m/0814255  \n",
       "3          https://www.rottentomatoes.com/m/0814255  \n",
       "4          https://www.rottentomatoes.com/m/0814255  \n",
       "...                                             ...  \n",
       "1129882  https://www.rottentomatoes.com/m/zulu_dawn  \n",
       "1129883  https://www.rottentomatoes.com/m/zulu_dawn  \n",
       "1129884  https://www.rottentomatoes.com/m/zulu_dawn  \n",
       "1129885  https://www.rottentomatoes.com/m/zulu_dawn  \n",
       "1129886  https://www.rottentomatoes.com/m/zulu_dawn  \n",
       "\n",
       "[1129887 rows x 10 columns]"
      ]
     },
     "execution_count": 316,
     "metadata": {},
     "output_type": "execute_result"
    }
   ],
   "source": [
    "df_tomatoes[\"link\"] = \"https://www.rottentomatoes.com/\" + df_tomatoes[\"rotten_tomatoes_link\"].astype(str)\n",
    "df_tomatoes"
   ]
  },
  {
   "cell_type": "code",
   "execution_count": 317,
   "metadata": {},
   "outputs": [
    {
     "data": {
      "text/html": [
       "<div>\n",
       "<style scoped>\n",
       "    .dataframe tbody tr th:only-of-type {\n",
       "        vertical-align: middle;\n",
       "    }\n",
       "\n",
       "    .dataframe tbody tr th {\n",
       "        vertical-align: top;\n",
       "    }\n",
       "\n",
       "    .dataframe thead th {\n",
       "        text-align: right;\n",
       "    }\n",
       "</style>\n",
       "<table border=\"1\" class=\"dataframe\">\n",
       "  <thead>\n",
       "    <tr style=\"text-align: right;\">\n",
       "      <th></th>\n",
       "      <th>movie_title</th>\n",
       "      <th>critic_name</th>\n",
       "      <th>top_critic</th>\n",
       "      <th>publisher_name</th>\n",
       "      <th>review_type</th>\n",
       "      <th>review_score</th>\n",
       "      <th>review_date</th>\n",
       "      <th>review_content</th>\n",
       "      <th>link</th>\n",
       "    </tr>\n",
       "  </thead>\n",
       "  <tbody>\n",
       "    <tr>\n",
       "      <th>0</th>\n",
       "      <td>Percy Jackson &amp; the Olympians: The Lightning T...</td>\n",
       "      <td>Andrew L. Urban</td>\n",
       "      <td>False</td>\n",
       "      <td>Urban Cinefile</td>\n",
       "      <td>Fresh</td>\n",
       "      <td>NaN</td>\n",
       "      <td>2010-02-06</td>\n",
       "      <td>A fantasy adventure that fuses Greek mythology...</td>\n",
       "      <td>https://www.rottentomatoes.com/m/0814255</td>\n",
       "    </tr>\n",
       "    <tr>\n",
       "      <th>1</th>\n",
       "      <td>Percy Jackson &amp; the Olympians: The Lightning T...</td>\n",
       "      <td>Louise Keller</td>\n",
       "      <td>False</td>\n",
       "      <td>Urban Cinefile</td>\n",
       "      <td>Fresh</td>\n",
       "      <td>NaN</td>\n",
       "      <td>2010-02-06</td>\n",
       "      <td>Uma Thurman as Medusa, the gorgon with a coiff...</td>\n",
       "      <td>https://www.rottentomatoes.com/m/0814255</td>\n",
       "    </tr>\n",
       "    <tr>\n",
       "      <th>2</th>\n",
       "      <td>Percy Jackson &amp; the Olympians: The Lightning T...</td>\n",
       "      <td>NaN</td>\n",
       "      <td>False</td>\n",
       "      <td>FILMINK (Australia)</td>\n",
       "      <td>Fresh</td>\n",
       "      <td>NaN</td>\n",
       "      <td>2010-02-09</td>\n",
       "      <td>With a top-notch cast and dazzling special eff...</td>\n",
       "      <td>https://www.rottentomatoes.com/m/0814255</td>\n",
       "    </tr>\n",
       "    <tr>\n",
       "      <th>3</th>\n",
       "      <td>Percy Jackson &amp; the Olympians: The Lightning T...</td>\n",
       "      <td>Ben McEachen</td>\n",
       "      <td>False</td>\n",
       "      <td>Sunday Mail (Australia)</td>\n",
       "      <td>Fresh</td>\n",
       "      <td>3.5/5</td>\n",
       "      <td>2010-02-09</td>\n",
       "      <td>Whether audiences will get behind The Lightnin...</td>\n",
       "      <td>https://www.rottentomatoes.com/m/0814255</td>\n",
       "    </tr>\n",
       "    <tr>\n",
       "      <th>4</th>\n",
       "      <td>Percy Jackson &amp; the Olympians: The Lightning T...</td>\n",
       "      <td>Ethan Alter</td>\n",
       "      <td>True</td>\n",
       "      <td>Hollywood Reporter</td>\n",
       "      <td>Rotten</td>\n",
       "      <td>NaN</td>\n",
       "      <td>2010-02-10</td>\n",
       "      <td>What's really lacking in The Lightning Thief i...</td>\n",
       "      <td>https://www.rottentomatoes.com/m/0814255</td>\n",
       "    </tr>\n",
       "  </tbody>\n",
       "</table>\n",
       "</div>"
      ],
      "text/plain": [
       "                                         movie_title      critic_name  \\\n",
       "0  Percy Jackson & the Olympians: The Lightning T...  Andrew L. Urban   \n",
       "1  Percy Jackson & the Olympians: The Lightning T...    Louise Keller   \n",
       "2  Percy Jackson & the Olympians: The Lightning T...              NaN   \n",
       "3  Percy Jackson & the Olympians: The Lightning T...     Ben McEachen   \n",
       "4  Percy Jackson & the Olympians: The Lightning T...      Ethan Alter   \n",
       "\n",
       "   top_critic           publisher_name review_type review_score review_date  \\\n",
       "0       False           Urban Cinefile       Fresh          NaN  2010-02-06   \n",
       "1       False           Urban Cinefile       Fresh          NaN  2010-02-06   \n",
       "2       False      FILMINK (Australia)       Fresh          NaN  2010-02-09   \n",
       "3       False  Sunday Mail (Australia)       Fresh        3.5/5  2010-02-09   \n",
       "4        True       Hollywood Reporter      Rotten          NaN  2010-02-10   \n",
       "\n",
       "                                      review_content  \\\n",
       "0  A fantasy adventure that fuses Greek mythology...   \n",
       "1  Uma Thurman as Medusa, the gorgon with a coiff...   \n",
       "2  With a top-notch cast and dazzling special eff...   \n",
       "3  Whether audiences will get behind The Lightnin...   \n",
       "4  What's really lacking in The Lightning Thief i...   \n",
       "\n",
       "                                       link  \n",
       "0  https://www.rottentomatoes.com/m/0814255  \n",
       "1  https://www.rottentomatoes.com/m/0814255  \n",
       "2  https://www.rottentomatoes.com/m/0814255  \n",
       "3  https://www.rottentomatoes.com/m/0814255  \n",
       "4  https://www.rottentomatoes.com/m/0814255  "
      ]
     },
     "execution_count": 317,
     "metadata": {},
     "output_type": "execute_result"
    }
   ],
   "source": [
    "df_tomatoes = df_tomatoes.drop(columns=[\"rotten_tomatoes_link\"])\n",
    "df_tomatoes.head()"
   ]
  },
  {
   "cell_type": "markdown",
   "metadata": {},
   "source": [
    "## normalizing review data (all scores x will be translated in x/5)\n"
   ]
  },
  {
   "cell_type": "code",
   "execution_count": 318,
   "metadata": {},
   "outputs": [
    {
     "data": {
      "text/plain": [
       "array([nan, 'B', 'C', 'C-', 'B-', 'C+', 'D+', 'B+', 'A-', 'A', 'D-', 'F',\n",
       "       'D', '5', '4', '7', '3', '10', '2', '1', '8', '0', '6', '9', '25',\n",
       "       '88', '48', '45', '24', '35', 'A  -', '46', '90', '75', '89',\n",
       "       'C  -', '34', '68', '95', '920', '910', '14', '72', '67', '80',\n",
       "       '70', '77'], dtype=object)"
      ]
     },
     "execution_count": 318,
     "metadata": {},
     "output_type": "execute_result"
    }
   ],
   "source": [
    "df_tomatoes[~df_tomatoes['review_score'].str.contains('/', na=False)]['review_score'].unique()"
   ]
  },
  {
   "cell_type": "code",
   "execution_count": 319,
   "metadata": {},
   "outputs": [
    {
     "data": {
      "text/plain": [
       "array([nan, '3.5/5', '1/4', '4/5', '3/5', '2/4', '2/5', '2.5/4', '3/4',\n",
       "       '2.75/5', '3.75/5', '2.5/5', '5.5/10', '1/5', '3.25/5', '1.25/5',\n",
       "       '1.5/4', '6.5/10', '3/10', '1.5/5', '4/10', '7/10', '6/10',\n",
       "       '4.25/5', '5/5', '4.75/5', '4.5/5', '5.78/10', '3.5/4', '9/10',\n",
       "       '8.5/10', '4/4', '83/100', '8/10', '92/100', '82/100', '84/100',\n",
       "       '10/10', '1.75/5', '0/5', '0.5/4', '5/10', '2/10', '2/6', '0.5/5',\n",
       "       '0/4', '76/100', '87/100', '74/100', '86/100', '81/100', '56/100',\n",
       "       '78/100', '2.25/5', '8.8/10', '0/10', '44/100', '2.75/4', '2.4/5',\n",
       "       '8.6/10', '79/100', '68/100', '80/100', '90/100', '66/100',\n",
       "       '91/100', '0.3/5', '9.2/10', '2.7/5', '57/100', '4/6', '3/6',\n",
       "       '73/100', '42/100', '65/100', '7.5/10', '4.5/10', '5/6', '1/6',\n",
       "       '70/100', '3.5/10', '71/100', '0.1/5', '3.25/10', '89/100',\n",
       "       '40/100', '64/100', '62/100', '1/10', '37/100', '49/100', '60/100',\n",
       "       '3.3/5', '77/100', '5.25/10', '1.4/4', '75/100', '1.5/6', '85/100',\n",
       "       '4.25/10', '47/100', '6/8', '52/100', '63/100', '50/100', '41/100',\n",
       "       '46/100', '6.95/10', '53/100', '9.5/10', '59/100', '43/100',\n",
       "       '9.45/10', '45/100', '69/100', '7.25/10', '5.85/10', '9.88/10',\n",
       "       '39/100', '0.13/1', '8.25/10', '5.75/10', '6.1/10', '6.8/10',\n",
       "       '8.9/10', '8.75/10', '2.5/10', '5.9/10', '4.2/10', '7.35/10',\n",
       "       '4.6/10', '6.75/10', '4.90/10', '4.827/10', '2/2', '58/100',\n",
       "       '4.75/10', '3.4/10', '88/100', '5.48/10', '9.16/10', '3.4/4',\n",
       "       '3.7/10', '6.765/10', '67/100', '34/100', '51/100', '3.4/5',\n",
       "       '72/100', '93/100', '5', '95/95', '98/100', '94/100', '99/100',\n",
       "       '4', '55/100', '61/100', '35/100', '95/100', '1/3', '5/8', '7',\n",
       "       '4.2/5', '3', '30/100', '54/100', '48/100', '18/100', '10',\n",
       "       '25/100', '7/5', '7.4/10', '2', '6.2/10', '5.12/10', '5/100', '1',\n",
       "       '0.75/5', '8', '100/100', '2.8/4', '2.25/4', '31/100', '2.4/4',\n",
       "       '32/100', '3.8/5', '8.3/10', '8.4/10', '5.3/10', '0/100', '0.2/5',\n",
       "       '8.7/10', '2.2/5', '2.3/5', '3.2/5', '2.8/5', '2.75/3', '4.85/10',\n",
       "       '3.5/6', '3.25/4', '0.5/10', '1.75/4', '28/100', '9.25/10',\n",
       "       '5.80/10', '6.25/10', '7.2/10', '6.9/10', '1.2/5', '8.35/10',\n",
       "       '6.4/10', '7/11', '8.70/10', '9.75/10', '1.21/10', '1.35/5',\n",
       "       '23/100', '38/100', '6.3/10', '8.85/10', '7.3/10', '7.15/10',\n",
       "       '1.25/4', '3.9/10', '4.21/10', '9.35/10', '2.75/10', '8.76/10',\n",
       "       '7.7/10', '7.75/10', '5.15/10', '7.85/10', '1.8/5', '0', '6.45/10',\n",
       "       '5.95/10', '8.1/10', '3.7/5', '7.9/10', '9.9/10', '13/20', '6',\n",
       "       '2.83/5', '17/20', '8.74/10', '9', '7.8/10', '5.8311/10', '47/50',\n",
       "       '3.20/10', '6.65/10', '5.88/10', '19/100', '2.5/3', '15/100',\n",
       "       '8.621/10', '16/20', '5.8/10', '1.5/10', '8.50/10', '5.65/10',\n",
       "       '10.50/20', '9.19/10', '4.4/10', '5.6/10', '14.5/20', '4.1/5',\n",
       "       '8.05/10', '0/6', '1.6/5', '3.1/5', '6.85/10', '4.35/10', '9.1/10',\n",
       "       '8.88/10', '6.6/10', '6.7/10', '5.4/10', '20/20', '8.2/10',\n",
       "       '16.5/20', '7.1/10', '5.7/10', '11/20', '8.95/10', '3.75/10',\n",
       "       '15/20', '3.6/5', '7.6/10', '5.9737991/10', '18.5/20', '14/20',\n",
       "       '7.05/10', '18/20', '9.86/10', '4.8/10', '4.7/10', '2.74/10',\n",
       "       '4.9/10', '26/100', '2.12/5', '5.2/10', '7.96/10', '21/100',\n",
       "       '6.9921/10', '4.5/4', '7.892/10', '5.5/5', '1/54', '1.2/10',\n",
       "       '8.89/10', '33/100', '8.99/10', '5.5/20', '8.10/10', '6.68/10',\n",
       "       '13/100', '2.9/10', '5.61/10', '4.65/10', '8/20', '9.12/10', '3/3',\n",
       "       '5.49/10', '20/100', '6.78/10', '10/20', '0.02/5', '3.8/10',\n",
       "       '8.65/10', '5.1/10', '9/5', '1.7/5', '25', '8.7328/10',\n",
       "       '7.00122/10', '9.851/10', '8.251/10', '5/20', '7.57/10', '12/20',\n",
       "       '2.1/5', '9.5/20', '10/100', '5.51/10', '1.4/5', '2.6/6', '9.4/10',\n",
       "       '4.8/5', '4.45/10', '4.65/5', '2.6/5', '3.15/5', '6.98/10',\n",
       "       '4.7/5', '4.1/10', '3.5/3', '4.4/5', '9.3/10', '4.3/5', '3.9/5',\n",
       "       '2.20282652/10', '3.75/4', '3.3/10', '11.5/20', '7.5/20',\n",
       "       '8.53899/10', '6/13', '2.11/5', '9.7/10', '2.6/10', '0.7221/10',\n",
       "       '3.76/5', '2.95/10', '6.15/10', '7.5314585/10', '8.15/10',\n",
       "       '9.85/10', '97/100', '7.83/10', '3.2121/10', '8.55/10',\n",
       "       '2.282303/10', '88', '1.5/2', '4.21382343/10', '8/100', '17.5/20',\n",
       "       '1.24/5', '4.3/10', '2.7/10', '4.521/10', '6.0001/10',\n",
       "       '4.143641/10', '9.15/10', '48', '4.05524/10', '8/5', '3/100',\n",
       "       '3.83412437/10', '9.6/10', '9.79/10', '7.21/10', '9.5/5', '3.2/10',\n",
       "       '7.696/10', '5.872/10', '9.50/20', '5.1921/10', '2.892521821/10',\n",
       "       '0.81/1', '27/100', '6.35/10', '2.9/5', '9.74/10', '9.33/10',\n",
       "       '7.02/10', '2.1/10', '7.89/10', '2.50/5', '9.21/10', '5.57/10',\n",
       "       '19/20', '9.8/10', '8.32/10', '1/1', '5.9821/10', '8.385/10',\n",
       "       '0.5/5.5', '45', '7.95/10', '6.09/10', '1.9/10', '3.55/10',\n",
       "       '7.45/10', '7.62121/10', '1.9/5', '3.515/10', '15.5/20', '3.85/10',\n",
       "       '8.72/10', '35/4', '5.5/6', '36/100', '9.1221/10', '9.65/10',\n",
       "       '4.70/10', '2.2/10', '7.61/10', '2.3/4', '6.4821/10', '7.3821/10',\n",
       "       '8.3721/10', '5.44/10', '8.92/10', '7.49/10', '8.225/10', '0.25/4',\n",
       "       '1.5242228/10', '5.56/10', '9/20', '24/100', '7.01/10', '9.67/10',\n",
       "       '7.2234238/10', '6.00024/10', '7.111113314/10', '8.21/10',\n",
       "       '5.21/10', '79/80', '9.145/10', '9.865/10', '4.95/10', '5.6642/10',\n",
       "       '9/100', '6.875/10', '0.66/10', '1.2/4', '5.8943/10', '3.99/10',\n",
       "       '13.5/20', '61/00', '5.72/10', '1.3/5', '0.05/4', '4.6/5',\n",
       "       '8.57/10', '24', '0/1000', '5.35/10', '29/100', '1.9528/10', '35',\n",
       "       '7.65/10', '5.55/10', '2.5/20', '69/70', '9.26/10', '8.735/10',\n",
       "       '6.1121/10', '6.0000001/10', '2/8', '9.78/10', '5.45/10',\n",
       "       '14.50/20', '6.26/10', '2.85/5', '2.6/4', '7.218/10', '0.6/1',\n",
       "       '3.021/10', '7.10/10', '0.96/10', '8.666/10', '3/40', '0.82/10',\n",
       "       '7.98/10', '5.5542/10', '8.901/10', '2.55/5', '7.22/10', '5.70/10',\n",
       "       '7.04/10', '2.4/10', '5.89521/10', '2.8/10', '7.3856/10',\n",
       "       '8.899327/10', '1.1/2', '8.2621/10', '7.212121/10', '4.89215/10',\n",
       "       '9.89/10', '2.212521/10', '22/100', '5.6521/10', '8.87/10',\n",
       "       '3.1/10', '4/5.5', '4.95/5', '8.19/10', '9.552/10', '7/20',\n",
       "       '4.211/10', '4/3.5', '46', '4.9837/10', '9.38/10', '5.284849/10',\n",
       "       '8.67/10', '6.9621/10', '2.5/50', '2.255/5', '90', '75', '8.61/10',\n",
       "       '3.5/5.5', '5.81/10', '66/70', '3.222423/10', '4.2112/10',\n",
       "       '1.82/10', '6.000003231/10', '3.76/10', '5.76/10', '2/54', '0.8/5',\n",
       "       '6/11', '8.458/10', '2.89/5', '5.8921/10', '8.496/10', '2.3/10',\n",
       "       '0.21/10', '4.51/10', '9.76/10', '59/60', '0.9/10', '3.65/5',\n",
       "       '6/6', '6.7/8', '9.46/10', '8.45/10', '8.26/10', '1.85/10',\n",
       "       '0.75/10', '4.89/10', '6.55/10', '1.62/5', '0.85/10', '9.121/10',\n",
       "       '9.6421/10', '8.5788222/10', '3.45/5', '96/100', '67/10',\n",
       "       '7.2621/10', '2/3', '5.23/10', '7.79/10', '9.1421/10', '87/10',\n",
       "       '12.50/20', '7.825/10', '8.921/10', '6.24/10', '8.124/10',\n",
       "       '8.01/10', '4.56/10', '1.5/3', '4.79/10', '8.16/10', '0.59/1',\n",
       "       '2.7/4', '1.1/5', '89', '4.55/10', '2.5/6', '9.8521/10',\n",
       "       '3.7822391/10', '7.2521/10', '7.18321/10', '3.6/4', '8.42/10',\n",
       "       '9.73889/10', '12/100', '7.44/10', '8.5/5', '6/20', '6.01/10',\n",
       "       '34', '8.98/10', '7.48/10', '3.65/10', '7.0921/10', '3.35/5',\n",
       "       '1.4/10', '4/0', '6.96/10', '7.001/10', '5.22/10', '1.8/4',\n",
       "       '16/100', '9.889/10', '14/100', '8.999/10', '9.188/10', '7.021/10',\n",
       "       '4.42/10', '8.212121/10', '3.6/10', '0.7765823/10', '8.425/10',\n",
       "       '9.48/10', '9.30/10', '4.86/10', '7.5211/10', '5/11', '8.71/10',\n",
       "       '68', '3.7521/10', '4.021/10', '8.881/10', '5.10/10', '3/5.5',\n",
       "       '95', '5.623433899/10', '0.65/10', '7/8', '9.18/10', '5.82/10',\n",
       "       '5.212/10', '5.895/10', '6.8666/10', '920', '3.0782/10', '2.95/5',\n",
       "       '4.22/10', '0.13/5', '2.65/10', '0.4/5', '8.453895/10', '6.001/10',\n",
       "       '9.52/10', '6.16/10', '8.9521/10', '9.85621/10', '76/10',\n",
       "       '0.664363/10', '9.51/10', '5.02120621/10', '3.2/4', '2/20',\n",
       "       '5.1221/10', '12.5/20', '8.327/10', '1.88/10', '11/100', '75/10',\n",
       "       '8.39421/10', '910', '9.95/10', '2/9', '8.199/10', '8.485/10',\n",
       "       '7.621/10', '5.232121/10', '5.67/10', '8.24/10', '39/40', '3/5.4',\n",
       "       '2/100', '7.94215/10', '9.68/10', '6/5', '6.19/10', '25/4',\n",
       "       '4.5/6', '9.021/10', '8.32321/10', '7.87/10', '5.50/10',\n",
       "       '8.2521/10', '2.1/2', '5.05/10', '0.6/10', '3.5/20', '9.14/10',\n",
       "       '7.42/10', '9.2021/10', '6.05/10', '4/8', '3.54/5', '14',\n",
       "       '9.49/10', '6.97/10', '4.9834326/10', '10/90', '72', '67', '45/5',\n",
       "       '7.0155/10', '3.3/4', '6.89/10', '9.921/10', '80', '0.666/4',\n",
       "       '2.55/4', '1.1/10', '3.5/18', '73/10', '8.30/10', '8.56/10',\n",
       "       '6.8843/10', '6.00001/10', '4.364221/10', '4.293382/10', '6.84/10',\n",
       "       '9.01/10', '8.68/10', '9.649821/10', '3/45', '8.692121/10', '70',\n",
       "       '6.02/10', '0.58/1', '5.4221/10', '7.12/10', '8.1921/10',\n",
       "       '9.87/10', '8.84/10', '9.20/10', '0.8/10', '8.9621/10', '3/20',\n",
       "       '0.52/1', '8.3/100', '4/100', '1.75/10', '1.8/10', '4.0001/10',\n",
       "       '77', '5.9999/10', '9.66/10', '9.99/10', '5.751/10', '7.55/10',\n",
       "       '5.01/10', '3.56339/10', '4.558/10', '7.94/10', '3.5/44',\n",
       "       '8.765/10', '4.35/5', '21/24', '6.02121/10', '1/2', '7.4921/10',\n",
       "       '5.046/10', '9.56/10'], dtype=object)"
      ]
     },
     "execution_count": 319,
     "metadata": {},
     "output_type": "execute_result"
    }
   ],
   "source": [
    "#first of all normalizing letter to values\n",
    "df_tomatoes.loc[df_tomatoes[\"review_score\"] == \"A\", \"review_score\"] = \"5/5\"\n",
    "df_tomatoes.loc[df_tomatoes[\"review_score\"] == \"A  -\", \"review_score\"] = \"4.75/5\" #one record\n",
    "df_tomatoes.loc[df_tomatoes[\"review_score\"] == \"A-\", \"review_score\"] = \"4.75/5\"\n",
    "df_tomatoes.loc[df_tomatoes[\"review_score\"] == \"B+\", \"review_score\"] = \"4.25/5\"\n",
    "df_tomatoes.loc[df_tomatoes[\"review_score\"] == \"B\", \"review_score\"] = \"4/5\"\n",
    "df_tomatoes.loc[df_tomatoes[\"review_score\"] == \"B-\", \"review_score\"] = \"3.75/5\"\n",
    "df_tomatoes.loc[df_tomatoes[\"review_score\"] == \"C+\", \"review_score\"] = \"3.25/5\"\n",
    "df_tomatoes.loc[df_tomatoes[\"review_score\"] == \"C\", \"review_score\"] = \"3/5\"\n",
    "df_tomatoes.loc[df_tomatoes[\"review_score\"] == \"C-\", \"review_score\"] = \"2.75/5\"\n",
    "df_tomatoes.loc[df_tomatoes[\"review_score\"] == \"C  -\", \"review_score\"] = \"2.75/5\" #one record\n",
    "df_tomatoes.loc[df_tomatoes[\"review_score\"] == \"D+\", \"review_score\"] = \"1.25/5\"\n",
    "df_tomatoes.loc[df_tomatoes[\"review_score\"] == \"D\", \"review_score\"] = \"2/5\"\n",
    "df_tomatoes.loc[df_tomatoes[\"review_score\"] == \"D-\", \"review_score\"] = \"1.75/5\"\n",
    "df_tomatoes.loc[df_tomatoes[\"review_score\"] == \"E\", \"review_score\"] = \"1/5\"\n",
    "df_tomatoes.loc[df_tomatoes[\"review_score\"] == \"F\", \"review_score\"] = \"0/5\"\n",
    "df_tomatoes[\"review_score\"].unique()"
   ]
  },
  {
   "cell_type": "code",
   "execution_count": 320,
   "metadata": {},
   "outputs": [],
   "source": [
    "df_tomatoes[['numerator', 'denominator']] = df_tomatoes['review_score'].str.split('/', expand=True)\n",
    "df_tomatoes['numerator'] = df_tomatoes['numerator'].fillna(-1)\n",
    "df_tomatoes['denominator'] = df_tomatoes['denominator'].fillna(-1)"
   ]
  },
  {
   "cell_type": "code",
   "execution_count": 321,
   "metadata": {},
   "outputs": [],
   "source": [
    "df_tomatoes['numerator'] = df_tomatoes['numerator'].astype(float)\n",
    "df_tomatoes['denominator'] = df_tomatoes['denominator'].astype(float)"
   ]
  },
  {
   "cell_type": "code",
   "execution_count": 322,
   "metadata": {},
   "outputs": [],
   "source": [
    "df_tomatoes.loc[df_tomatoes['numerator'] > df_tomatoes['denominator'], ['numerator', 'denominator']] = -1\n",
    "# calculate all in /5\n",
    "df_tomatoes['rating'] = np.where(df_tomatoes['numerator'] == -1, -1, (df_tomatoes['numerator'] / df_tomatoes['denominator']) * 5)"
   ]
  },
  {
   "cell_type": "code",
   "execution_count": 323,
   "metadata": {},
   "outputs": [],
   "source": [
    "df_tomatoes = df_tomatoes.drop(columns=[\"numerator\", \"denominator\", \"review_score\"])"
   ]
  },
  {
   "cell_type": "code",
   "execution_count": 324,
   "metadata": {},
   "outputs": [],
   "source": [
    "df_tomatoes[\"rating\"] = df_tomatoes[\"rating\"].replace(-1, np.nan)"
   ]
  },
  {
   "cell_type": "code",
   "execution_count": 325,
   "metadata": {},
   "outputs": [
    {
     "data": {
      "text/plain": [
       "movie_title            0\n",
       "critic_name        18521\n",
       "top_critic             0\n",
       "publisher_name         0\n",
       "review_type            0\n",
       "review_date            0\n",
       "review_content     65778\n",
       "link                   0\n",
       "rating            307546\n",
       "dtype: int64"
      ]
     },
     "execution_count": 325,
     "metadata": {},
     "output_type": "execute_result"
    }
   ],
   "source": [
    "df_tomatoes.isna().sum()"
   ]
  },
  {
   "cell_type": "code",
   "execution_count": 326,
   "metadata": {},
   "outputs": [
    {
     "data": {
      "text/plain": [
       "(1129887, 9)"
      ]
     },
     "execution_count": 326,
     "metadata": {},
     "output_type": "execute_result"
    }
   ],
   "source": [
    "df_tomatoes.shape"
   ]
  },
  {
   "cell_type": "code",
   "execution_count": 327,
   "metadata": {},
   "outputs": [
    {
     "data": {
      "text/plain": [
       "(1010313, 9)"
      ]
     },
     "execution_count": 327,
     "metadata": {},
     "output_type": "execute_result"
    }
   ],
   "source": [
    "subset = [\"movie_title\", \"critic_name\", \"publisher_name\", \"review_type\", \"review_content\", \"review_date\"]\n",
    "df_tomatoes = df_tomatoes.drop_duplicates(subset=subset,keep=\"first\")\n",
    "df_tomatoes.shape"
   ]
  },
  {
   "cell_type": "markdown",
   "metadata": {},
   "source": [
    "## Analisi df_oscars (Dati degli Oscar)\n"
   ]
  },
  {
   "cell_type": "code",
   "execution_count": 328,
   "metadata": {},
   "outputs": [
    {
     "data": {
      "text/plain": [
       "(10889, 7)"
      ]
     },
     "execution_count": 328,
     "metadata": {},
     "output_type": "execute_result"
    }
   ],
   "source": [
    "df_oscars[\"year_film\"]=pd.to_datetime(df_oscars[\"year_film\"], format=\"%Y\", errors=\"coerce\")\n",
    "df_oscars[\"year_ceremony\"]=pd.to_datetime(df_oscars[\"year_ceremony\"], format=\"%Y\", errors=\"coerce\")\n",
    "df_oscars.shape"
   ]
  },
  {
   "cell_type": "code",
   "execution_count": 329,
   "metadata": {},
   "outputs": [
    {
     "data": {
      "text/plain": [
       "(10878, 7)"
      ]
     },
     "execution_count": 329,
     "metadata": {},
     "output_type": "execute_result"
    }
   ],
   "source": [
    "subset_oscars=[\"year_film\", \"year_ceremony\", \"ceremony\", \"category\", \"name\", \"film\"]\n",
    "df_oscars = df_oscars.drop_duplicates(subset=subset_oscars,keep=\"first\")\n",
    "df_oscars.shape\n"
   ]
  },
  {
   "cell_type": "code",
   "execution_count": 330,
   "metadata": {},
   "outputs": [
    {
     "data": {
      "text/html": [
       "<div>\n",
       "<style scoped>\n",
       "    .dataframe tbody tr th:only-of-type {\n",
       "        vertical-align: middle;\n",
       "    }\n",
       "\n",
       "    .dataframe tbody tr th {\n",
       "        vertical-align: top;\n",
       "    }\n",
       "\n",
       "    .dataframe thead th {\n",
       "        text-align: right;\n",
       "    }\n",
       "</style>\n",
       "<table border=\"1\" class=\"dataframe\">\n",
       "  <thead>\n",
       "    <tr style=\"text-align: right;\">\n",
       "      <th></th>\n",
       "      <th>year_film</th>\n",
       "      <th>year_ceremony</th>\n",
       "      <th>ceremony</th>\n",
       "      <th>category</th>\n",
       "      <th>name</th>\n",
       "      <th>film</th>\n",
       "      <th>winner</th>\n",
       "    </tr>\n",
       "  </thead>\n",
       "  <tbody>\n",
       "    <tr>\n",
       "      <th>10513</th>\n",
       "      <td>2020-01-01</td>\n",
       "      <td>2021-01-01</td>\n",
       "      <td>93</td>\n",
       "      <td>JEAN HERSHOLT HUMANITARIAN AWARD</td>\n",
       "      <td>NaN</td>\n",
       "      <td>NaN</td>\n",
       "      <td>True</td>\n",
       "    </tr>\n",
       "    <tr>\n",
       "      <th>10635</th>\n",
       "      <td>2021-01-01</td>\n",
       "      <td>2022-01-01</td>\n",
       "      <td>94</td>\n",
       "      <td>JEAN HERSHOLT HUMANITARIAN AWARD</td>\n",
       "      <td>NaN</td>\n",
       "      <td>NaN</td>\n",
       "      <td>True</td>\n",
       "    </tr>\n",
       "    <tr>\n",
       "      <th>10759</th>\n",
       "      <td>2022-01-01</td>\n",
       "      <td>2023-01-01</td>\n",
       "      <td>95</td>\n",
       "      <td>JEAN HERSHOLT HUMANITARIAN AWARD</td>\n",
       "      <td>NaN</td>\n",
       "      <td>NaN</td>\n",
       "      <td>True</td>\n",
       "    </tr>\n",
       "    <tr>\n",
       "      <th>10885</th>\n",
       "      <td>2023-01-01</td>\n",
       "      <td>2024-01-01</td>\n",
       "      <td>96</td>\n",
       "      <td>JEAN HERSHOLT HUMANITARIAN AWARD</td>\n",
       "      <td>NaN</td>\n",
       "      <td>NaN</td>\n",
       "      <td>True</td>\n",
       "    </tr>\n",
       "  </tbody>\n",
       "</table>\n",
       "</div>"
      ],
      "text/plain": [
       "       year_film year_ceremony  ceremony                          category  \\\n",
       "10513 2020-01-01    2021-01-01        93  JEAN HERSHOLT HUMANITARIAN AWARD   \n",
       "10635 2021-01-01    2022-01-01        94  JEAN HERSHOLT HUMANITARIAN AWARD   \n",
       "10759 2022-01-01    2023-01-01        95  JEAN HERSHOLT HUMANITARIAN AWARD   \n",
       "10885 2023-01-01    2024-01-01        96  JEAN HERSHOLT HUMANITARIAN AWARD   \n",
       "\n",
       "      name film  winner  \n",
       "10513  NaN  NaN    True  \n",
       "10635  NaN  NaN    True  \n",
       "10759  NaN  NaN    True  \n",
       "10885  NaN  NaN    True  "
      ]
     },
     "execution_count": 330,
     "metadata": {},
     "output_type": "execute_result"
    }
   ],
   "source": [
    "df_oscars[df_oscars[[\"name\", \"film\"]].isna().all(axis=1)] #check"
   ]
  },
  {
   "cell_type": "code",
   "execution_count": 332,
   "metadata": {},
   "outputs": [
    {
     "name": "stdout",
     "output_type": "stream",
     "text": [
      "Salvataggio del file CSV: /Users/gabrielebuoso/Desktop/cleandataset/actors.csv\n",
      "File /Users/gabrielebuoso/Desktop/cleandataset/actors.csv salvato con successo.\n",
      "Salvataggio del file CSV: /Users/gabrielebuoso/Desktop/cleandataset/countries.csv\n",
      "File /Users/gabrielebuoso/Desktop/cleandataset/countries.csv salvato con successo.\n",
      "Salvataggio del file CSV: /Users/gabrielebuoso/Desktop/cleandataset/crew.csv\n",
      "File /Users/gabrielebuoso/Desktop/cleandataset/crew.csv salvato con successo.\n",
      "Salvataggio del file CSV: /Users/gabrielebuoso/Desktop/cleandataset/genres.csv\n",
      "File /Users/gabrielebuoso/Desktop/cleandataset/genres.csv salvato con successo.\n",
      "Salvataggio del file CSV: /Users/gabrielebuoso/Desktop/cleandataset/languages.csv\n",
      "File /Users/gabrielebuoso/Desktop/cleandataset/languages.csv salvato con successo.\n",
      "Salvataggio del file CSV: /Users/gabrielebuoso/Desktop/cleandataset/movies.csv\n",
      "File /Users/gabrielebuoso/Desktop/cleandataset/movies.csv salvato con successo.\n",
      "Salvataggio del file CSV: /Users/gabrielebuoso/Desktop/cleandataset/posters.csv\n",
      "File /Users/gabrielebuoso/Desktop/cleandataset/posters.csv salvato con successo.\n",
      "Salvataggio del file CSV: /Users/gabrielebuoso/Desktop/cleandataset/releases.csv\n",
      "File /Users/gabrielebuoso/Desktop/cleandataset/releases.csv salvato con successo.\n",
      "Salvataggio del file CSV: /Users/gabrielebuoso/Desktop/cleandataset/studios.csv\n",
      "File /Users/gabrielebuoso/Desktop/cleandataset/studios.csv salvato con successo.\n",
      "Salvataggio del file CSV: /Users/gabrielebuoso/Desktop/cleandataset/themes.csv\n",
      "File /Users/gabrielebuoso/Desktop/cleandataset/themes.csv salvato con successo.\n",
      "Salvataggio del file CSV: /Users/gabrielebuoso/Desktop/cleandataset/tomatoes_review.csv\n",
      "File /Users/gabrielebuoso/Desktop/cleandataset/tomatoes_review.csv salvato con successo.\n",
      "Salvataggio del file CSV: /Users/gabrielebuoso/Desktop/cleandataset/oscars.csv\n",
      "File /Users/gabrielebuoso/Desktop/cleandataset/oscars.csv salvato con successo.\n",
      "Tutti i dataframe sono stati salvati come file CSV.\n"
     ]
    }
   ],
   "source": [
    "#Script probabilmente da rimuovere \n",
    "\n",
    "#Converte i dataframe in file CSV\n",
    "\n",
    "dataframes = {\n",
    "    'actors': df_actors,\n",
    "    'countries': df_countries,\n",
    "    'crew': df_crew,\n",
    "    'genres': df_genres,\n",
    "    'languages': df_languages,\n",
    "    'movies': df_movies,\n",
    "    'posters': df_posters,\n",
    "    'releases': df_releases,\n",
    "    'studios': df_studios,\n",
    "    'themes': df_themes,\n",
    "    'tomatoes_review': df_tomatoes,\n",
    "    'oscars': df_oscars\n",
    "}\n",
    "\n",
    "# Salvataggio dei dataframe come file CSV\n",
    "output_directory = \"/Users/gabrielebuoso/Desktop/cleandataset\"  # Cambia con la directory desiderata\n",
    "\n",
    "#DECOMMENTARE __IMPORTANTE__\n",
    "\n",
    "#\n",
    "if not os.path.exists(output_directory):\n",
    "    os.makedirs(output_directory)\n",
    "\n",
    "for file_name, df in dataframes.items():\n",
    "    try:\n",
    "        output_path = os.path.join(output_directory, f\"{file_name}.csv\")\n",
    "        print(f\"Salvataggio del file CSV: {output_path}\")\n",
    "        df.to_csv(output_path, index=False)\n",
    "        print(f\"File {output_path} salvato con successo.\")\n",
    "    except Exception as e:\n",
    "        print(f\"Errore durante il salvataggio del file {file_name}.csv: {e}\")\n",
    "\n",
    "print(\"Tutti i dataframe sono stati salvati come file CSV.\")\n"
   ]
  }
 ],
 "metadata": {
  "kernelspec": {
   "display_name": "base",
   "language": "python",
   "name": "python3"
  },
  "language_info": {
   "codemirror_mode": {
    "name": "ipython",
    "version": 3
   },
   "file_extension": ".py",
   "mimetype": "text/x-python",
   "name": "python",
   "nbconvert_exporter": "python",
   "pygments_lexer": "ipython3",
   "version": "3.12.2"
  }
 },
 "nbformat": 4,
 "nbformat_minor": 2
}
