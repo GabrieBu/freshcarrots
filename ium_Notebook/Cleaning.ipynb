{
 "cells": [
  {
   "cell_type": "markdown",
   "metadata": {},
   "source": [
    "# File di pulizia dei dati\n",
    "\n",
    "Abbiamo utilizzato questo file per separare la pulizia della struttura dei dati dalla analisi diretta delle informazioni \n",
    "\n"
   ]
  },
  {
   "cell_type": "code",
   "execution_count": 1,
   "metadata": {},
   "outputs": [],
   "source": [
    "import pandas as pd \n",
    "\n",
    "df_actors=pd.read_csv(\"C:\\\\Users\\\\andre\\\\Desktop\\\\Dati_Tweb\\\\actors.csv\")\n",
    "df_countries=pd.read_csv(\"C:\\\\Users\\\\andre\\\\Desktop\\\\Dati_Tweb\\\\countries.csv\")\n",
    "df_crew=pd.read_csv(\"C:\\\\Users\\\\andre\\\\Desktop\\\\Dati_Tweb\\\\crew.csv\")\n",
    "df_genres=pd.read_csv(\"C:\\\\Users\\\\andre\\\\Desktop\\\\Dati_Tweb\\\\genres.csv\")\n",
    "df_languages=pd.read_csv(\"C:\\\\Users\\\\andre\\\\Desktop\\\\Dati_Tweb\\\\languages.csv\")\n",
    "df_movies=pd.read_csv(\"C:\\\\Users\\\\andre\\\\Desktop\\\\Dati_Tweb\\\\movies.csv\")\n",
    "df_posters=pd.read_csv(\"C:\\\\Users\\\\andre\\\\Desktop\\\\Dati_Tweb\\\\posters.csv\")\n",
    "df_releases=pd.read_csv(\"C:\\\\Users\\\\andre\\\\Desktop\\\\Dati_Tweb\\\\releases.csv\")\n",
    "df_studios=pd.read_csv(\"C:\\\\Users\\\\andre\\\\Desktop\\\\Dati_Tweb\\\\studios.csv\")\n",
    "df_themes=pd.read_csv(\"C:\\\\Users\\\\andre\\\\Desktop\\\\Dati_Tweb\\\\themes.csv\")\n",
    "df_tomatoes=pd.read_csv(\"C:\\\\Users\\\\andre\\\\Desktop\\\\Dati_Tweb\\\\aggiuntivi\\\\rotten_tomatoes_reviews.csv\")\n",
    "df_oscars=pd.read_csv(\"C:\\\\Users\\\\andre\\\\Desktop\\\\Dati_Tweb\\\\aggiuntivi\\\\the_oscar_awards.csv\")\n",
    "\n"
   ]
  },
  {
   "cell_type": "markdown",
   "metadata": {},
   "source": [
    "# Analisi di ogni file per la pulizia dei dati \n"
   ]
  },
  {
   "cell_type": "markdown",
   "metadata": {},
   "source": [
    "## Analisi actors.csv\n"
   ]
  },
  {
   "cell_type": "code",
   "execution_count": 2,
   "metadata": {},
   "outputs": [
    {
     "data": {
      "text/plain": [
       "(5798450, 3)"
      ]
     },
     "execution_count": 2,
     "metadata": {},
     "output_type": "execute_result"
    }
   ],
   "source": [
    "df_actors.shape\n"
   ]
  },
  {
   "cell_type": "code",
   "execution_count": 46,
   "metadata": {},
   "outputs": [
    {
     "data": {
      "text/plain": [
       "id_Film     int64\n",
       "name       object\n",
       "role       object\n",
       "dtype: object"
      ]
     },
     "execution_count": 46,
     "metadata": {},
     "output_type": "execute_result"
    }
   ],
   "source": [
    "\n",
    "df_actors.rename(columns={'id': 'id_film'}, inplace=True)\n",
    "df_actors['name']=df_actors['name'].astype(\"str\")\n",
    "df_actors.dtypes"
   ]
  },
  {
   "cell_type": "code",
   "execution_count": 47,
   "metadata": {},
   "outputs": [
    {
     "data": {
      "text/html": [
       "<div>\n",
       "<style scoped>\n",
       "    .dataframe tbody tr th:only-of-type {\n",
       "        vertical-align: middle;\n",
       "    }\n",
       "\n",
       "    .dataframe tbody tr th {\n",
       "        vertical-align: top;\n",
       "    }\n",
       "\n",
       "    .dataframe thead th {\n",
       "        text-align: right;\n",
       "    }\n",
       "</style>\n",
       "<table border=\"1\" class=\"dataframe\">\n",
       "  <thead>\n",
       "    <tr style=\"text-align: right;\">\n",
       "      <th></th>\n",
       "      <th>id_Film</th>\n",
       "      <th>name</th>\n",
       "      <th>role</th>\n",
       "    </tr>\n",
       "  </thead>\n",
       "  <tbody>\n",
       "    <tr>\n",
       "      <th>0</th>\n",
       "      <td>1000001</td>\n",
       "      <td>Margot Robbie</td>\n",
       "      <td>Barbie</td>\n",
       "    </tr>\n",
       "    <tr>\n",
       "      <th>1</th>\n",
       "      <td>1000001</td>\n",
       "      <td>Ryan Gosling</td>\n",
       "      <td>Ken</td>\n",
       "    </tr>\n",
       "    <tr>\n",
       "      <th>2</th>\n",
       "      <td>1000001</td>\n",
       "      <td>America Ferrera</td>\n",
       "      <td>Gloria</td>\n",
       "    </tr>\n",
       "    <tr>\n",
       "      <th>3</th>\n",
       "      <td>1000001</td>\n",
       "      <td>Ariana Greenblatt</td>\n",
       "      <td>Sasha</td>\n",
       "    </tr>\n",
       "    <tr>\n",
       "      <th>4</th>\n",
       "      <td>1000001</td>\n",
       "      <td>Issa Rae</td>\n",
       "      <td>Barbie</td>\n",
       "    </tr>\n",
       "  </tbody>\n",
       "</table>\n",
       "</div>"
      ],
      "text/plain": [
       "   id_Film               name    role\n",
       "0  1000001      Margot Robbie  Barbie\n",
       "1  1000001       Ryan Gosling     Ken\n",
       "2  1000001    America Ferrera  Gloria\n",
       "3  1000001  Ariana Greenblatt   Sasha\n",
       "4  1000001           Issa Rae  Barbie"
      ]
     },
     "execution_count": 47,
     "metadata": {},
     "output_type": "execute_result"
    }
   ],
   "source": [
    "df_actors.head()"
   ]
  },
  {
   "cell_type": "markdown",
   "metadata": {},
   "source": [
    "Possiamo notare come non ci siano valori nulli all'interno del dataset come nomi, mentre sono presenti più valori nulli all'interno dei ruoli che quindi valuteremo come \"Extra\" e riassegneremo il valore"
   ]
  },
  {
   "cell_type": "code",
   "execution_count": 49,
   "metadata": {},
   "outputs": [],
   "source": [
    "#(df_actors[\"role\"]==\"Extra\").sum()\n",
    "df_actors.fillna({\"role\":\"Extra\"},inplace=True)\n",
    "#print(type(df_actors['role'][0]))\n",
    "\n",
    "#df_actors.query('name==\"Nan\"')\n",
    "#df_actors.query('role==\"Nan\"')\n",
    "#print(type(df_actors.loc[80182]['role']))\n",
    " #df_actors.query('role==\"Nan\"')"
   ]
  },
  {
   "cell_type": "markdown",
   "metadata": {},
   "source": [
    "Controllo dei valori duplicati"
   ]
  },
  {
   "cell_type": "code",
   "execution_count": 50,
   "metadata": {},
   "outputs": [
    {
     "data": {
      "text/plain": [
       "np.int64(946)"
      ]
     },
     "execution_count": 50,
     "metadata": {},
     "output_type": "execute_result"
    }
   ],
   "source": [
    "#sono presenti duplicati\n",
    "df_actors.duplicated().sum()"
   ]
  },
  {
   "cell_type": "code",
   "execution_count": 55,
   "metadata": {},
   "outputs": [
    {
     "name": "stdout",
     "output_type": "stream",
     "text": [
      "         id_Film            name                 role\n",
      "5797499  1941596         Marc Ma            Ba Cai/巴莱\n",
      "5797500  1941596             线雨轩              Tata/塔塔\n",
      "5797501  1941596    Jiang Yixuan  Zuo Yila（Zoila）/佐伊拉\n",
      "5797502  1941597  Hiroshi Mikami                Extra\n",
      "5797503  1941597   Keiko Oginome                Extra\n"
     ]
    }
   ],
   "source": [
    "#visualizzazioni dei duplicati in ogni colonna  \n",
    "#df_actors.loc[df_actors.duplicated(subset=[\"id_Film\",\"name\",\"role\"])]\n",
    "\n",
    "#rimozione dei duplicati\n",
    "df_actors.drop_duplicates(inplace=True)\n",
    "\n",
    "df_actors.reset_index(drop=True,inplace=True)\n",
    "\n",
    "print(df_actors.tail())\n"
   ]
  },
  {
   "cell_type": "code",
   "execution_count": 56,
   "metadata": {},
   "outputs": [
    {
     "data": {
      "text/plain": [
       "(5797504, 3)"
      ]
     },
     "execution_count": 56,
     "metadata": {},
     "output_type": "execute_result"
    }
   ],
   "source": [
    "#Per conoscere la situazione finale \n",
    "df_actors.shape    "
   ]
  },
  {
   "cell_type": "markdown",
   "metadata": {},
   "source": [
    "## Analisi countries.csv"
   ]
  },
  {
   "cell_type": "code",
   "execution_count": null,
   "metadata": {},
   "outputs": [
    {
     "name": "stdout",
     "output_type": "stream",
     "text": [
      "        id      country\n",
      "0  1000001           UK\n",
      "1  1000001          USA\n",
      "2  1000002  South Korea\n",
      "3  1000003          USA\n",
      "4  1000004      Germany\n"
     ]
    }
   ],
   "source": [
    "df_countries.shape\n",
    "\n",
    "print(df_countries.head())\n",
    "\n",
    "df_countries"
   ]
  },
  {
   "cell_type": "code",
   "execution_count": 11,
   "metadata": {},
   "outputs": [
    {
     "data": {
      "text/plain": [
       "id          int64\n",
       "country    object\n",
       "dtype: object"
      ]
     },
     "execution_count": 11,
     "metadata": {},
     "output_type": "execute_result"
    }
   ],
   "source": [
    "df_countries.dtypes"
   ]
  },
  {
   "cell_type": "code",
   "execution_count": 63,
   "metadata": {},
   "outputs": [
    {
     "data": {
      "text/plain": [
       "id_film     int64\n",
       "country    object\n",
       "dtype: object"
      ]
     },
     "execution_count": 63,
     "metadata": {},
     "output_type": "execute_result"
    }
   ],
   "source": [
    "#df_actors['name']=df_actors['name'].astype(\"str\")\n",
    "df_countries.rename(columns={'id': 'id_film'}, inplace=True)\n",
    "\n",
    "df_countries.dtypes\n"
   ]
  },
  {
   "cell_type": "code",
   "execution_count": 64,
   "metadata": {},
   "outputs": [
    {
     "data": {
      "text/plain": [
       "id_film    0\n",
       "country    0\n",
       "dtype: int64"
      ]
     },
     "execution_count": 64,
     "metadata": {},
     "output_type": "execute_result"
    }
   ],
   "source": [
    "#Non sono presenti valori NaN\n",
    "df_countries.isna().sum()"
   ]
  },
  {
   "cell_type": "code",
   "execution_count": 65,
   "metadata": {},
   "outputs": [
    {
     "data": {
      "text/plain": [
       "np.int64(0)"
      ]
     },
     "execution_count": 65,
     "metadata": {},
     "output_type": "execute_result"
    }
   ],
   "source": [
    "#Non sono presenti duplicati\n",
    "df_countries.duplicated().sum()"
   ]
  },
  {
   "cell_type": "markdown",
   "metadata": {},
   "source": [
    "## Analisi crew.csv"
   ]
  },
  {
   "cell_type": "code",
   "execution_count": 14,
   "metadata": {},
   "outputs": [
    {
     "data": {
      "text/plain": [
       "(4720183, 3)"
      ]
     },
     "execution_count": 14,
     "metadata": {},
     "output_type": "execute_result"
    }
   ],
   "source": [
    "df_crew.shape"
   ]
  },
  {
   "cell_type": "code",
   "execution_count": 82,
   "metadata": {},
   "outputs": [
    {
     "data": {
      "text/plain": [
       "id_film     int64\n",
       "role       object\n",
       "name       object\n",
       "dtype: object"
      ]
     },
     "execution_count": 82,
     "metadata": {},
     "output_type": "execute_result"
    }
   ],
   "source": [
    "df_crew.dtypes\n",
    "df_crew.rename(columns={'id': 'id_film'}, inplace=True)\n",
    "\n",
    "\n",
    "#df_actors['name']=df_actors['name'].astype(\"str\")\n",
    "#print(type(df_crew['role'][0]))"
   ]
  },
  {
   "cell_type": "code",
   "execution_count": 79,
   "metadata": {},
   "outputs": [
    {
     "name": "stdout",
     "output_type": "stream",
     "text": [
      "              id    role name\n",
      "4562126  1859397  Writer  NaN\n"
     ]
    }
   ],
   "source": [
    "#Viene trovato un valore null come nome\n",
    "Row_nun=df_crew.loc[df_crew['name'].isna()]\n",
    "#Row_nun=df_crew.loc[df_crew['name']==\"Unknown\"]\n",
    "print(Row_nun)"
   ]
  },
  {
   "cell_type": "code",
   "execution_count": 80,
   "metadata": {},
   "outputs": [
    {
     "data": {
      "text/html": [
       "<div>\n",
       "<style scoped>\n",
       "    .dataframe tbody tr th:only-of-type {\n",
       "        vertical-align: middle;\n",
       "    }\n",
       "\n",
       "    .dataframe tbody tr th {\n",
       "        vertical-align: top;\n",
       "    }\n",
       "\n",
       "    .dataframe thead th {\n",
       "        text-align: right;\n",
       "    }\n",
       "</style>\n",
       "<table border=\"1\" class=\"dataframe\">\n",
       "  <thead>\n",
       "    <tr style=\"text-align: right;\">\n",
       "      <th></th>\n",
       "      <th>id</th>\n",
       "      <th>name</th>\n",
       "      <th>date</th>\n",
       "      <th>tagline</th>\n",
       "      <th>description</th>\n",
       "      <th>minute</th>\n",
       "      <th>rating</th>\n",
       "    </tr>\n",
       "  </thead>\n",
       "  <tbody>\n",
       "    <tr>\n",
       "      <th>859396</th>\n",
       "      <td>1859397</td>\n",
       "      <td>Naniwa Danshi LIVE TOUR 2023 'POPMALL'</td>\n",
       "      <td>2024.0</td>\n",
       "      <td>NaN</td>\n",
       "      <td>Naniwa Danshi LIVE TOUR 2023 'POPMALL' is a li...</td>\n",
       "      <td>146.0</td>\n",
       "      <td>NaN</td>\n",
       "    </tr>\n",
       "  </tbody>\n",
       "</table>\n",
       "</div>"
      ],
      "text/plain": [
       "             id                                    name    date tagline  \\\n",
       "859396  1859397  Naniwa Danshi LIVE TOUR 2023 'POPMALL'  2024.0     NaN   \n",
       "\n",
       "                                              description  minute  rating  \n",
       "859396  Naniwa Danshi LIVE TOUR 2023 'POPMALL' is a li...   146.0     NaN  "
      ]
     },
     "execution_count": 80,
     "metadata": {},
     "output_type": "execute_result"
    }
   ],
   "source": [
    "df_movies.loc[df_movies[\"id\"]==1859397]\n",
    "#df_crew.loc[df_crew[\"id\"]==1859397]\n",
    "\n",
    "#scegliere se rimuoverlo o no \n",
    "#df_crew.dropna(inplace=True) \\\n",
    "  #  .reset_index(drop=True)"
   ]
  },
  {
   "cell_type": "markdown",
   "metadata": {},
   "source": [
    "## Analisi di genres.csv"
   ]
  },
  {
   "cell_type": "code",
   "execution_count": 18,
   "metadata": {},
   "outputs": [
    {
     "data": {
      "text/plain": [
       "(1046849, 2)"
      ]
     },
     "execution_count": 18,
     "metadata": {},
     "output_type": "execute_result"
    }
   ],
   "source": [
    "df_genres.shape"
   ]
  },
  {
   "cell_type": "code",
   "execution_count": null,
   "metadata": {},
   "outputs": [
    {
     "name": "stdout",
     "output_type": "stream",
     "text": [
      "<class 'str'>\n"
     ]
    }
   ],
   "source": [
    "df_genres.rename(columns={'id': 'id_film'}, inplace=True)\n",
    "\n",
    "df_genres.dtypes\n",
    "\n",
    "print(type(df_genres['genre'][0]))\n",
    "\n",
    "df_genres\n"
   ]
  },
  {
   "cell_type": "code",
   "execution_count": 88,
   "metadata": {},
   "outputs": [
    {
     "data": {
      "text/plain": [
       "id_film    0\n",
       "genre      0\n",
       "dtype: int64"
      ]
     },
     "execution_count": 88,
     "metadata": {},
     "output_type": "execute_result"
    }
   ],
   "source": [
    "df_genres.isna().sum()\n",
    "\n",
    "#print(df_genres[\"genre\"].unique())"
   ]
  },
  {
   "cell_type": "code",
   "execution_count": 89,
   "metadata": {},
   "outputs": [
    {
     "data": {
      "text/plain": [
       "np.int64(0)"
      ]
     },
     "execution_count": 89,
     "metadata": {},
     "output_type": "execute_result"
    }
   ],
   "source": [
    "df_genres.duplicated().sum()"
   ]
  },
  {
   "cell_type": "markdown",
   "metadata": {},
   "source": [
    "## Analisi di languages.csv"
   ]
  },
  {
   "cell_type": "code",
   "execution_count": 22,
   "metadata": {},
   "outputs": [
    {
     "data": {
      "text/plain": [
       "(1038762, 3)"
      ]
     },
     "execution_count": 22,
     "metadata": {},
     "output_type": "execute_result"
    }
   ],
   "source": [
    "df_languages.shape"
   ]
  },
  {
   "cell_type": "code",
   "execution_count": 95,
   "metadata": {},
   "outputs": [
    {
     "data": {
      "text/plain": [
       "id           int64\n",
       "type        object\n",
       "language    object\n",
       "dtype: object"
      ]
     },
     "execution_count": 95,
     "metadata": {},
     "output_type": "execute_result"
    }
   ],
   "source": [
    "\n",
    "\n",
    "df_languages.rename(columns={'id': 'id_film'}, inplace=True)\n",
    "\n",
    "df_languages.dtypes\n",
    "\n",
    "#print(type(df_languages['type'][0]))"
   ]
  },
  {
   "cell_type": "code",
   "execution_count": 111,
   "metadata": {},
   "outputs": [
    {
     "data": {
      "text/plain": [
       "array(['English', 'Korean', 'German', 'Cantonese', 'Chinese', 'Dutch',\n",
       "       'Spanish', 'French', 'Japanese', 'Swedish', 'Swahili',\n",
       "       'Portuguese', 'Hindi', 'Italian', 'Tagalog', 'Xhosa', 'Latin',\n",
       "       'Russian', 'Finnish', 'Hungarian', 'Somali', 'Romanian',\n",
       "       'Vietnamese', 'Turkish', 'Czech', 'Estonian', 'Persian (Farsi)',\n",
       "       'Urdu', 'Arabic', 'Polish', 'Hebrew (modern)', 'Greek (modern)',\n",
       "       'Yiddish', 'Norwegian', 'Haitian, Haitian Creole', 'Khmer',\n",
       "       'Nepali', 'Akan', 'Icelandic', 'Malay',\n",
       "       'Eastern Punjabi, Eastern Panjabi', 'Georgian', 'Indonesian',\n",
       "       'Belarusian', 'Danish', 'Tamil', 'Sinhalese, Sinhala',\n",
       "       'Tibetan Standard, Tibetan, Central', 'Armenian', 'Thai', 'Telugu',\n",
       "       'Scottish Gaelic, Gaelic', 'Northern Sami', 'Esperanto',\n",
       "       'Bulgarian', 'Afrikaans', 'Chichewa, Chewa, Nyanja',\n",
       "       'Southern Sotho', 'Zulu', 'Irish', 'Breton', 'Croatian',\n",
       "       'Bengali, Bangla', 'Welsh', 'Navajo, Navaho', 'Albanian',\n",
       "       'Inuktitut', 'Catalan', 'Quechua', 'Azerbaijani', 'Samoan',\n",
       "       'Ukrainian', 'Mongolian', 'Māori', 'Tatar', 'Mayan',\n",
       "       'Fula, Fulah, Pulaar, Pular', 'Slovak', 'Lithuanian', 'Cree',\n",
       "       'Lao', 'Galician', 'Amharic', 'Serbian', 'Moldavian',\n",
       "       'Serbo-Croatian', 'Cornish', 'Wolof', 'Pashto, Pushto', 'Twi',\n",
       "       'Corsican', 'Bambara', 'Sanskrit (Saṁskṛta)', 'Macedonian',\n",
       "       'Burmese', 'Maltese', 'Bosnian', 'No spoken language', 'Marathi',\n",
       "       'Ido', 'Guaraní', 'Kurdish', 'Ganda', 'Hausa', 'Tahitian',\n",
       "       'Latvian', 'Lingala', 'Gujarati', 'Malayalam', 'Basque',\n",
       "       'Javanese', 'Tswana', 'Sundanese', 'Kinyarwanda', 'Kirundi',\n",
       "       'Afar', 'Dzongkha', 'Tola', 'Kannada', 'Uzbek', 'Ojibwe, Ojibwa',\n",
       "       'Igbo', 'Ewe', 'Pāli', 'Chechen', 'Kashmiri', 'Oromo',\n",
       "       'Kalaallisut, Greenlandic', 'Tajik', 'Slovene', 'Aymara',\n",
       "       'Sardinian', 'Assamese', 'Ossetian, Ossetic', 'Occitan', 'Avaric',\n",
       "       'Bislama', 'Kyrgyz', 'Kazakh', 'Aragonese', 'Yolngu matha',\n",
       "       'Malagasy', 'Gibberish', 'Kikuyu, Gikuyu', 'Yoruba', 'Maithili',\n",
       "       'Uyghur', 'Sango', 'Nuosu', 'Hiri Motu', 'Kongo',\n",
       "       'Tonga (Tonga Islands)', 'Shona', 'Luxembourgish, Letzeburgesch',\n",
       "       'Sindhi', 'Chuvash', 'Fijian', 'Mari', 'Walloon', 'Abkhaz',\n",
       "       'Inupiaq', 'Turkmen', 'Faroese', 'Marshallese', 'Romansh',\n",
       "       'Western Frisian', 'Norwegian Bokmål', 'Oriya',\n",
       "       'Old Church Slavonic, Church Slavonic, Old Bulgarian', 'Herero',\n",
       "       'Southern Ndebele', 'Tigrinya', 'Ndonga',\n",
       "       'Limburgish, Limburgan, Limburger', 'Swati', 'Norwegian Nynorsk',\n",
       "       'Bashkir', 'Interlingue', 'Manx', 'Nauruan',\n",
       "       'Divehi, Dhivehi, Maldivian', 'Venda', 'Interlingua',\n",
       "       'Northern Ndebele', 'Chamorro', 'Zhuang, Chuang', 'Luba-Katanga',\n",
       "       'Kwanyama, Kuanyama', 'Tsonga', 'Komi', 'Avestan', 'Volapük'],\n",
       "      dtype=object)"
      ]
     },
     "execution_count": 111,
     "metadata": {},
     "output_type": "execute_result"
    }
   ],
   "source": [
    "df_languages.isna().sum()\n",
    "#df_languages[\"language\"].replace({\"\\xa0\":\" \"},inplace=True)\n",
    "df_languages[\"language\"] = df_languages[\"language\"].replace('Persian\\xa0(Farsi)', 'Persian (Farsi)')\n",
    "df_languages[\"language\"] = df_languages[\"language\"].replace('Hebrew\\xa0(modern)', 'Hebrew (modern)')\n",
    "df_languages[\"language\"] = df_languages[\"language\"].replace('Greek\\xa0(modern)', 'Greek (modern)')\n",
    "df_languages[\"language\"] = df_languages[\"language\"].replace('Tonga\\xa0(Tonga Islands)', 'Tonga (Tonga Islands)')\n",
    "df_languages[\"language\"] = df_languages[\"language\"].replace('Old Church Slavonic,\\xa0Church Slavonic,\\xa0Old Bulgarian', 'Old Church Slavonic, Church Slavonic, Old Bulgarian')\n",
    "\n",
    "df_languages[\"language\"].unique()\n"
   ]
  },
  {
   "cell_type": "code",
   "execution_count": 25,
   "metadata": {},
   "outputs": [
    {
     "data": {
      "text/plain": [
       "np.int64(0)"
      ]
     },
     "execution_count": 25,
     "metadata": {},
     "output_type": "execute_result"
    }
   ],
   "source": [
    "df_languages.duplicated().sum()"
   ]
  },
  {
   "cell_type": "markdown",
   "metadata": {},
   "source": [
    "## Analisi di movies.csv"
   ]
  },
  {
   "cell_type": "code",
   "execution_count": 33,
   "metadata": {},
   "outputs": [
    {
     "data": {
      "text/plain": [
       "(941597, 7)"
      ]
     },
     "execution_count": 33,
     "metadata": {},
     "output_type": "execute_result"
    }
   ],
   "source": [
    "df_movies.shape"
   ]
  },
  {
   "cell_type": "code",
   "execution_count": 18,
   "metadata": {},
   "outputs": [
    {
     "data": {
      "text/plain": [
       "id               int64\n",
       "name            object\n",
       "date           float64\n",
       "tagline         object\n",
       "description     object\n",
       "minute         float64\n",
       "rating         float64\n",
       "dtype: object"
      ]
     },
     "execution_count": 18,
     "metadata": {},
     "output_type": "execute_result"
    }
   ],
   "source": [
    "df_movies.dtypes"
   ]
  },
  {
   "cell_type": "code",
   "execution_count": 6,
   "metadata": {},
   "outputs": [
    {
     "data": {
      "text/plain": [
       "id               int64\n",
       "name            object\n",
       "date           float64\n",
       "tagline         object\n",
       "description     object\n",
       "minute         float64\n",
       "rating         float64\n",
       "dtype: object"
      ]
     },
     "execution_count": 6,
     "metadata": {},
     "output_type": "execute_result"
    }
   ],
   "source": [
    "df_movies.head(200)\n",
    "df_movies.dtypes"
   ]
  },
  {
   "cell_type": "code",
   "execution_count": 41,
   "metadata": {},
   "outputs": [
    {
     "data": {
      "text/plain": [
       "(941591, 7)"
      ]
     },
     "execution_count": 41,
     "metadata": {},
     "output_type": "execute_result"
    }
   ],
   "source": [
    "\n",
    "#df_movies.dropna(subset=[\"name\"],inplace=True)\n",
    "df_movies.dropna(subset=[\"name\", \"date\", \"tagline\", \"description\", \"minute\", \"rating\"], how='all', inplace=True)\n",
    "df_movies.shape"
   ]
  },
  {
   "cell_type": "code",
   "execution_count": 59,
   "metadata": {},
   "outputs": [
    {
     "data": {
      "text/plain": [
       "np.int64(738954)"
      ]
     },
     "execution_count": 59,
     "metadata": {},
     "output_type": "execute_result"
    }
   ],
   "source": [
    "# we will perform analysis on the movies that are actually released\n",
    "df_released_movies = df_movies[df_movies['id'].isin(df_releases['id'])]\n",
    "df_unreleased_movies = df_movies[~df_movies['id'].isin(df_releases['id'])]\n",
    "df_released_movies[\"rating\"].isna().sum()"
   ]
  },
  {
   "cell_type": "code",
   "execution_count": 55,
   "metadata": {},
   "outputs": [
    {
     "data": {
      "text/plain": [
       "(142, 7)"
      ]
     },
     "execution_count": 55,
     "metadata": {},
     "output_type": "execute_result"
    }
   ],
   "source": [
    "df_test=df_released_movies.loc[df_released_movies[\"date\"].isna()]\n",
    "df_test.shape"
   ]
  },
  {
   "cell_type": "markdown",
   "metadata": {},
   "source": [
    "Pulizia dei valori nulli che non si collegano ad alcun film"
   ]
  },
  {
   "cell_type": "code",
   "execution_count": null,
   "metadata": {},
   "outputs": [],
   "source": [
    "# Rimuovere i film che non hanno valori nel campo \"name\" e neanche nel campo \"description\"\n",
    "# perchè è presente un film dal \"name\" NaN che quindi immagino sia un effettivo film\n",
    "#df_movies_cleaned = df_movies.dropna(subset=['name', 'description'], how='all').reset_index(drop=True)\n"
   ]
  },
  {
   "cell_type": "code",
   "execution_count": 37,
   "metadata": {},
   "outputs": [
    {
     "data": {
      "text/plain": [
       "np.int64(0)"
      ]
     },
     "execution_count": 37,
     "metadata": {},
     "output_type": "execute_result"
    }
   ],
   "source": [
    "#assenza di duplicati \n",
    "df_movies.duplicated().sum()"
   ]
  },
  {
   "cell_type": "code",
   "execution_count": null,
   "metadata": {},
   "outputs": [],
   "source": [
    "\n",
    "# Visualizza il numero di film rimanenti\n",
    "#print(df_movies_cleaned.shape)"
   ]
  },
  {
   "cell_type": "markdown",
   "metadata": {},
   "source": [
    "## Analisi di df_poster"
   ]
  },
  {
   "cell_type": "code",
   "execution_count": 38,
   "metadata": {},
   "outputs": [
    {
     "data": {
      "text/plain": [
       "(941597, 2)"
      ]
     },
     "execution_count": 38,
     "metadata": {},
     "output_type": "execute_result"
    }
   ],
   "source": [
    "df_posters.shape"
   ]
  },
  {
   "cell_type": "code",
   "execution_count": 39,
   "metadata": {},
   "outputs": [
    {
     "data": {
      "text/plain": [
       "id       int64\n",
       "link    object\n",
       "dtype: object"
      ]
     },
     "execution_count": 39,
     "metadata": {},
     "output_type": "execute_result"
    }
   ],
   "source": [
    "df_posters.dtypes"
   ]
  },
  {
   "cell_type": "code",
   "execution_count": 67,
   "metadata": {},
   "outputs": [],
   "source": [
    "df_posters.head(100)\n",
    "df_posters.rename(columns={'id': 'id_film'}, inplace=True)"
   ]
  },
  {
   "cell_type": "code",
   "execution_count": 62,
   "metadata": {},
   "outputs": [],
   "source": [
    "df_posters[\"link\"].fillna(\"https://media.istockphoto.com/id/1409329028/vector/no-picture-available-placeholder-thumbnail-icon-illustration-design.jpg?s=612x612&w=0&k=20&c=_zOuJu755g2eEUioiOUdz_mHKJQJn-tDgIAhQzyeKUQ=\",inplace=True)"
   ]
  },
  {
   "cell_type": "code",
   "execution_count": 70,
   "metadata": {},
   "outputs": [
    {
     "data": {
      "text/plain": [
       "(941597, 2)"
      ]
     },
     "execution_count": 70,
     "metadata": {},
     "output_type": "execute_result"
    }
   ],
   "source": [
    "\n",
    "# df_posters.loc[df_posters[\"id\"].isna()]\n",
    "df_posters.shape"
   ]
  },
  {
   "cell_type": "code",
   "execution_count": 65,
   "metadata": {},
   "outputs": [
    {
     "data": {
      "text/plain": [
       "np.int64(0)"
      ]
     },
     "execution_count": 65,
     "metadata": {},
     "output_type": "execute_result"
    }
   ],
   "source": [
    "df_posters[\"id\"].duplicated().sum()"
   ]
  },
  {
   "cell_type": "code",
   "execution_count": 66,
   "metadata": {},
   "outputs": [
    {
     "data": {
      "text/plain": [
       "(941597, 2)"
      ]
     },
     "execution_count": 66,
     "metadata": {},
     "output_type": "execute_result"
    }
   ],
   "source": [
    "df_posters.shape"
   ]
  },
  {
   "cell_type": "markdown",
   "metadata": {},
   "source": [
    "## Analisi di df_releases"
   ]
  },
  {
   "cell_type": "code",
   "execution_count": 100,
   "metadata": {},
   "outputs": [],
   "source": [
    "df_releases.rename(columns={'id': 'id_film'}, inplace=True)"
   ]
  },
  {
   "cell_type": "code",
   "execution_count": 96,
   "metadata": {},
   "outputs": [],
   "source": [
    "df_releases.shape\n",
    "df_releases.head(200)\n",
    "\n",
    "\n",
    "# Filter the column to exclude NaN and integer values\n",
    "#filtered_values = df_releases[\"rating\"].dropna().unique()\n",
    "#filtered_values = [value for value in filtered_values if is_not_integer(value)]\n",
    "#filtered_values\n",
    "\n",
    "rating_to_age = {\n",
    "    'ATP': 0, 'PG': 10, 'U': 0, 'K-7': 7, 'TP': 10, 'IIA': 12, 'UA': 12,\n",
    "    '12A': 12, 'T': 13, 'G': 0, 'N-13': 13, 'B': 12, 'M/12': 12, 'PG-13': 13,\n",
    "    'PG13': 13, 'A': 18, 'K-16': 16, 'IIB': 15, 'VM14': 14, 'PG12': 12,\n",
    "    'N-16': 16, 'B-15': 15, 'M/14': 14, 'M18': 18, 'R': 17, 'C18': 18,\n",
    "    'K15': 15, '18A': 18, 'K-18': 18, '18PL': 18, 'C': 18, 'R-18': 18,\n",
    "    'M/18': 18, 'M': 17, 'L': 18, 'S': 18, 'AL': 0, '14A': 14, 'K-12': 12,\n",
    "    'K12': 12, '15A': 15, 'R-16': 16, 'AG': 0, 'D': 18, 'A-18': 18, 'R16': 16,\n",
    "    'NC16': 16, 'P': 0, '18TC': 18, 'III': 18, 'VM18': 18, 'M/16': 16,\n",
    "    'R21': 21, 'N-7': 7, 'M/6': 6, 'AP': 0, 'R13': 13, 'P13': 13, 'R-13': 13,\n",
    "    'C16': 16, 'R18': 18, 'NR': 0, 'K-13': 13, 'X': 18, 'K18': 18,\n",
    "    'N-18': 18, 'K': 0, 'SU': 0, '10A': 10, 'APTA': 0, 'R-15': 15, 'APT': 0,\n",
    "    'KT/EA': 0, 'K-15': 15, 'I': 18, 'ALL': 0, 'C13': 13, '18PA': 18,\n",
    "    'RP13': 13, 'Y7': 7, 'NC-16': 16, 'KN': 0, 'PG-15': 15, 'K-11': 11,\n",
    "    'K-8': 8, 'PG-12': 12, '18SG': 18, 'EA': 0, 'V': 18, 'R-12': 12,\n",
    "    'K-17': 17, 'B15': 15, 'AA': 18, '12PG': 12, 'K-10': 10, 'AP-12': 12,\n",
    "    'TE': 13, 'R12': 12, '7-9PG': 9, '13A': 13, 'M/3': 3, 'N-15': 15,\n",
    "    'KT': 0, 'SR': 18, 'K-6-4': 6, 'NC-15': 15, 'M/4': 4, 'K-14': 14,\n",
    "    'NC-17': 17, 'MS12': 12, 'GP': 0, 'ZA': 0, '15PG': 15, 'R15': 15,\n",
    "    'E': 0, 'RP16': 16, 'M/16Q': 16, 'II': 12, 'RC': 18, 'K-3': 3, '6A': 6,\n",
    "    'PERE': 0, 'MP': 0, '7A': 7, 'N16': 16, 'K7': 7, 'TV-MA': 18,\n",
    "}\n",
    "\n",
    "df_releases['age_min'] = df_releases['rating'].map(rating_to_age)\n",
    "df_releases.fillna({'age_min': 0}, inplace=True)\n",
    "df_releases[\"age_min\"]= df_releases[\"age_min\"].astype(int)\n",
    "df_releases.drop(columns=[\"rating\"],inplace=True)\n",
    "\n"
   ]
  },
  {
   "cell_type": "code",
   "execution_count": 99,
   "metadata": {},
   "outputs": [
    {
     "data": {
      "text/plain": [
       "id                  int64\n",
       "country            object\n",
       "date       datetime64[ns]\n",
       "type               object\n",
       "age_min             int64\n",
       "dtype: object"
      ]
     },
     "execution_count": 99,
     "metadata": {},
     "output_type": "execute_result"
    }
   ],
   "source": [
    "df_releases['date'] = pd.to_datetime(df_releases['date'],\n",
    " errors='coerce', format='%Y-%m-%d').fillna(\n",
    " pd.to_datetime(df_releases['date'],\n",
    " errors='coerce'))\n",
    " \n",
    "df_releases.dtypes"
   ]
  },
  {
   "cell_type": "code",
   "execution_count": 107,
   "metadata": {},
   "outputs": [
    {
     "data": {
      "text/plain": [
       "np.int64(0)"
      ]
     },
     "execution_count": 107,
     "metadata": {},
     "output_type": "execute_result"
    }
   ],
   "source": [
    "df_releases.duplicated().sum()\n",
    "df_releases.duplicated(subset=[\"id_film\", \"country\", \"type\", \"date\"]).sum()"
   ]
  },
  {
   "cell_type": "markdown",
   "metadata": {},
   "source": [
    "## Analisi Themes"
   ]
  },
  {
   "cell_type": "code",
   "execution_count": 113,
   "metadata": {},
   "outputs": [
    {
     "data": {
      "text/plain": [
       "id_film     int64\n",
       "theme      object\n",
       "dtype: object"
      ]
     },
     "execution_count": 113,
     "metadata": {},
     "output_type": "execute_result"
    }
   ],
   "source": [
    "df_themes.dtypes\n",
    "df_themes.isna().sum()\n",
    "df_themes.duplicated().sum()\n",
    "\n",
    "df_themes.rename(columns={'id': 'id_film'}, inplace=True)"
   ]
  },
  {
   "cell_type": "markdown",
   "metadata": {},
   "source": [
    "## Analisi Studios"
   ]
  },
  {
   "cell_type": "code",
   "execution_count": 28,
   "metadata": {},
   "outputs": [
    {
     "data": {
      "text/plain": [
       "(679283, 2)"
      ]
     },
     "execution_count": 28,
     "metadata": {},
     "output_type": "execute_result"
    }
   ],
   "source": [
    "df_studios\n",
    "df_studios.rename(columns={'id': 'id_film'}, inplace=True)\n",
    "df_studios.dtypes\n",
    "df_studios[df_studios['studio'].isna()]\n",
    "\n",
    "df_studios.shape"
   ]
  },
  {
   "cell_type": "code",
   "execution_count": 29,
   "metadata": {},
   "outputs": [
    {
     "data": {
      "text/plain": [
       "(679071, 2)"
      ]
     },
     "execution_count": 29,
     "metadata": {},
     "output_type": "execute_result"
    }
   ],
   "source": [
    "df_studios.duplicated().sum()\n",
    "df_studios.duplicated\n",
    "\n",
    "df_studios.loc[df_studios[\"id_film\"]==1000001]\n",
    "df_studios\n",
    "#remove di questi duplicati\n",
    "df_studios=df_studios.drop_duplicates(subset=[\"id_film\",\"studio\"],keep=\"first\")\n",
    "df_studios.shape"
   ]
  },
  {
   "cell_type": "code",
   "execution_count": null,
   "metadata": {},
   "outputs": [
    {
     "data": {
      "text/html": [
       "<div>\n",
       "<style scoped>\n",
       "    .dataframe tbody tr th:only-of-type {\n",
       "        vertical-align: middle;\n",
       "    }\n",
       "\n",
       "    .dataframe tbody tr th {\n",
       "        vertical-align: top;\n",
       "    }\n",
       "\n",
       "    .dataframe thead th {\n",
       "        text-align: right;\n",
       "    }\n",
       "</style>\n",
       "<table border=\"1\" class=\"dataframe\">\n",
       "  <thead>\n",
       "    <tr style=\"text-align: right;\">\n",
       "      <th></th>\n",
       "      <th>id</th>\n",
       "      <th>name</th>\n",
       "      <th>date</th>\n",
       "      <th>tagline</th>\n",
       "      <th>description</th>\n",
       "      <th>minute</th>\n",
       "      <th>rating</th>\n",
       "    </tr>\n",
       "  </thead>\n",
       "  <tbody>\n",
       "    <tr>\n",
       "      <th>259716</th>\n",
       "      <td>1259717</td>\n",
       "      <td>Skeleton</td>\n",
       "      <td>2018.0</td>\n",
       "      <td>NaN</td>\n",
       "      <td>For Sarah, her past has become a blur but she ...</td>\n",
       "      <td>11.0</td>\n",
       "      <td>NaN</td>\n",
       "    </tr>\n",
       "  </tbody>\n",
       "</table>\n",
       "</div>"
      ],
      "text/plain": [
       "             id      name    date tagline  \\\n",
       "259716  1259717  Skeleton  2018.0     NaN   \n",
       "\n",
       "                                              description  minute  rating  \n",
       "259716  For Sarah, her past has become a blur but she ...    11.0     NaN  "
      ]
     },
     "execution_count": 38,
     "metadata": {},
     "output_type": "execute_result"
    }
   ],
   "source": [
    "#check Null values\n",
    "\n",
    "righe_con_nan = df_studios[df_studios.isna().any(axis=1)]\n",
    "righe_con_nan\n",
    "#potrebbero essere Film prodotti autonomamente\n",
    "\n",
    "\n",
    "df_movies.loc[df_movies[\"id\"]==1259717]"
   ]
  },
  {
   "cell_type": "markdown",
   "metadata": {},
   "source": [
    "## Pulizia df_tomatoes (Review RottenTomatoes)"
   ]
  },
  {
   "cell_type": "code",
   "execution_count": 52,
   "metadata": {},
   "outputs": [],
   "source": [
    "df_tomatoes.shape\n",
    "df_tomatoes.rename(columns={'id': 'id_film'}, inplace=True)"
   ]
  },
  {
   "cell_type": "code",
   "execution_count": 59,
   "metadata": {},
   "outputs": [
    {
     "data": {
      "text/plain": [
       "array([nan, '3.5/5', '1/4', 'B', '3/5', '4/5', '2/4', '2/5', 'C', '2.5/4',\n",
       "       '3/4', 'C-', '2.75/5', 'B-', '2.5/5', '5.5/10', '1/5', 'C+', 'D+',\n",
       "       '1.5/4', '6.5/10', '3/10', '1.5/5', '4/10', '7/10', '6/10', 'B+',\n",
       "       '5/5', 'A-', '4.5/5', '5.78/10', '3.5/4', 'A', '9/10', '8.5/10',\n",
       "       '4/4', '83/100', '8/10', '92/100', '82/100', '84/100', '10/10',\n",
       "       'D-', 'F', '0.5/4', 'D', '5/10', '2/10', '2/6', '0.5/5', '0/4',\n",
       "       '0/5', '76/100', '87/100', '74/100', '86/100', '81/100', '56/100',\n",
       "       '78/100', '2.25/5', '8.8/10', '0/10', '44/100', '2.75/4', '2.4/5',\n",
       "       '8.6/10', '79/100', '68/100', '80/100', '90/100', '66/100',\n",
       "       '91/100', '0.3/5', '9.2/10', '2.7/5', '57/100', '4/6', '3/6',\n",
       "       '73/100', '42/100', '65/100', '7.5/10', '4.5/10', '5/6', '1/6',\n",
       "       '70/100', '3.5/10', '71/100', '0.1/5', '3.25/10', '89/100',\n",
       "       '40/100', '64/100', '62/100', '1/10', '3.75/5', '37/100', '49/100',\n",
       "       '60/100', '3.3/5', '77/100', '5.25/10', '1.4/4', '75/100', '1.5/6',\n",
       "       '85/100', '4.25/10', '47/100', '6/8', '52/100', '63/100', '50/100',\n",
       "       '41/100', '46/100', '6.95/10', '53/100', '9.5/10', '59/100',\n",
       "       '43/100', '9.45/10', '45/100', '69/100', '7.25/10', '5.85/10',\n",
       "       '9.88/10', '39/100', '0.13/1', '8.25/10', '5.75/10', '6.1/10',\n",
       "       '6.8/10', '8.9/10', '8.75/10', '2.5/10', '5.9/10', '4.2/10',\n",
       "       '7.35/10', '4.6/10', '6.75/10', '4.90/10', '4.827/10', '2/2',\n",
       "       '58/100', '4.75/10', '3.4/10', '88/100', '5.48/10', '9.16/10',\n",
       "       '3.4/4', '4.25/5', '3.7/10', '6.765/10', '67/100', '34/100',\n",
       "       '51/100', '3.4/5', '72/100', '93/100', '5', '95/95', '98/100',\n",
       "       '94/100', '99/100', '4', '55/100', '61/100', '35/100', '95/100',\n",
       "       '1/3', '5/8', '7', '4.2/5', '3', '30/100', '54/100', '48/100',\n",
       "       '18/100', '10', '25/100', '7/5', '3.25/5', '7.4/10', '2', '6.2/10',\n",
       "       '5.12/10', '5/100', '1', '0.75/5', '8', '100/100', '2.8/4',\n",
       "       '2.25/4', '31/100', '2.4/4', '32/100', '3.8/5', '8.3/10', '8.4/10',\n",
       "       '5.3/10', '0/100', '0.2/5', '8.7/10', '2.2/5', '2.3/5', '3.2/5',\n",
       "       '2.8/5', '2.75/3', '4.85/10', '3.5/6', '3.25/4', '0.5/10',\n",
       "       '1.75/4', '28/100', '9.25/10', '5.80/10', '6.25/10', '7.2/10',\n",
       "       '6.9/10', '1.2/5', '8.35/10', '6.4/10', '7/11', '8.70/10',\n",
       "       '9.75/10', '1.21/10', '1.35/5', '23/100', '38/100', '6.3/10',\n",
       "       '8.85/10', '7.3/10', '7.15/10', '1.25/4', '3.9/10', '4.21/10',\n",
       "       '9.35/10', '2.75/10', '8.76/10', '7.7/10', '7.75/10', '5.15/10',\n",
       "       '7.85/10', '1.8/5', '0', '6.45/10', '5.95/10', '8.1/10', '3.7/5',\n",
       "       '7.9/10', '9.9/10', '13/20', '6', '4.75/5', '2.83/5', '17/20',\n",
       "       '8.74/10', '9', '7.8/10', '5.8311/10', '47/50', '3.20/10',\n",
       "       '6.65/10', '5.88/10', '19/100', '2.5/3', '15/100', '8.621/10',\n",
       "       '16/20', '1.75/5', '5.8/10', '1.5/10', '8.50/10', '5.65/10',\n",
       "       '10.50/20', '9.19/10', '4.4/10', '5.6/10', '14.5/20', '4.1/5',\n",
       "       '8.05/10', '0/6', '1.6/5', '3.1/5', '6.85/10', '4.35/10', '9.1/10',\n",
       "       '8.88/10', '6.6/10', '6.7/10', '5.4/10', '20/20', '8.2/10',\n",
       "       '16.5/20', '7.1/10', '5.7/10', '11/20', '8.95/10', '3.75/10',\n",
       "       '15/20', '3.6/5', '7.6/10', '5.9737991/10', '18.5/20', '14/20',\n",
       "       '7.05/10', '18/20', '9.86/10', '4.8/10', '4.7/10', '2.74/10',\n",
       "       '4.9/10', '26/100', '2.12/5', '5.2/10', '7.96/10', '21/100',\n",
       "       '6.9921/10', '4.5/4', '7.892/10', '5.5/5', '1/54', '1.2/10',\n",
       "       '8.89/10', '33/100', '8.99/10', '5.5/20', '8.10/10', '6.68/10',\n",
       "       '13/100', '2.9/10', '5.61/10', '4.65/10', '8/20', '9.12/10', '3/3',\n",
       "       '5.49/10', '20/100', '6.78/10', '10/20', '0.02/5', '3.8/10',\n",
       "       '8.65/10', '5.1/10', '9/5', '1.7/5', '25', '8.7328/10',\n",
       "       '7.00122/10', '9.851/10', '8.251/10', '5/20', '7.57/10', '12/20',\n",
       "       '2.1/5', '9.5/20', '10/100', '5.51/10', '1.4/5', '2.6/6', '9.4/10',\n",
       "       '4.8/5', '4.45/10', '4.65/5', '2.6/5', '3.15/5', '6.98/10',\n",
       "       '4.7/5', '4.1/10', '3.5/3', '4.4/5', '9.3/10', '4.3/5', '3.9/5',\n",
       "       '2.20282652/10', '3.75/4', '3.3/10', '11.5/20', '7.5/20',\n",
       "       '8.53899/10', '6/13', '2.11/5', '9.7/10', '2.6/10', '0.7221/10',\n",
       "       '3.76/5', '2.95/10', '6.15/10', '7.5314585/10', '8.15/10',\n",
       "       '9.85/10', '97/100', '7.83/10', '3.2121/10', '8.55/10',\n",
       "       '2.282303/10', '88', '1.5/2', '4.21382343/10', '8/100', '17.5/20',\n",
       "       '1.24/5', '1.25/5', '4.3/10', '2.7/10', '4.521/10', '6.0001/10',\n",
       "       '4.143641/10', '9.15/10', '48', '4.05524/10', '8/5', '3/100',\n",
       "       '3.83412437/10', '9.6/10', '9.79/10', '7.21/10', '9.5/5', '3.2/10',\n",
       "       '7.696/10', '5.872/10', '9.50/20', '5.1921/10', '2.892521821/10',\n",
       "       '0.81/1', '27/100', '6.35/10', '2.9/5', '9.74/10', '9.33/10',\n",
       "       '7.02/10', '2.1/10', '7.89/10', '2.50/5', '9.21/10', '5.57/10',\n",
       "       '19/20', '9.8/10', '8.32/10', '1/1', '5.9821/10', '8.385/10',\n",
       "       '0.5/5.5', '45', '7.95/10', '6.09/10', '1.9/10', '3.55/10',\n",
       "       '7.45/10', '7.62121/10', '1.9/5', '3.515/10', '15.5/20', '3.85/10',\n",
       "       '8.72/10', '35/4', '5.5/6', '36/100', '9.1221/10', '9.65/10',\n",
       "       '4.70/10', '2.2/10', '7.61/10', '2.3/4', '6.4821/10', '7.3821/10',\n",
       "       '8.3721/10', '5.44/10', '8.92/10', '7.49/10', '8.225/10', '0.25/4',\n",
       "       '1.5242228/10', '5.56/10', '9/20', '24/100', '7.01/10', '9.67/10',\n",
       "       '7.2234238/10', '6.00024/10', '7.111113314/10', '8.21/10',\n",
       "       '5.21/10', '79/80', '9.145/10', '9.865/10', '4.95/10', '5.6642/10',\n",
       "       '9/100', '6.875/10', '0.66/10', '1.2/4', '5.8943/10', '3.99/10',\n",
       "       '13.5/20', '61/00', '5.72/10', '1.3/5', '0.05/4', '4.6/5',\n",
       "       '8.57/10', '24', '0/1000', '5.35/10', '29/100', '1.9528/10', '35',\n",
       "       '7.65/10', '5.55/10', '2.5/20', '69/70', '9.26/10', '8.735/10',\n",
       "       '6.1121/10', '6.0000001/10', '2/8', '9.78/10', '5.45/10',\n",
       "       '14.50/20', '6.26/10', '2.85/5', '2.6/4', '7.218/10', '0.6/1',\n",
       "       '3.021/10', '7.10/10', '0.96/10', '8.666/10', '3/40', '0.82/10',\n",
       "       '7.98/10', '5.5542/10', '8.901/10', '2.55/5', '7.22/10', '5.70/10',\n",
       "       'A  -', '7.04/10', '2.4/10', '5.89521/10', '2.8/10', '7.3856/10',\n",
       "       '8.899327/10', '1.1/2', '8.2621/10', '7.212121/10', '4.89215/10',\n",
       "       '9.89/10', '2.212521/10', '22/100', '5.6521/10', '8.87/10',\n",
       "       '3.1/10', '4/5.5', '4.95/5', '8.19/10', '9.552/10', '7/20',\n",
       "       '4.211/10', '4/3.5', '46', '4.9837/10', '9.38/10', '5.284849/10',\n",
       "       '8.67/10', '6.9621/10', '2.5/50', '2.255/5', '90', '75', '8.61/10',\n",
       "       '3.5/5.5', '5.81/10', '66/70', '3.222423/10', '4.2112/10',\n",
       "       '1.82/10', '6.000003231/10', '3.76/10', '5.76/10', '2/54', '0.8/5',\n",
       "       '6/11', '8.458/10', '2.89/5', '5.8921/10', '8.496/10', '2.3/10',\n",
       "       '0.21/10', '4.51/10', '9.76/10', '59/60', '0.9/10', '3.65/5',\n",
       "       '6/6', '6.7/8', '9.46/10', '8.45/10', '8.26/10', '1.85/10',\n",
       "       '0.75/10', '4.89/10', '6.55/10', '1.62/5', '0.85/10', '9.121/10',\n",
       "       '9.6421/10', '8.5788222/10', '3.45/5', '96/100', '67/10',\n",
       "       '7.2621/10', '2/3', '5.23/10', '7.79/10', '9.1421/10', '87/10',\n",
       "       '12.50/20', '7.825/10', '8.921/10', '6.24/10', '8.124/10',\n",
       "       '8.01/10', '4.56/10', '1.5/3', '4.79/10', '8.16/10', '0.59/1',\n",
       "       '2.7/4', '1.1/5', '89', '4.55/10', '2.5/6', '9.8521/10',\n",
       "       '3.7822391/10', '7.2521/10', '7.18321/10', '3.6/4', 'C  -',\n",
       "       '8.42/10', '9.73889/10', '12/100', '7.44/10', '8.5/5', '6/20',\n",
       "       '6.01/10', '34', '8.98/10', '7.48/10', '3.65/10', '7.0921/10',\n",
       "       '3.35/5', '1.4/10', '4/0', '6.96/10', '7.001/10', '5.22/10',\n",
       "       '1.8/4', '16/100', '9.889/10', '14/100', '8.999/10', '9.188/10',\n",
       "       '7.021/10', '4.42/10', '8.212121/10', '3.6/10', '0.7765823/10',\n",
       "       '8.425/10', '9.48/10', '9.30/10', '4.86/10', '7.5211/10', '5/11',\n",
       "       '8.71/10', '68', '3.7521/10', '4.021/10', '8.881/10', '5.10/10',\n",
       "       '3/5.5', '95', '5.623433899/10', '0.65/10', '7/8', '9.18/10',\n",
       "       '5.82/10', '5.212/10', '5.895/10', '6.8666/10', '920', '3.0782/10',\n",
       "       '2.95/5', '4.22/10', '0.13/5', '2.65/10', '0.4/5', '8.453895/10',\n",
       "       '6.001/10', '9.52/10', '6.16/10', '8.9521/10', '9.85621/10',\n",
       "       '76/10', '0.664363/10', '9.51/10', '5.02120621/10', '3.2/4',\n",
       "       '2/20', '5.1221/10', '12.5/20', '8.327/10', '1.88/10', '11/100',\n",
       "       '75/10', '8.39421/10', '910', '9.95/10', '2/9', '8.199/10',\n",
       "       '8.485/10', '7.621/10', '5.232121/10', '5.67/10', '8.24/10',\n",
       "       '39/40', '3/5.4', '2/100', '7.94215/10', '9.68/10', '6/5',\n",
       "       '6.19/10', '25/4', '4.5/6', '9.021/10', '8.32321/10', '7.87/10',\n",
       "       '5.50/10', '8.2521/10', '2.1/2', '5.05/10', '0.6/10', '3.5/20',\n",
       "       '9.14/10', '7.42/10', '9.2021/10', '6.05/10', '4/8', '3.54/5',\n",
       "       '14', '9.49/10', '6.97/10', '4.9834326/10', '10/90', '72', '67',\n",
       "       '45/5', '7.0155/10', '3.3/4', '6.89/10', '9.921/10', '80',\n",
       "       '0.666/4', '2.55/4', '1.1/10', '3.5/18', '73/10', '8.30/10',\n",
       "       '8.56/10', '6.8843/10', '6.00001/10', '4.364221/10', '4.293382/10',\n",
       "       '6.84/10', '9.01/10', '8.68/10', '9.649821/10', '3/45',\n",
       "       '8.692121/10', '70', '6.02/10', '0.58/1', '5.4221/10', '7.12/10',\n",
       "       '8.1921/10', '9.87/10', '8.84/10', '9.20/10', '0.8/10',\n",
       "       '8.9621/10', '3/20', '0.52/1', '8.3/100', '4/100', '1.75/10',\n",
       "       '1.8/10', '4.0001/10', '77', '5.9999/10', '9.66/10', '9.99/10',\n",
       "       '5.751/10', '7.55/10', '5.01/10', '3.56339/10', '4.558/10',\n",
       "       '7.94/10', '3.5/44', '8.765/10', '4.35/5', '21/24', '6.02121/10',\n",
       "       '1/2', '7.4921/10', '5.046/10', '9.56/10'], dtype=object)"
      ]
     },
     "execution_count": 59,
     "metadata": {},
     "output_type": "execute_result"
    }
   ],
   "source": [
    "df_tomatoes.dtypes\n",
    "\n",
    "\n",
    "#df_tomatoes[\"review_date\"]=pd.to_datetime(df_tomatoes[\"review_date\"], format=\"%Y-%m-%d\", errors=\"coerce\")\n",
    "\n",
    "#sistemare i valori delle review_score\n",
    "\n",
    "#visualizzare le review_score per vedere se sono tutti uguali come struttura ......non lo sono \n",
    "\n",
    "valori_unici = df_tomatoes[\"review_score\"].unique()\n",
    "valori_unici \n",
    "\n",
    "\n",
    "#df_tomatoes[\"review_score\"]=df_tomatoes[\"review_Score\"].astype(float)"
   ]
  },
  {
   "cell_type": "code",
   "execution_count": 57,
   "metadata": {},
   "outputs": [
    {
     "data": {
      "text/html": [
       "<div>\n",
       "<style scoped>\n",
       "    .dataframe tbody tr th:only-of-type {\n",
       "        vertical-align: middle;\n",
       "    }\n",
       "\n",
       "    .dataframe tbody tr th {\n",
       "        vertical-align: top;\n",
       "    }\n",
       "\n",
       "    .dataframe thead th {\n",
       "        text-align: right;\n",
       "    }\n",
       "</style>\n",
       "<table border=\"1\" class=\"dataframe\">\n",
       "  <thead>\n",
       "    <tr style=\"text-align: right;\">\n",
       "      <th></th>\n",
       "      <th>rotten_tomatoes_link</th>\n",
       "      <th>movie_title</th>\n",
       "      <th>critic_name</th>\n",
       "      <th>top_critic</th>\n",
       "      <th>publisher_name</th>\n",
       "      <th>review_type</th>\n",
       "      <th>review_score</th>\n",
       "      <th>review_date</th>\n",
       "      <th>review_content</th>\n",
       "    </tr>\n",
       "  </thead>\n",
       "  <tbody>\n",
       "    <tr>\n",
       "      <th>0</th>\n",
       "      <td>m/0814255</td>\n",
       "      <td>Percy Jackson &amp; the Olympians: The Lightning T...</td>\n",
       "      <td>Andrew L. Urban</td>\n",
       "      <td>False</td>\n",
       "      <td>Urban Cinefile</td>\n",
       "      <td>Fresh</td>\n",
       "      <td>NaN</td>\n",
       "      <td>2010-02-06</td>\n",
       "      <td>A fantasy adventure that fuses Greek mythology...</td>\n",
       "    </tr>\n",
       "    <tr>\n",
       "      <th>1</th>\n",
       "      <td>m/0814255</td>\n",
       "      <td>Percy Jackson &amp; the Olympians: The Lightning T...</td>\n",
       "      <td>Louise Keller</td>\n",
       "      <td>False</td>\n",
       "      <td>Urban Cinefile</td>\n",
       "      <td>Fresh</td>\n",
       "      <td>NaN</td>\n",
       "      <td>2010-02-06</td>\n",
       "      <td>Uma Thurman as Medusa, the gorgon with a coiff...</td>\n",
       "    </tr>\n",
       "    <tr>\n",
       "      <th>2</th>\n",
       "      <td>m/0814255</td>\n",
       "      <td>Percy Jackson &amp; the Olympians: The Lightning T...</td>\n",
       "      <td>NaN</td>\n",
       "      <td>False</td>\n",
       "      <td>FILMINK (Australia)</td>\n",
       "      <td>Fresh</td>\n",
       "      <td>NaN</td>\n",
       "      <td>2010-02-09</td>\n",
       "      <td>With a top-notch cast and dazzling special eff...</td>\n",
       "    </tr>\n",
       "    <tr>\n",
       "      <th>3</th>\n",
       "      <td>m/0814255</td>\n",
       "      <td>Percy Jackson &amp; the Olympians: The Lightning T...</td>\n",
       "      <td>Ben McEachen</td>\n",
       "      <td>False</td>\n",
       "      <td>Sunday Mail (Australia)</td>\n",
       "      <td>Fresh</td>\n",
       "      <td>3.5/5</td>\n",
       "      <td>2010-02-09</td>\n",
       "      <td>Whether audiences will get behind The Lightnin...</td>\n",
       "    </tr>\n",
       "    <tr>\n",
       "      <th>4</th>\n",
       "      <td>m/0814255</td>\n",
       "      <td>Percy Jackson &amp; the Olympians: The Lightning T...</td>\n",
       "      <td>Ethan Alter</td>\n",
       "      <td>True</td>\n",
       "      <td>Hollywood Reporter</td>\n",
       "      <td>Rotten</td>\n",
       "      <td>NaN</td>\n",
       "      <td>2010-02-10</td>\n",
       "      <td>What's really lacking in The Lightning Thief i...</td>\n",
       "    </tr>\n",
       "    <tr>\n",
       "      <th>...</th>\n",
       "      <td>...</td>\n",
       "      <td>...</td>\n",
       "      <td>...</td>\n",
       "      <td>...</td>\n",
       "      <td>...</td>\n",
       "      <td>...</td>\n",
       "      <td>...</td>\n",
       "      <td>...</td>\n",
       "      <td>...</td>\n",
       "    </tr>\n",
       "    <tr>\n",
       "      <th>195</th>\n",
       "      <td>m/0878835</td>\n",
       "      <td>Please Give</td>\n",
       "      <td>Liz Braun</td>\n",
       "      <td>False</td>\n",
       "      <td>Jam! Movies</td>\n",
       "      <td>Fresh</td>\n",
       "      <td>4/5</td>\n",
       "      <td>2010-05-07</td>\n",
       "      <td>It's a wonderful movie full of people you wish...</td>\n",
       "    </tr>\n",
       "    <tr>\n",
       "      <th>196</th>\n",
       "      <td>m/0878835</td>\n",
       "      <td>Please Give</td>\n",
       "      <td>Liam Lacey</td>\n",
       "      <td>True</td>\n",
       "      <td>Globe and Mail</td>\n",
       "      <td>Fresh</td>\n",
       "      <td>3/4</td>\n",
       "      <td>2010-05-07</td>\n",
       "      <td>Please Give is a series of such set-piece scen...</td>\n",
       "    </tr>\n",
       "    <tr>\n",
       "      <th>197</th>\n",
       "      <td>m/0878835</td>\n",
       "      <td>Please Give</td>\n",
       "      <td>Peter Rainer</td>\n",
       "      <td>True</td>\n",
       "      <td>Christian Science Monitor</td>\n",
       "      <td>Rotten</td>\n",
       "      <td>C+</td>\n",
       "      <td>2010-05-07</td>\n",
       "      <td>Only Rebecca Hall comes through with a genuine...</td>\n",
       "    </tr>\n",
       "    <tr>\n",
       "      <th>198</th>\n",
       "      <td>m/0878835</td>\n",
       "      <td>Please Give</td>\n",
       "      <td>Brian Tallerico</td>\n",
       "      <td>False</td>\n",
       "      <td>HollywoodChicago.com</td>\n",
       "      <td>Fresh</td>\n",
       "      <td>4/5</td>\n",
       "      <td>2010-05-07</td>\n",
       "      <td>Please Give proves that a film can be a specta...</td>\n",
       "    </tr>\n",
       "    <tr>\n",
       "      <th>199</th>\n",
       "      <td>m/0878835</td>\n",
       "      <td>Please Give</td>\n",
       "      <td>Peter Sobczynski</td>\n",
       "      <td>False</td>\n",
       "      <td>eFilmCritic.com</td>\n",
       "      <td>Fresh</td>\n",
       "      <td>4/5</td>\n",
       "      <td>2010-05-07</td>\n",
       "      <td>It recognizes that a film about unpleasant peo...</td>\n",
       "    </tr>\n",
       "  </tbody>\n",
       "</table>\n",
       "<p>200 rows × 9 columns</p>\n",
       "</div>"
      ],
      "text/plain": [
       "    rotten_tomatoes_link                                        movie_title  \\\n",
       "0              m/0814255  Percy Jackson & the Olympians: The Lightning T...   \n",
       "1              m/0814255  Percy Jackson & the Olympians: The Lightning T...   \n",
       "2              m/0814255  Percy Jackson & the Olympians: The Lightning T...   \n",
       "3              m/0814255  Percy Jackson & the Olympians: The Lightning T...   \n",
       "4              m/0814255  Percy Jackson & the Olympians: The Lightning T...   \n",
       "..                   ...                                                ...   \n",
       "195            m/0878835                                        Please Give   \n",
       "196            m/0878835                                        Please Give   \n",
       "197            m/0878835                                        Please Give   \n",
       "198            m/0878835                                        Please Give   \n",
       "199            m/0878835                                        Please Give   \n",
       "\n",
       "          critic_name  top_critic             publisher_name review_type  \\\n",
       "0     Andrew L. Urban       False             Urban Cinefile       Fresh   \n",
       "1       Louise Keller       False             Urban Cinefile       Fresh   \n",
       "2                 NaN       False        FILMINK (Australia)       Fresh   \n",
       "3        Ben McEachen       False    Sunday Mail (Australia)       Fresh   \n",
       "4         Ethan Alter        True         Hollywood Reporter      Rotten   \n",
       "..                ...         ...                        ...         ...   \n",
       "195         Liz Braun       False                Jam! Movies       Fresh   \n",
       "196        Liam Lacey        True             Globe and Mail       Fresh   \n",
       "197      Peter Rainer        True  Christian Science Monitor      Rotten   \n",
       "198   Brian Tallerico       False       HollywoodChicago.com       Fresh   \n",
       "199  Peter Sobczynski       False            eFilmCritic.com       Fresh   \n",
       "\n",
       "    review_score review_date  \\\n",
       "0            NaN  2010-02-06   \n",
       "1            NaN  2010-02-06   \n",
       "2            NaN  2010-02-09   \n",
       "3          3.5/5  2010-02-09   \n",
       "4            NaN  2010-02-10   \n",
       "..           ...         ...   \n",
       "195          4/5  2010-05-07   \n",
       "196          3/4  2010-05-07   \n",
       "197           C+  2010-05-07   \n",
       "198          4/5  2010-05-07   \n",
       "199          4/5  2010-05-07   \n",
       "\n",
       "                                        review_content  \n",
       "0    A fantasy adventure that fuses Greek mythology...  \n",
       "1    Uma Thurman as Medusa, the gorgon with a coiff...  \n",
       "2    With a top-notch cast and dazzling special eff...  \n",
       "3    Whether audiences will get behind The Lightnin...  \n",
       "4    What's really lacking in The Lightning Thief i...  \n",
       "..                                                 ...  \n",
       "195  It's a wonderful movie full of people you wish...  \n",
       "196  Please Give is a series of such set-piece scen...  \n",
       "197  Only Rebecca Hall comes through with a genuine...  \n",
       "198  Please Give proves that a film can be a specta...  \n",
       "199  It recognizes that a film about unpleasant peo...  \n",
       "\n",
       "[200 rows x 9 columns]"
      ]
     },
     "execution_count": 57,
     "metadata": {},
     "output_type": "execute_result"
    }
   ],
   "source": [
    "df_tomatoes.head(200)"
   ]
  },
  {
   "cell_type": "code",
   "execution_count": 53,
   "metadata": {},
   "outputs": [
    {
     "data": {
      "text/plain": [
       "rotten_tomatoes_link         0\n",
       "movie_title                  0\n",
       "critic_name              18521\n",
       "top_critic                   0\n",
       "publisher_name               0\n",
       "review_type                  0\n",
       "review_score            305902\n",
       "review_date                  0\n",
       "review_content           65778\n",
       "dtype: int64"
      ]
     },
     "execution_count": 53,
     "metadata": {},
     "output_type": "execute_result"
    }
   ],
   "source": [
    "df_tomatoes.isna().sum()\n"
   ]
  },
  {
   "cell_type": "code",
   "execution_count": 54,
   "metadata": {},
   "outputs": [
    {
     "data": {
      "text/html": [
       "<div>\n",
       "<style scoped>\n",
       "    .dataframe tbody tr th:only-of-type {\n",
       "        vertical-align: middle;\n",
       "    }\n",
       "\n",
       "    .dataframe tbody tr th {\n",
       "        vertical-align: top;\n",
       "    }\n",
       "\n",
       "    .dataframe thead th {\n",
       "        text-align: right;\n",
       "    }\n",
       "</style>\n",
       "<table border=\"1\" class=\"dataframe\">\n",
       "  <thead>\n",
       "    <tr style=\"text-align: right;\">\n",
       "      <th></th>\n",
       "      <th>rotten_tomatoes_link</th>\n",
       "      <th>movie_title</th>\n",
       "      <th>critic_name</th>\n",
       "      <th>top_critic</th>\n",
       "      <th>publisher_name</th>\n",
       "      <th>review_type</th>\n",
       "      <th>review_score</th>\n",
       "      <th>review_date</th>\n",
       "      <th>review_content</th>\n",
       "    </tr>\n",
       "  </thead>\n",
       "  <tbody>\n",
       "    <tr>\n",
       "      <th>2</th>\n",
       "      <td>m/0814255</td>\n",
       "      <td>Percy Jackson &amp; the Olympians: The Lightning T...</td>\n",
       "      <td>NaN</td>\n",
       "      <td>False</td>\n",
       "      <td>FILMINK (Australia)</td>\n",
       "      <td>Fresh</td>\n",
       "      <td>NaN</td>\n",
       "      <td>2010-02-09</td>\n",
       "      <td>With a top-notch cast and dazzling special eff...</td>\n",
       "    </tr>\n",
       "    <tr>\n",
       "      <th>80</th>\n",
       "      <td>m/0814255</td>\n",
       "      <td>Percy Jackson &amp; the Olympians: The Lightning T...</td>\n",
       "      <td>NaN</td>\n",
       "      <td>False</td>\n",
       "      <td>National Post</td>\n",
       "      <td>Rotten</td>\n",
       "      <td>2.5/4</td>\n",
       "      <td>2010-02-12</td>\n",
       "      <td>NaN</td>\n",
       "    </tr>\n",
       "    <tr>\n",
       "      <th>101</th>\n",
       "      <td>m/0814255</td>\n",
       "      <td>Percy Jackson &amp; the Olympians: The Lightning T...</td>\n",
       "      <td>NaN</td>\n",
       "      <td>True</td>\n",
       "      <td>Time Out</td>\n",
       "      <td>Rotten</td>\n",
       "      <td>2/5</td>\n",
       "      <td>2010-02-16</td>\n",
       "      <td>It's not enough to compensate for the computer...</td>\n",
       "    </tr>\n",
       "    <tr>\n",
       "      <th>182</th>\n",
       "      <td>m/0878835</td>\n",
       "      <td>Please Give</td>\n",
       "      <td>NaN</td>\n",
       "      <td>False</td>\n",
       "      <td>National Post</td>\n",
       "      <td>Rotten</td>\n",
       "      <td>2.5/4</td>\n",
       "      <td>2010-04-30</td>\n",
       "      <td>NaN</td>\n",
       "    </tr>\n",
       "    <tr>\n",
       "      <th>298</th>\n",
       "      <td>m/10</td>\n",
       "      <td>10</td>\n",
       "      <td>NaN</td>\n",
       "      <td>False</td>\n",
       "      <td>TV Guide</td>\n",
       "      <td>Fresh</td>\n",
       "      <td>4/5</td>\n",
       "      <td>2003-06-15</td>\n",
       "      <td>NaN</td>\n",
       "    </tr>\n",
       "    <tr>\n",
       "      <th>...</th>\n",
       "      <td>...</td>\n",
       "      <td>...</td>\n",
       "      <td>...</td>\n",
       "      <td>...</td>\n",
       "      <td>...</td>\n",
       "      <td>...</td>\n",
       "      <td>...</td>\n",
       "      <td>...</td>\n",
       "      <td>...</td>\n",
       "    </tr>\n",
       "    <tr>\n",
       "      <th>1129233</th>\n",
       "      <td>m/zoolander</td>\n",
       "      <td>Zoolander</td>\n",
       "      <td>NaN</td>\n",
       "      <td>False</td>\n",
       "      <td>Film4</td>\n",
       "      <td>Fresh</td>\n",
       "      <td>4/5</td>\n",
       "      <td>2008-08-14</td>\n",
       "      <td>It's patchy, but when it hits, Zoolander is as...</td>\n",
       "    </tr>\n",
       "    <tr>\n",
       "      <th>1129538</th>\n",
       "      <td>m/zoom_2006</td>\n",
       "      <td>Zoom</td>\n",
       "      <td>NaN</td>\n",
       "      <td>False</td>\n",
       "      <td>Total Film</td>\n",
       "      <td>Rotten</td>\n",
       "      <td>1/5</td>\n",
       "      <td>2013-06-17</td>\n",
       "      <td>A celluloid clich from first frame to last, it...</td>\n",
       "    </tr>\n",
       "    <tr>\n",
       "      <th>1129857</th>\n",
       "      <td>m/zulu</td>\n",
       "      <td>Zulu</td>\n",
       "      <td>NaN</td>\n",
       "      <td>False</td>\n",
       "      <td>TV Guide</td>\n",
       "      <td>Fresh</td>\n",
       "      <td>5/5</td>\n",
       "      <td>2000-01-01</td>\n",
       "      <td>This amazing film is devastatingly accurate in...</td>\n",
       "    </tr>\n",
       "    <tr>\n",
       "      <th>1129875</th>\n",
       "      <td>m/zulu</td>\n",
       "      <td>Zulu</td>\n",
       "      <td>NaN</td>\n",
       "      <td>False</td>\n",
       "      <td>Sky Cinema</td>\n",
       "      <td>Fresh</td>\n",
       "      <td>5/5</td>\n",
       "      <td>2017-07-10</td>\n",
       "      <td>This is that rarity in films - an all-action, ...</td>\n",
       "    </tr>\n",
       "    <tr>\n",
       "      <th>1129876</th>\n",
       "      <td>m/zulu</td>\n",
       "      <td>Zulu</td>\n",
       "      <td>NaN</td>\n",
       "      <td>False</td>\n",
       "      <td>Empire Magazine</td>\n",
       "      <td>Fresh</td>\n",
       "      <td>4/5</td>\n",
       "      <td>2017-07-10</td>\n",
       "      <td>As a spectacular war film with a powerful mora...</td>\n",
       "    </tr>\n",
       "  </tbody>\n",
       "</table>\n",
       "<p>18521 rows × 9 columns</p>\n",
       "</div>"
      ],
      "text/plain": [
       "        rotten_tomatoes_link  \\\n",
       "2                  m/0814255   \n",
       "80                 m/0814255   \n",
       "101                m/0814255   \n",
       "182                m/0878835   \n",
       "298                     m/10   \n",
       "...                      ...   \n",
       "1129233          m/zoolander   \n",
       "1129538          m/zoom_2006   \n",
       "1129857               m/zulu   \n",
       "1129875               m/zulu   \n",
       "1129876               m/zulu   \n",
       "\n",
       "                                               movie_title critic_name  \\\n",
       "2        Percy Jackson & the Olympians: The Lightning T...         NaN   \n",
       "80       Percy Jackson & the Olympians: The Lightning T...         NaN   \n",
       "101      Percy Jackson & the Olympians: The Lightning T...         NaN   \n",
       "182                                            Please Give         NaN   \n",
       "298                                                     10         NaN   \n",
       "...                                                    ...         ...   \n",
       "1129233                                          Zoolander         NaN   \n",
       "1129538                                               Zoom         NaN   \n",
       "1129857                                               Zulu         NaN   \n",
       "1129875                                               Zulu         NaN   \n",
       "1129876                                               Zulu         NaN   \n",
       "\n",
       "         top_critic       publisher_name review_type review_score review_date  \\\n",
       "2             False  FILMINK (Australia)       Fresh          NaN  2010-02-09   \n",
       "80            False        National Post      Rotten        2.5/4  2010-02-12   \n",
       "101            True             Time Out      Rotten          2/5  2010-02-16   \n",
       "182           False        National Post      Rotten        2.5/4  2010-04-30   \n",
       "298           False             TV Guide       Fresh          4/5  2003-06-15   \n",
       "...             ...                  ...         ...          ...         ...   \n",
       "1129233       False                Film4       Fresh          4/5  2008-08-14   \n",
       "1129538       False           Total Film      Rotten          1/5  2013-06-17   \n",
       "1129857       False             TV Guide       Fresh          5/5  2000-01-01   \n",
       "1129875       False           Sky Cinema       Fresh          5/5  2017-07-10   \n",
       "1129876       False      Empire Magazine       Fresh          4/5  2017-07-10   \n",
       "\n",
       "                                            review_content  \n",
       "2        With a top-notch cast and dazzling special eff...  \n",
       "80                                                     NaN  \n",
       "101      It's not enough to compensate for the computer...  \n",
       "182                                                    NaN  \n",
       "298                                                    NaN  \n",
       "...                                                    ...  \n",
       "1129233  It's patchy, but when it hits, Zoolander is as...  \n",
       "1129538  A celluloid clich from first frame to last, it...  \n",
       "1129857  This amazing film is devastatingly accurate in...  \n",
       "1129875  This is that rarity in films - an all-action, ...  \n",
       "1129876  As a spectacular war film with a powerful mora...  \n",
       "\n",
       "[18521 rows x 9 columns]"
      ]
     },
     "execution_count": 54,
     "metadata": {},
     "output_type": "execute_result"
    }
   ],
   "source": [
    "df_tomatoes.isna().sum()\n",
    "\n",
    "#vediamo se associare ad ogni titolo di film un eventuale id presente in df_movies\n",
    "#df_tomatoes.loc[df_tomatoes[\"id_film\"]]...............\n",
    "\n",
    "\n",
    "\n",
    "#questi valori null probabilmente non importanti perchè i valori di rating per la maggior parte ci sono \n",
    "df_tomatoes.loc[df_tomatoes[\"critic_name\"].isna()]   \n",
    "\n"
   ]
  },
  {
   "cell_type": "code",
   "execution_count": null,
   "metadata": {},
   "outputs": [],
   "source": [
    "df_tomatoes.duplicated().sum()\n",
    "\n",
    "#droppare i duplicati solo se sono presenti tutti i valori uguali di questi campi, allora stessa recensione\n",
    "\n",
    "#df_tomatoes=df_tomatoes.drop_duplicates(subset=[\"movie_title\",\"critic_name\",\"publisher_name\",\"review-date\"],keep=\"first\")\n"
   ]
  },
  {
   "cell_type": "markdown",
   "metadata": {},
   "source": [
    "## Analisi df_oscars (Dati degli Oscar)"
   ]
  },
  {
   "cell_type": "code",
   "execution_count": null,
   "metadata": {},
   "outputs": [],
   "source": []
  }
 ],
 "metadata": {
  "kernelspec": {
   "display_name": "Python 3",
   "language": "python",
   "name": "python3"
  },
  "language_info": {
   "codemirror_mode": {
    "name": "ipython",
    "version": 3
   },
   "file_extension": ".py",
   "mimetype": "text/x-python",
   "name": "python",
   "nbconvert_exporter": "python",
   "pygments_lexer": "ipython3",
   "version": "3.13.1"
  }
 },
 "nbformat": 4,
 "nbformat_minor": 2
}
